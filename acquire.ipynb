{
 "cells": [
  {
   "cell_type": "markdown",
   "id": "346676c1",
   "metadata": {},
   "source": [
    "<a id=\"TableOfContents\"></a>\n",
    "# TABLE OF CONTENTS:\n",
    "<li><a href='#imports'>Imports</a></li>\n",
    "<li><a href=\"#gettelco\">Get Telco Dataset</a></li>"
   ]
  },
  {
   "cell_type": "markdown",
   "id": "c12c13c0",
   "metadata": {},
   "source": [
    "##### Orientation:\n",
    "The purpose of this file is to test the functionality of the 'acquire.py' file and ensure that it operates properly."
   ]
  },
  {
   "cell_type": "markdown",
   "id": "8551926e",
   "metadata": {},
   "source": [
    "<a id='imports'></a>\n",
    "# IMPORTS:\n",
    "<li><a href='#TableOfContents'>Table of Contents</a></li>"
   ]
  },
  {
   "cell_type": "code",
   "execution_count": 1,
   "id": "86c63f1a",
   "metadata": {},
   "outputs": [],
   "source": [
    "# Import the 'acquire.py' file to test\n",
    "import acquire"
   ]
  },
  {
   "cell_type": "markdown",
   "id": "8fed66b4",
   "metadata": {},
   "source": [
    "<a id='gettelco'></a>\n",
    "# Get Telco Dataset:\n",
    "<li><a href='#TableOfContents'>Table of Contents</a></li>"
   ]
  },
  {
   "cell_type": "code",
   "execution_count": 2,
   "id": "e0a24f48",
   "metadata": {},
   "outputs": [
    {
     "data": {
      "text/html": [
       "<div>\n",
       "<style scoped>\n",
       "    .dataframe tbody tr th:only-of-type {\n",
       "        vertical-align: middle;\n",
       "    }\n",
       "\n",
       "    .dataframe tbody tr th {\n",
       "        vertical-align: top;\n",
       "    }\n",
       "\n",
       "    .dataframe thead th {\n",
       "        text-align: right;\n",
       "    }\n",
       "</style>\n",
       "<table border=\"1\" class=\"dataframe\">\n",
       "  <thead>\n",
       "    <tr style=\"text-align: right;\">\n",
       "      <th></th>\n",
       "      <th>contract_type_id</th>\n",
       "      <th>payment_type_id</th>\n",
       "      <th>internet_service_type_id</th>\n",
       "      <th>customer_id</th>\n",
       "      <th>gender</th>\n",
       "      <th>senior_citizen</th>\n",
       "      <th>partner</th>\n",
       "      <th>dependents</th>\n",
       "      <th>tenure</th>\n",
       "      <th>phone_service</th>\n",
       "      <th>...</th>\n",
       "      <th>tech_support</th>\n",
       "      <th>streaming_tv</th>\n",
       "      <th>streaming_movies</th>\n",
       "      <th>paperless_billing</th>\n",
       "      <th>monthly_charges</th>\n",
       "      <th>total_charges</th>\n",
       "      <th>churn</th>\n",
       "      <th>internet_service_type</th>\n",
       "      <th>payment_type</th>\n",
       "      <th>contract_type</th>\n",
       "    </tr>\n",
       "  </thead>\n",
       "  <tbody>\n",
       "    <tr>\n",
       "      <th>199</th>\n",
       "      <td>1</td>\n",
       "      <td>2</td>\n",
       "      <td>1</td>\n",
       "      <td>0314-TKOSI</td>\n",
       "      <td>Female</td>\n",
       "      <td>0</td>\n",
       "      <td>No</td>\n",
       "      <td>No</td>\n",
       "      <td>6</td>\n",
       "      <td>Yes</td>\n",
       "      <td>...</td>\n",
       "      <td>No</td>\n",
       "      <td>No</td>\n",
       "      <td>No</td>\n",
       "      <td>No</td>\n",
       "      <td>55.15</td>\n",
       "      <td>322.9</td>\n",
       "      <td>No</td>\n",
       "      <td>DSL</td>\n",
       "      <td>Mailed check</td>\n",
       "      <td>Month-to-month</td>\n",
       "    </tr>\n",
       "  </tbody>\n",
       "</table>\n",
       "<p>1 rows × 24 columns</p>\n",
       "</div>"
      ],
      "text/plain": [
       "     contract_type_id  payment_type_id  internet_service_type_id customer_id  \\\n",
       "199                 1                2                         1  0314-TKOSI   \n",
       "\n",
       "     gender  senior_citizen partner dependents  tenure phone_service  ...  \\\n",
       "199  Female               0      No         No       6           Yes  ...   \n",
       "\n",
       "    tech_support streaming_tv streaming_movies paperless_billing  \\\n",
       "199           No           No               No                No   \n",
       "\n",
       "    monthly_charges total_charges churn internet_service_type  payment_type  \\\n",
       "199           55.15         322.9    No                   DSL  Mailed check   \n",
       "\n",
       "      contract_type  \n",
       "199  Month-to-month  \n",
       "\n",
       "[1 rows x 24 columns]"
      ]
     },
     "execution_count": 2,
     "metadata": {},
     "output_type": "execute_result"
    }
   ],
   "source": [
    "# Acquire the 'telco' dataset\n",
    "telco = acquire.get_telco_data()\n",
    "telco.sample()"
   ]
  }
 ],
 "metadata": {
  "kernelspec": {
   "display_name": "Python 3 (ipykernel)",
   "language": "python",
   "name": "python3"
  },
  "language_info": {
   "codemirror_mode": {
    "name": "ipython",
    "version": 3
   },
   "file_extension": ".py",
   "mimetype": "text/x-python",
   "name": "python",
   "nbconvert_exporter": "python",
   "pygments_lexer": "ipython3",
   "version": "3.9.13"
  }
 },
 "nbformat": 4,
 "nbformat_minor": 5
}
