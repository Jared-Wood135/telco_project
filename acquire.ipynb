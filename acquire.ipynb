{
 "cells": [
  {
   "cell_type": "markdown",
   "id": "346676c1",
   "metadata": {},
   "source": [
    "<a id=\"TableOfContents\"></a>\n",
    "# TABLE OF CONTENTS:\n",
    "<li><a href='#imports'>Imports</a></li>\n",
    "<li><a href=\"#gettelco\">Get Telco Dataset</a></li>"
   ]
  },
  {
   "cell_type": "markdown",
   "id": "c12c13c0",
   "metadata": {},
   "source": [
    "##### Orientation:\n",
    "The purpose of this file is to test the functionality of the 'acquire.py' file and ensure that it operates properly."
   ]
  },
  {
   "cell_type": "markdown",
   "id": "8551926e",
   "metadata": {},
   "source": [
    "<a id='imports'></a>\n",
    "# IMPORTS:\n",
    "<li><a href='#TableOfContents'>Table of Contents</a></li>"
   ]
  },
  {
   "cell_type": "code",
   "execution_count": 1,
   "id": "86c63f1a",
   "metadata": {},
   "outputs": [],
   "source": [
    "# Import the 'acquire.py' file to test\n",
    "import acquire\n",
    "\n",
    "# Base imports\n",
    "import pandas as pd\n",
    "import numpy as np\n",
    "from datetime import datetime"
   ]
  },
  {
   "cell_type": "markdown",
   "id": "8fed66b4",
   "metadata": {},
   "source": [
    "<a id='gettelco'></a>\n",
    "# Get Telco Dataset:\n",
    "<li><a href='#TableOfContents'>Table of Contents</a></li>"
   ]
  },
  {
   "cell_type": "code",
   "execution_count": 2,
   "id": "e0a24f48",
   "metadata": {},
   "outputs": [
    {
     "data": {
      "text/html": [
       "<div>\n",
       "<style scoped>\n",
       "    .dataframe tbody tr th:only-of-type {\n",
       "        vertical-align: middle;\n",
       "    }\n",
       "\n",
       "    .dataframe tbody tr th {\n",
       "        vertical-align: top;\n",
       "    }\n",
       "\n",
       "    .dataframe thead th {\n",
       "        text-align: right;\n",
       "    }\n",
       "</style>\n",
       "<table border=\"1\" class=\"dataframe\">\n",
       "  <thead>\n",
       "    <tr style=\"text-align: right;\">\n",
       "      <th></th>\n",
       "      <th>payment_type_id</th>\n",
       "      <th>internet_service_type_id</th>\n",
       "      <th>contract_type_id</th>\n",
       "      <th>customer_id</th>\n",
       "      <th>gender</th>\n",
       "      <th>senior_citizen</th>\n",
       "      <th>partner</th>\n",
       "      <th>dependents</th>\n",
       "      <th>tenure</th>\n",
       "      <th>phone_service</th>\n",
       "      <th>...</th>\n",
       "      <th>streaming_movies</th>\n",
       "      <th>paperless_billing</th>\n",
       "      <th>monthly_charges</th>\n",
       "      <th>total_charges</th>\n",
       "      <th>churn</th>\n",
       "      <th>churn_month</th>\n",
       "      <th>signup_date</th>\n",
       "      <th>contract_type</th>\n",
       "      <th>internet_service_type</th>\n",
       "      <th>payment_type</th>\n",
       "    </tr>\n",
       "  </thead>\n",
       "  <tbody>\n",
       "    <tr>\n",
       "      <th>1857</th>\n",
       "      <td>2</td>\n",
       "      <td>3</td>\n",
       "      <td>1</td>\n",
       "      <td>2692-PFYTJ</td>\n",
       "      <td>Female</td>\n",
       "      <td>0</td>\n",
       "      <td>No</td>\n",
       "      <td>No</td>\n",
       "      <td>1</td>\n",
       "      <td>Yes</td>\n",
       "      <td>...</td>\n",
       "      <td>No internet service</td>\n",
       "      <td>Yes</td>\n",
       "      <td>25.75</td>\n",
       "      <td>25.75</td>\n",
       "      <td>No</td>\n",
       "      <td>NaN</td>\n",
       "      <td>2021-12-21</td>\n",
       "      <td>Month-to-month</td>\n",
       "      <td>None</td>\n",
       "      <td>Mailed check</td>\n",
       "    </tr>\n",
       "  </tbody>\n",
       "</table>\n",
       "<p>1 rows × 26 columns</p>\n",
       "</div>"
      ],
      "text/plain": [
       "      payment_type_id  internet_service_type_id  contract_type_id customer_id  \\\n",
       "1857                2                         3                 1  2692-PFYTJ   \n",
       "\n",
       "      gender  senior_citizen partner dependents  tenure phone_service  ...  \\\n",
       "1857  Female               0      No         No       1           Yes  ...   \n",
       "\n",
       "         streaming_movies paperless_billing monthly_charges total_charges  \\\n",
       "1857  No internet service               Yes           25.75         25.75   \n",
       "\n",
       "     churn churn_month signup_date   contract_type  internet_service_type  \\\n",
       "1857    No         NaN  2021-12-21  Month-to-month                   None   \n",
       "\n",
       "      payment_type  \n",
       "1857  Mailed check  \n",
       "\n",
       "[1 rows x 26 columns]"
      ]
     },
     "execution_count": 2,
     "metadata": {},
     "output_type": "execute_result"
    }
   ],
   "source": [
    "# Acquire the 'telco' dataset\n",
    "telco = acquire.get_telco_data()\n",
    "telco.sample()"
   ]
  },
  {
   "cell_type": "code",
   "execution_count": 3,
   "id": "ecff7dfa",
   "metadata": {
    "scrolled": true
   },
   "outputs": [
    {
     "name": "stdout",
     "output_type": "stream",
     "text": [
      "<class 'pandas.core.frame.DataFrame'>\n",
      "Int64Index: 7043 entries, 0 to 7042\n",
      "Data columns (total 26 columns):\n",
      " #   Column                    Non-Null Count  Dtype  \n",
      "---  ------                    --------------  -----  \n",
      " 0   payment_type_id           7043 non-null   int64  \n",
      " 1   internet_service_type_id  7043 non-null   int64  \n",
      " 2   contract_type_id          7043 non-null   int64  \n",
      " 3   customer_id               7043 non-null   object \n",
      " 4   gender                    7043 non-null   object \n",
      " 5   senior_citizen            7043 non-null   int64  \n",
      " 6   partner                   7043 non-null   object \n",
      " 7   dependents                7043 non-null   object \n",
      " 8   tenure                    7043 non-null   int64  \n",
      " 9   phone_service             7043 non-null   object \n",
      " 10  multiple_lines            7043 non-null   object \n",
      " 11  online_security           7043 non-null   object \n",
      " 12  online_backup             7043 non-null   object \n",
      " 13  device_protection         7043 non-null   object \n",
      " 14  tech_support              7043 non-null   object \n",
      " 15  streaming_tv              7043 non-null   object \n",
      " 16  streaming_movies          7043 non-null   object \n",
      " 17  paperless_billing         7043 non-null   object \n",
      " 18  monthly_charges           7043 non-null   float64\n",
      " 19  total_charges             7043 non-null   object \n",
      " 20  churn                     7043 non-null   object \n",
      " 21  churn_month               1869 non-null   object \n",
      " 22  signup_date               7043 non-null   object \n",
      " 23  contract_type             7043 non-null   object \n",
      " 24  internet_service_type     7043 non-null   object \n",
      " 25  payment_type              7043 non-null   object \n",
      "dtypes: float64(1), int64(5), object(20)\n",
      "memory usage: 1.5+ MB\n"
     ]
    }
   ],
   "source": [
    "# Check dtypes of columns\n",
    "# ISSUES:\n",
    "'''\n",
    "churn_month : 'object' ==> 'datetime'\n",
    "signup_date : 'object' ==> 'datetime'\n",
    "'''\n",
    "telco.info()"
   ]
  }
 ],
 "metadata": {
  "kernelspec": {
   "display_name": "Python 3 (ipykernel)",
   "language": "python",
   "name": "python3"
  },
  "language_info": {
   "codemirror_mode": {
    "name": "ipython",
    "version": 3
   },
   "file_extension": ".py",
   "mimetype": "text/x-python",
   "name": "python",
   "nbconvert_exporter": "python",
   "pygments_lexer": "ipython3",
   "version": "3.9.13"
  }
 },
 "nbformat": 4,
 "nbformat_minor": 5
}
