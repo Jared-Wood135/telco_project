{
 "cells": [
  {
   "cell_type": "markdown",
   "id": "fcce20a5",
   "metadata": {},
   "source": [
    "<a id=\"TableOfContents\"></a>\n",
    "# TABLE OF CONTENTS:\n",
    "<li><a href='#imports'>Imports</a></li>\n",
    "<li><a href=\"#acquire\">Acquire</a></li>\n",
    "<li><a href=\"#prepare\">Prepare</a></li>\n",
    "<li><a href=\"#explore\">Explore</a></li>\n",
    "<li><a href=\"#models\">Top 3 Models</a></li>\n",
    "<li><a href=\"#conclusion\">Conclusion</a></li>"
   ]
  },
  {
   "cell_type": "markdown",
   "id": "28100f18",
   "metadata": {},
   "source": [
    "##### Orientation:\n",
    "- Overview\n",
    "    - Utilizing the 'telco_churn' dataframe, find what drivers there are to customer churn\n",
    "- Goals\n",
    "    - Using telco data from MySQL\n",
    "    - Clean data for use in jupyter notebook\n",
    "    - Explore data for any significant features\n",
    "    - Create model to predict customer churn"
   ]
  },
  {
   "cell_type": "markdown",
   "id": "1bb989f7",
   "metadata": {},
   "source": [
    "<a id='imports'></a>\n",
    "# Imports:\n",
    "<li><a href='#TableOfContents'>Table of Contents</a></li>"
   ]
  },
  {
   "cell_type": "code",
   "execution_count": null,
   "id": "c5b1018d",
   "metadata": {},
   "outputs": [],
   "source": [
    "# Remove unwanted warning banners\n",
    "import warnings\n",
    "warnings.filterwarnings('ignore')\n",
    "\n",
    "# .py files\n",
    "import acquire\n",
    "import prepare\n",
    "import presentation"
   ]
  },
  {
   "cell_type": "markdown",
   "id": "91ca1c78",
   "metadata": {},
   "source": [
    "<a id='acquire'></a>\n",
    "# Acquire:\n",
    "<li><a href='#TableOfContents'>Table of Contents</a></li>"
   ]
  },
  {
   "cell_type": "markdown",
   "id": "3580aa09",
   "metadata": {},
   "source": [
    "### Methodology:\n",
    "1. Using MySQL\n",
    "    - Check dataframe and tables\n",
    "    - Combine all tables with a single query\n",
    "2. Using Python\n",
    "    - Create SQL connection URL\n",
    "    - Copy SQL query\n",
    "3. Acquire telco data\n",
    "    - pd.read_sql(query, url)"
   ]
  },
  {
   "cell_type": "code",
   "execution_count": null,
   "id": "7c63ee87",
   "metadata": {},
   "outputs": [],
   "source": [
    "# Using the 'acquire.py' import...\n",
    "# Acquire the 'telco_churn' via SQL query and read as pandas dataframe\n",
    "# Get a sample of the imported dataframe\n",
    "acquire.get_telco_data().sample()"
   ]
  },
  {
   "cell_type": "markdown",
   "id": "d9c6e6a9",
   "metadata": {},
   "source": [
    "<a id='prepare'></a>\n",
    "# Prepare:\n",
    "<li><a href='#TableOfContents'>Table of Contents</a></li>"
   ]
  },
  {
   "cell_type": "code",
   "execution_count": null,
   "id": "4314821a",
   "metadata": {},
   "outputs": [],
   "source": [
    "# Using the 'prepare.py' import...\n",
    "# Take the dataframe and prepare it for exploration and modeling\n",
    "# Add new/agg/dummy columns\n",
    "# Fix dtypes of incorrect columns\n",
    "telco = prepare.prep_telco()\n",
    "telco.sample()"
   ]
  },
  {
   "cell_type": "markdown",
   "id": "3c38b057",
   "metadata": {},
   "source": [
    "<a id='explore'></a>\n",
    "# Explore:\n",
    "<li><a href='#TableOfContents'>Table of Contents</a></li>"
   ]
  },
  {
   "cell_type": "markdown",
   "id": "fb96bf40",
   "metadata": {},
   "source": [
    "### Top 4 Features\n",
    "- contract_type\n",
    "- sign_year\n",
    "- tenure\n",
    "- internet_service_type"
   ]
  },
  {
   "cell_type": "code",
   "execution_count": null,
   "id": "2b90d090",
   "metadata": {},
   "outputs": [],
   "source": [
    "# Using the 'presentation.py' import...\n",
    "# Visualize and get the p_value of the top 4 features\n",
    "# when compared with churn\n",
    "presentation.explore()"
   ]
  },
  {
   "cell_type": "markdown",
   "id": "3b39ae2c",
   "metadata": {},
   "source": [
    "<a id='models'></a>\n",
    "# Top 3 Models:\n",
    "<li><a href='#TableOfContents'>Table of Contents</a></li>"
   ]
  },
  {
   "cell_type": "markdown",
   "id": "667b2696",
   "metadata": {},
   "source": [
    "- RFC Model 7\n",
    "- LR Model 1\n",
    "- DTC Model 3"
   ]
  },
  {
   "cell_type": "code",
   "execution_count": null,
   "id": "7c13afe9",
   "metadata": {},
   "outputs": [],
   "source": [
    "# Using the 'presentation.py' file...\n",
    "# Acquire the top 3 models and put their scores in a pandas dataframe\n",
    "presentation.top3models()"
   ]
  },
  {
   "cell_type": "markdown",
   "id": "e8741441",
   "metadata": {},
   "source": [
    "- For overall score:\n",
    "    - Random Forest Classifier\n",
    "        - 78.0%\n",
    "        - +4.5%\n",
    "- For True Positives ('No'):\n",
    "    - Logistic Regression\n",
    "        - 83.7%\n",
    "        - +10.2%\n",
    "- For True Negatives ('Yes'):\n",
    "    - Decision Tree Classifier\n",
    "        - 61.6%\n",
    "        - +61.6%"
   ]
  },
  {
   "cell_type": "markdown",
   "id": "afa11a83",
   "metadata": {},
   "source": [
    "<a id='conclusion'></a>\n",
    "# Conclusion:\n",
    "<li><a href='#TableOfContents'>Table of Contents</a></li>"
   ]
  },
  {
   "cell_type": "markdown",
   "id": "4b373d2c",
   "metadata": {},
   "source": [
    "### Recommendations\n",
    "- Focus advertisement efforts towards families and couples and avoid older population\n",
    "- Market offers as single services or bundled services with at least 3 additional services\n",
    "- For customers, that want internet services\n",
    "    - Get them to go with DSL services\n",
    "    - Minimum add-ons of 3\n",
    "- For paying customers:\n",
    "    - Do not allow monthly contracts\n",
    "    - Do not allow electronic check forms of payment\n",
    "    \n",
    "### Takeaways\n",
    "- Target audience:\n",
    "    - Couples\n",
    "    - Families/Dependents\n",
    "    - Non-senior citizen\n",
    "- Services Emphasis:\n",
    "    - Internet Services:\n",
    "        - No internet or DSL\n",
    "        - No internet or at least bundle 3 add-ons\n",
    "- Payments:\n",
    "    - DO NOT ALLOW ELECTRONIC CHECK\n",
    "- Contracts:\n",
    "    - DO NOT ALLOW MONTH CONTRACT"
   ]
  },
  {
   "cell_type": "code",
   "execution_count": null,
   "id": "8c2b883c",
   "metadata": {},
   "outputs": [],
   "source": []
  }
 ],
 "metadata": {
  "kernelspec": {
   "display_name": "Python 3 (ipykernel)",
   "language": "python",
   "name": "python3"
  },
  "language_info": {
   "codemirror_mode": {
    "name": "ipython",
    "version": 3
   },
   "file_extension": ".py",
   "mimetype": "text/x-python",
   "name": "python",
   "nbconvert_exporter": "python",
   "pygments_lexer": "ipython3",
   "version": "3.9.13"
  }
 },
 "nbformat": 4,
 "nbformat_minor": 5
}
