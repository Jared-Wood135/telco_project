{
 "cells": [
  {
   "cell_type": "markdown",
   "id": "fcce20a5",
   "metadata": {},
   "source": [
    "<a id=\"TableOfContents\"></a>\n",
    "# TABLE OF CONTENTS:\n",
    "<li><a href='#imports'>Imports</a></li>\n",
    "<li><a href=\"#acquire\">Acquire</a></li>\n",
    "<li><a href=\"#prepare\">Prepare</a></li>\n",
    "<li><a href=\"#explore\">Explore</a></li>\n",
    "<li><a href=\"#models\">Top 3 Models</a></li>\n",
    "<li><a href=\"#conclusion\">Conclusion</a></li>"
   ]
  },
  {
   "cell_type": "markdown",
   "id": "28100f18",
   "metadata": {},
   "source": [
    "##### Orientation:\n",
    "- Objective\n",
    "    - Find drivers for customer churn at Telco\n",
    "- Method\n",
    "    - Using telco data from MySQL\n",
    "    - Clean data for use in jupyter notebook\n",
    "    - Explore data for any significant features\n",
    "    - Create model to predict customer churn"
   ]
  },
  {
   "cell_type": "markdown",
   "id": "1bb989f7",
   "metadata": {},
   "source": [
    "<a id='imports'></a>\n",
    "# Imports:\n",
    "<li><a href='#TableOfContents'>Table of Contents</a></li>"
   ]
  },
  {
   "cell_type": "code",
   "execution_count": null,
   "id": "c5b1018d",
   "metadata": {},
   "outputs": [],
   "source": []
  },
  {
   "cell_type": "markdown",
   "id": "91ca1c78",
   "metadata": {},
   "source": [
    "<a id='acquire'></a>\n",
    "# Acquire:\n",
    "<li><a href='#TableOfContents'>Table of Contents</a></li>"
   ]
  },
  {
   "cell_type": "markdown",
   "id": "3580aa09",
   "metadata": {},
   "source": [
    "### Methodology:\n",
    "1. Using MySQL\n",
    "    - Check dataframe and tables\n",
    "    - Combine all tables with a single query\n",
    "2. Using Python\n",
    "    - Create SQL connection URL\n",
    "    - Copy SQL query\n",
    "3. Acquire telco data\n",
    "    - pd.read_sql(query, url)"
   ]
  },
  {
   "cell_type": "markdown",
   "id": "d9c6e6a9",
   "metadata": {},
   "source": [
    "<a id='prepare'></a>\n",
    "# Prepare:\n",
    "<li><a href='#TableOfContents'>Table of Contents</a></li>"
   ]
  },
  {
   "cell_type": "code",
   "execution_count": null,
   "id": "4314821a",
   "metadata": {},
   "outputs": [],
   "source": []
  },
  {
   "cell_type": "markdown",
   "id": "3c38b057",
   "metadata": {},
   "source": [
    "<a id='explore'></a>\n",
    "# Explore:\n",
    "<li><a href='#TableOfContents'>Table of Contents</a></li>"
   ]
  },
  {
   "cell_type": "code",
   "execution_count": null,
   "id": "10257dd7",
   "metadata": {},
   "outputs": [],
   "source": []
  },
  {
   "cell_type": "markdown",
   "id": "3b39ae2c",
   "metadata": {},
   "source": [
    "<a id='models'></a>\n",
    "# Top 3 Models:\n",
    "<li><a href='#TableOfContents'>Table of Contents</a></li>"
   ]
  },
  {
   "cell_type": "code",
   "execution_count": null,
   "id": "200ae332",
   "metadata": {},
   "outputs": [],
   "source": []
  },
  {
   "cell_type": "markdown",
   "id": "afa11a83",
   "metadata": {},
   "source": [
    "<a id='conclusion'></a>\n",
    "# Conclusion:\n",
    "<li><a href='#TableOfContents'>Table of Contents</a></li>"
   ]
  },
  {
   "cell_type": "markdown",
   "id": "4b373d2c",
   "metadata": {},
   "source": [
    "### Recommendations\n",
    "- Focus advertisement efforts towards families and couples and avoid older population\n",
    "- Market offers as single services or bundled services with at least 3 additional services\n",
    "- For customers, establish whether or not they desire additional internet services\n",
    "    - If yes, push bundles of at least 3 additional services\n",
    "    - If no, do not allow additional services between 1 and 2\n",
    "- For paying customers:\n",
    "    - Do not allow monthly contracts\n",
    "    - Do not allow electronic check forms of payment\n",
    "    \n",
    "### Takeaways\n",
    "- Target audience:\n",
    "    - Couples\n",
    "    - Families/Dependents\n",
    "- Services Emphasis:\n",
    "    - Cell Services:\n",
    "        - Not much difference with/without/multiple\n",
    "    - Internet Services:\n",
    "        - Either no internet or at least bundle 3 subs\n",
    "- Payments:\n",
    "    - DO NOT ALLOW ELECTRONIC CHECK\n",
    "- Contracts:\n",
    "    - DO NOT ALLOW MONTH CONTRACT"
   ]
  }
 ],
 "metadata": {
  "kernelspec": {
   "display_name": "Python 3 (ipykernel)",
   "language": "python",
   "name": "python3"
  },
  "language_info": {
   "codemirror_mode": {
    "name": "ipython",
    "version": 3
   },
   "file_extension": ".py",
   "mimetype": "text/x-python",
   "name": "python",
   "nbconvert_exporter": "python",
   "pygments_lexer": "ipython3",
   "version": "3.9.13"
  }
 },
 "nbformat": 4,
 "nbformat_minor": 5
}
