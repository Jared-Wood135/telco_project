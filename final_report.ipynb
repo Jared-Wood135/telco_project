{
 "cells": [
  {
   "cell_type": "markdown",
   "id": "fcce20a5",
   "metadata": {},
   "source": [
    "<a id=\"TableOfContents\"></a>\n",
    "# TABLE OF CONTENTS:\n",
    "<li><a href='#imports'>Imports</a></li>\n",
    "<li><a href=\"#acquire\">Acquire</a></li>\n",
    "<li><a href=\"#prepare\">Prepare</a></li>\n",
    "<li><a href=\"#explore\">Explore</a></li>\n",
    "<li><a href=\"#models\">Top 3 Models</a></li>\n",
    "<li><a href=\"#conclusion\">Conclusion</a></li>"
   ]
  },
  {
   "cell_type": "markdown",
   "id": "28100f18",
   "metadata": {},
   "source": [
    "##### Orientation:\n",
    "- Overview\n",
    "    - Utilizing the 'telco_churn' dataframe, find what drivers there are to customer churn\n",
    "- Goals\n",
    "    - Using telco data from MySQL\n",
    "    - Clean data for use in jupyter notebook\n",
    "    - Explore data for any significant features\n",
    "    - Create model to predict customer churn"
   ]
  },
  {
   "cell_type": "markdown",
   "id": "1bb989f7",
   "metadata": {},
   "source": [
    "<a id='imports'></a>\n",
    "# Imports:\n",
    "<li><a href='#TableOfContents'>Table of Contents</a></li>"
   ]
  },
  {
   "cell_type": "code",
   "execution_count": 1,
   "id": "c5b1018d",
   "metadata": {},
   "outputs": [],
   "source": [
    "# Remove unwanted warning banners\n",
    "import warnings\n",
    "warnings.filterwarnings('ignore')\n",
    "\n",
    "# .py files\n",
    "import acquire\n",
    "import prepare\n",
    "import presentation"
   ]
  },
  {
   "cell_type": "markdown",
   "id": "91ca1c78",
   "metadata": {},
   "source": [
    "<a id='acquire'></a>\n",
    "# Acquire:\n",
    "<li><a href='#TableOfContents'>Table of Contents</a></li>"
   ]
  },
  {
   "cell_type": "markdown",
   "id": "3580aa09",
   "metadata": {},
   "source": [
    "### Methodology:\n",
    "1. Using MySQL\n",
    "    - Check dataframe and tables\n",
    "    - Combine all tables with a single query\n",
    "2. Using Python\n",
    "    - Create SQL connection URL\n",
    "    - Copy SQL query\n",
    "3. Acquire telco data\n",
    "    - pd.read_sql(query, url)"
   ]
  },
  {
   "cell_type": "code",
   "execution_count": 2,
   "id": "87bf5867",
   "metadata": {},
   "outputs": [
    {
     "data": {
      "text/html": [
       "<div>\n",
       "<style scoped>\n",
       "    .dataframe tbody tr th:only-of-type {\n",
       "        vertical-align: middle;\n",
       "    }\n",
       "\n",
       "    .dataframe tbody tr th {\n",
       "        vertical-align: top;\n",
       "    }\n",
       "\n",
       "    .dataframe thead th {\n",
       "        text-align: right;\n",
       "    }\n",
       "</style>\n",
       "<table border=\"1\" class=\"dataframe\">\n",
       "  <thead>\n",
       "    <tr style=\"text-align: right;\">\n",
       "      <th></th>\n",
       "      <th>payment_type_id</th>\n",
       "      <th>internet_service_type_id</th>\n",
       "      <th>contract_type_id</th>\n",
       "      <th>customer_id</th>\n",
       "      <th>gender</th>\n",
       "      <th>senior_citizen</th>\n",
       "      <th>partner</th>\n",
       "      <th>dependents</th>\n",
       "      <th>tenure</th>\n",
       "      <th>phone_service</th>\n",
       "      <th>...</th>\n",
       "      <th>streaming_movies</th>\n",
       "      <th>paperless_billing</th>\n",
       "      <th>monthly_charges</th>\n",
       "      <th>total_charges</th>\n",
       "      <th>churn</th>\n",
       "      <th>churn_month</th>\n",
       "      <th>signup_date</th>\n",
       "      <th>contract_type</th>\n",
       "      <th>internet_service_type</th>\n",
       "      <th>payment_type</th>\n",
       "    </tr>\n",
       "  </thead>\n",
       "  <tbody>\n",
       "    <tr>\n",
       "      <th>6914</th>\n",
       "      <td>1</td>\n",
       "      <td>3</td>\n",
       "      <td>1</td>\n",
       "      <td>9817-APLHW</td>\n",
       "      <td>Male</td>\n",
       "      <td>0</td>\n",
       "      <td>No</td>\n",
       "      <td>No</td>\n",
       "      <td>12</td>\n",
       "      <td>Yes</td>\n",
       "      <td>...</td>\n",
       "      <td>No internet service</td>\n",
       "      <td>No</td>\n",
       "      <td>25.0</td>\n",
       "      <td>316.2</td>\n",
       "      <td>No</td>\n",
       "      <td>NaN</td>\n",
       "      <td>2021-01-21</td>\n",
       "      <td>Month-to-month</td>\n",
       "      <td>None</td>\n",
       "      <td>Electronic check</td>\n",
       "    </tr>\n",
       "  </tbody>\n",
       "</table>\n",
       "<p>1 rows × 26 columns</p>\n",
       "</div>"
      ],
      "text/plain": [
       "      payment_type_id  internet_service_type_id  contract_type_id customer_id  \\\n",
       "6914                1                         3                 1  9817-APLHW   \n",
       "\n",
       "     gender  senior_citizen partner dependents  tenure phone_service  ...  \\\n",
       "6914   Male               0      No         No      12           Yes  ...   \n",
       "\n",
       "         streaming_movies paperless_billing monthly_charges total_charges  \\\n",
       "6914  No internet service                No            25.0         316.2   \n",
       "\n",
       "     churn churn_month signup_date   contract_type  internet_service_type  \\\n",
       "6914    No         NaN  2021-01-21  Month-to-month                   None   \n",
       "\n",
       "          payment_type  \n",
       "6914  Electronic check  \n",
       "\n",
       "[1 rows x 26 columns]"
      ]
     },
     "execution_count": 2,
     "metadata": {},
     "output_type": "execute_result"
    }
   ],
   "source": [
    "# Using the 'acquire.py' import...\n",
    "# Acquire the 'telco_churn' via SQL query and read as pandas dataframe\n",
    "# Get a sample of the imported dataframe\n",
    "acquire.get_telco_data().sample()"
   ]
  },
  {
   "cell_type": "markdown",
   "id": "5753d8e9",
   "metadata": {},
   "source": [
    "##### Justification:\n",
    "Simply want to acquire all the data from the SQL database\n",
    "\n",
    "THEREFORE:\n",
    "- JOIN ALL TABLES"
   ]
  },
  {
   "cell_type": "markdown",
   "id": "d9c6e6a9",
   "metadata": {},
   "source": [
    "<a id='prepare'></a>\n",
    "# Prepare:\n",
    "<li><a href='#TableOfContents'>Table of Contents</a></li>"
   ]
  },
  {
   "cell_type": "code",
   "execution_count": 3,
   "id": "4314821a",
   "metadata": {},
   "outputs": [
    {
     "data": {
      "text/html": [
       "<div>\n",
       "<style scoped>\n",
       "    .dataframe tbody tr th:only-of-type {\n",
       "        vertical-align: middle;\n",
       "    }\n",
       "\n",
       "    .dataframe tbody tr th {\n",
       "        vertical-align: top;\n",
       "    }\n",
       "\n",
       "    .dataframe thead th {\n",
       "        text-align: right;\n",
       "    }\n",
       "</style>\n",
       "<table border=\"1\" class=\"dataframe\">\n",
       "  <thead>\n",
       "    <tr style=\"text-align: right;\">\n",
       "      <th></th>\n",
       "      <th>gender</th>\n",
       "      <th>senior_citizen</th>\n",
       "      <th>partner</th>\n",
       "      <th>dependents</th>\n",
       "      <th>tenure</th>\n",
       "      <th>phone_service</th>\n",
       "      <th>multiple_lines</th>\n",
       "      <th>online_security</th>\n",
       "      <th>online_backup</th>\n",
       "      <th>device_protection</th>\n",
       "      <th>...</th>\n",
       "      <th>sign_dayofweek_1</th>\n",
       "      <th>sign_dayofweek_2</th>\n",
       "      <th>sign_dayofweek_3</th>\n",
       "      <th>sign_dayofweek_4</th>\n",
       "      <th>sign_dayofweek_5</th>\n",
       "      <th>sign_dayofweek_6</th>\n",
       "      <th>total_services</th>\n",
       "      <th>total_extra_services</th>\n",
       "      <th>value_per_total_services</th>\n",
       "      <th>value_per_total_extra_services</th>\n",
       "    </tr>\n",
       "  </thead>\n",
       "  <tbody>\n",
       "    <tr>\n",
       "      <th>4119</th>\n",
       "      <td>Male</td>\n",
       "      <td>0</td>\n",
       "      <td>Yes</td>\n",
       "      <td>Yes</td>\n",
       "      <td>19</td>\n",
       "      <td>Yes</td>\n",
       "      <td>Yes</td>\n",
       "      <td>No</td>\n",
       "      <td>No</td>\n",
       "      <td>No</td>\n",
       "      <td>...</td>\n",
       "      <td>0</td>\n",
       "      <td>0</td>\n",
       "      <td>0</td>\n",
       "      <td>0</td>\n",
       "      <td>0</td>\n",
       "      <td>1</td>\n",
       "      <td>6</td>\n",
       "      <td>3</td>\n",
       "      <td>16.825</td>\n",
       "      <td>33.65</td>\n",
       "    </tr>\n",
       "  </tbody>\n",
       "</table>\n",
       "<p>1 rows × 100 columns</p>\n",
       "</div>"
      ],
      "text/plain": [
       "     gender  senior_citizen partner dependents  tenure phone_service  \\\n",
       "4119   Male               0     Yes        Yes      19           Yes   \n",
       "\n",
       "     multiple_lines online_security online_backup device_protection  ...  \\\n",
       "4119            Yes              No            No                No  ...   \n",
       "\n",
       "     sign_dayofweek_1 sign_dayofweek_2 sign_dayofweek_3 sign_dayofweek_4  \\\n",
       "4119                0                0                0                0   \n",
       "\n",
       "      sign_dayofweek_5  sign_dayofweek_6 total_services total_extra_services  \\\n",
       "4119                 0                 1              6                    3   \n",
       "\n",
       "     value_per_total_services value_per_total_extra_services  \n",
       "4119                   16.825                          33.65  \n",
       "\n",
       "[1 rows x 100 columns]"
      ]
     },
     "execution_count": 3,
     "metadata": {},
     "output_type": "execute_result"
    }
   ],
   "source": [
    "# Using the 'prepare.py' import...\n",
    "# Take the dataframe and prepare it for exploration and modeling\n",
    "# Add new/agg/dummy columns\n",
    "# Fix dtypes of incorrect columns\n",
    "telco = prepare.prep_telco()\n",
    "telco.sample()"
   ]
  },
  {
   "cell_type": "markdown",
   "id": "5fd7cb3f",
   "metadata": {},
   "source": [
    "##### Justification:\n",
    "Want to prepare data for exploration and modeling purposes\n",
    "\n",
    "THEREFORE:\n",
    "- Fix total_charges\n",
    "    - 'object' to 'float'\n",
    "- Fix churn_month\n",
    "    - 'object' to 'datetime'\n",
    "- Fix signup_date\n",
    "    - 'object' to 'datetime'\n",
    "- Break down signup_date\n",
    "    - sign_year\n",
    "        - Detect trends on a yearly basis\n",
    "    - sign_month\n",
    "        - Detect trends on a monthly basis\n",
    "    - sign_day\n",
    "        - Detect trends on a daily basis\n",
    "    - sign_dayofweek\n",
    "        - Detect trends on a day of the week basis\n",
    "- Create total_services\n",
    "    - Aggregate services per customer\n",
    "        - phone_service_Yes\n",
    "        - multiple_lines_Yes\n",
    "        - online_security_Yes \n",
    "        - online_backup_Yes\n",
    "        - device_protection_Yes\n",
    "        - tech_support_Yes\n",
    "        - streaming_tv_Yes\n",
    "        - streaming_movies_Yes \n",
    "        - internet_service_type_DSL \n",
    "        - internet_service_type_Fiber optic\n",
    "    - Detect trends of total services count\n",
    "- Create total_extra_services\n",
    "    - Aggregate extra services per customer\n",
    "        - online_security_Yes \n",
    "        - online_backup_Yes\n",
    "        - device_protection_Yes\n",
    "        - tech_support_Yes\n",
    "        - streaming_tv_Yes\n",
    "        - streaming_movies_Yes \n",
    "    - Detect trends of extra services count\n",
    "- Create value_per_total_services\n",
    "    - Aggregate total_services / monthly_charges\n",
    "    - Detect trends of cost per overall services\n",
    "- Create value_per_total_extra_services\n",
    "    - Aggregate total_extra_services / monthly_charges\n",
    "    - Detect trends of cost per extra services\n",
    "- Create dummies\n",
    "    - Easier to explore/model object columns as dummy values"
   ]
  },
  {
   "cell_type": "markdown",
   "id": "3c38b057",
   "metadata": {},
   "source": [
    "<a id='explore'></a>\n",
    "# Explore:\n",
    "<li><a href='#TableOfContents'>Table of Contents</a></li>"
   ]
  },
  {
   "cell_type": "markdown",
   "id": "5da0d101",
   "metadata": {},
   "source": [
    "### Question:\n",
    "- What top 4 features have the strongest relation with customer churn within the dataset? (P-Value < 0.05)"
   ]
  },
  {
   "cell_type": "markdown",
   "id": "ff4aa427",
   "metadata": {},
   "source": [
    "### Top 5 Features\n",
    "- contract_type\n",
    "- sign_year\n",
    "- tenure\n",
    "- internet_service_type\n",
    "- payment_type"
   ]
  },
  {
   "cell_type": "code",
   "execution_count": 4,
   "id": "1dd18de2",
   "metadata": {},
   "outputs": [
    {
     "data": {
      "image/png": "[encoded data removed]",
      "text/plain": [
       "<Figure size 640x480 with 1 Axes>"
      ]
     },
     "metadata": {},
     "output_type": "display_data"
    },
    {
     "name": "stdout",
     "output_type": "stream",
     "text": [
      "\u001b[32mcontract_type\u001b[0m p_val: 5.863038300673391e-258\n",
      "\n"
     ]
    },
    {
     "data": {
      "image/png": "[encoded data removed]",
      "text/plain": [
       "<Figure size 640x480 with 1 Axes>"
      ]
     },
     "metadata": {},
     "output_type": "display_data"
    },
    {
     "name": "stdout",
     "output_type": "stream",
     "text": [
      "\u001b[32msign_year\u001b[0m p_val: 2.9329097538306124e-188\n",
      "\n"
     ]
    },
    {
     "data": {
      "image/png": "[encoded data removed]",
      "text/plain": [
       "<Figure size 640x480 with 1 Axes>"
      ]
     },
     "metadata": {},
     "output_type": "display_data"
    },
    {
     "name": "stdout",
     "output_type": "stream",
     "text": [
      "\u001b[32mtenure\u001b[0m p_val: 1.2807811055496877e-176\n",
      "\n"
     ]
    },
    {
     "data": {
      "image/png": "[encoded data removed]",
      "text/plain": [
       "<Figure size 640x480 with 1 Axes>"
      ]
     },
     "metadata": {},
     "output_type": "display_data"
    },
    {
     "name": "stdout",
     "output_type": "stream",
     "text": [
      "\u001b[32minternet_service_type\u001b[0m p_val: 9.571788222840544e-160\n",
      "\n"
     ]
    },
    {
     "data": {
      "image/png": "[encoded data removed]",
      "text/plain": [
       "<Figure size 640x480 with 1 Axes>"
      ]
     },
     "metadata": {},
     "output_type": "display_data"
    },
    {
     "name": "stdout",
     "output_type": "stream",
     "text": [
      "\u001b[32mpayment_type\u001b[0m p_val: 3.6823546520097993e-140\n",
      "\n"
     ]
    }
   ],
   "source": [
    "# Using the 'presentation.py' import...\n",
    "# Visualize and get the p_value of the top 4 features\n",
    "# when compared with churn\n",
    "presentation.explore()"
   ]
  },
  {
   "cell_type": "markdown",
   "id": "c55f99a0",
   "metadata": {},
   "source": [
    "### Takeaway:\n",
    "- From all of the features when compared with churn, 'contract_type', 'sign_year', 'tenure', 'internet_service_type', and 'payment_type' have the strongest relations."
   ]
  },
  {
   "cell_type": "markdown",
   "id": "170631e2",
   "metadata": {},
   "source": [
    "##### Justification:\n",
    "Want to find the top 5 features that have the strongest relation to customer churn\n",
    "\n",
    "THEREFORE:\n",
    "- starting with the lowest p-value from a stats test\n",
    "    - Top 5 features"
   ]
  },
  {
   "cell_type": "markdown",
   "id": "3b39ae2c",
   "metadata": {},
   "source": [
    "<a id='models'></a>\n",
    "# Top 3 Models:\n",
    "<li><a href='#TableOfContents'>Table of Contents</a></li>"
   ]
  },
  {
   "cell_type": "markdown",
   "id": "59f52b59",
   "metadata": {},
   "source": [
    "- RFC Model 7\n",
    "- LR Model 1\n",
    "- DTC Model 3"
   ]
  },
  {
   "cell_type": "markdown",
   "id": "bce6e9f0",
   "metadata": {},
   "source": [
    "### Steps:\n",
    "- Feature selection:\n",
    "    - Strongest features:\n",
    "        - 'online_security_No'\n",
    "        - 'online_backup_No'\n",
    "        - 'device_protection_No'\n",
    "        - 'tech_support_No'\n",
    "        - 'contract_type_Month-to-month'\n",
    "        - 'internet_service_type_Fiber_optic'\n",
    "        - 'payment_type_Electronic_check'\n",
    "        - 'sign_year'\n",
    "        - 'tenure'\n",
    "        - 'value_per_total_services'\n",
    "- Hyperparameters:\n",
    "    - 'For loop' for different depths\n",
    "- Model selection:\n",
    "    - Compare 'train', 'val', 'diff' scores then get the 'test' score\n",
    "- TN/TP:\n",
    "    - Using a confusion_matrix\n",
    "    - Compare the TN and TP rates"
   ]
  },
  {
   "cell_type": "code",
   "execution_count": 5,
   "id": "7c2c937a",
   "metadata": {},
   "outputs": [
    {
     "data": {
      "text/html": [
       "<div>\n",
       "<style scoped>\n",
       "    .dataframe tbody tr th:only-of-type {\n",
       "        vertical-align: middle;\n",
       "    }\n",
       "\n",
       "    .dataframe tbody tr th {\n",
       "        vertical-align: top;\n",
       "    }\n",
       "\n",
       "    .dataframe thead th {\n",
       "        text-align: right;\n",
       "    }\n",
       "</style>\n",
       "<table border=\"1\" class=\"dataframe\">\n",
       "  <thead>\n",
       "    <tr style=\"text-align: right;\">\n",
       "      <th></th>\n",
       "      <th>model</th>\n",
       "      <th>test</th>\n",
       "      <th>TP(\"No\")</th>\n",
       "      <th>TN(\"Yes\")</th>\n",
       "    </tr>\n",
       "  </thead>\n",
       "  <tbody>\n",
       "    <tr>\n",
       "      <th>0</th>\n",
       "      <td>actual</td>\n",
       "      <td>100.0</td>\n",
       "      <td>100.0</td>\n",
       "      <td>100.0</td>\n",
       "    </tr>\n",
       "    <tr>\n",
       "      <th>1</th>\n",
       "      <td>baseline</td>\n",
       "      <td>73.5</td>\n",
       "      <td>73.5</td>\n",
       "      <td>0.0</td>\n",
       "    </tr>\n",
       "    <tr>\n",
       "      <th>2</th>\n",
       "      <td>RFC</td>\n",
       "      <td>78.0</td>\n",
       "      <td>83.2</td>\n",
       "      <td>60.5</td>\n",
       "    </tr>\n",
       "    <tr>\n",
       "      <th>3</th>\n",
       "      <td>LR</td>\n",
       "      <td>77.5</td>\n",
       "      <td>83.7</td>\n",
       "      <td>58.3</td>\n",
       "    </tr>\n",
       "    <tr>\n",
       "      <th>4</th>\n",
       "      <td>DTC</td>\n",
       "      <td>76.8</td>\n",
       "      <td>79.4</td>\n",
       "      <td>61.6</td>\n",
       "    </tr>\n",
       "  </tbody>\n",
       "</table>\n",
       "</div>"
      ],
      "text/plain": [
       "      model   test  TP(\"No\")  TN(\"Yes\")\n",
       "0    actual  100.0     100.0      100.0\n",
       "1  baseline   73.5      73.5        0.0\n",
       "2       RFC   78.0      83.2       60.5\n",
       "3        LR   77.5      83.7       58.3\n",
       "4       DTC   76.8      79.4       61.6"
      ]
     },
     "execution_count": 5,
     "metadata": {},
     "output_type": "execute_result"
    }
   ],
   "source": [
    "# Using the 'presentation.py' file...\n",
    "# Acquire the top 3 models and put their scores in a pandas dataframe\n",
    "presentation.top3models()"
   ]
  },
  {
   "cell_type": "markdown",
   "id": "afa3fbc6",
   "metadata": {},
   "source": [
    "- For overall score:\n",
    "    - Random Forest Classifier\n",
    "        - 78.0%\n",
    "        - +4.5%\n",
    "- For True Positives ('No'):\n",
    "    - Logistic Regression\n",
    "        - 83.7%\n",
    "        - +10.2%\n",
    "- For True Negatives ('Yes'):\n",
    "    - Decision Tree Classifier\n",
    "        - 61.6%\n",
    "        - +61.6%"
   ]
  },
  {
   "cell_type": "markdown",
   "id": "e0d69864",
   "metadata": {},
   "source": [
    "##### Justification:\n",
    "Want to find the top 3 performing models to predict customer churn.\n",
    "\n",
    "THEREFORE:\n",
    "- Top model for...\n",
    "    - Overall score:\n",
    "        - If someone does not care whether or not someone churned, but want the best performing model overall\n",
    "    - TP('No'/DID NOT CHURN):\n",
    "        - If someone only cares to predict customers that will not churn\n",
    "    - TN('Yes'/DID CHURN):\n",
    "        - If someone only cares to predict customers that will churn"
   ]
  },
  {
   "cell_type": "markdown",
   "id": "afa11a83",
   "metadata": {},
   "source": [
    "<a id='conclusion'></a>\n",
    "# Conclusion:\n",
    "<li><a href='#TableOfContents'>Table of Contents</a></li>"
   ]
  },
  {
   "cell_type": "markdown",
   "id": "4b373d2c",
   "metadata": {},
   "source": [
    "### Recommendations\n",
    "- Focus advertisement efforts towards families and couples and avoid older population\n",
    "- Market offers as single services or bundled services with at least 3 additional services\n",
    "- For customers, that want internet services\n",
    "    - Get them to go with DSL services\n",
    "    - Minimum add-ons of 3\n",
    "- For paying customers:\n",
    "    - Do not allow monthly contracts\n",
    "    - Do not allow electronic check forms of payment\n",
    "    \n",
    "### Takeaways\n",
    "- Target audience:\n",
    "    - Couples\n",
    "    - Families/Dependents\n",
    "    - Non-senior citizen\n",
    "- Services Emphasis:\n",
    "    - Internet Services:\n",
    "        - No internet or DSL\n",
    "        - No internet or at least bundle 3 add-ons\n",
    "- Payments:\n",
    "    - DO NOT ALLOW ELECTRONIC CHECK\n",
    "- Contracts:\n",
    "    - DO NOT ALLOW MONTH CONTRACT\n",
    "    \n",
    "### If I Had More Time\n",
    "- Why does everyone only signup on the 21st of any given month/year\n",
    "- Why did everyone churn on 31JAN2022\n",
    "- What happened in 2021\n",
    "- Why is tenure getting shorter, but monthly_charges are dropping\n",
    "- Get prices of all services\n",
    "- Check for customer comments/sentiment\n",
    "- Check for local competition\n",
    "- Check for local 'common knowledge'/'norm'\n",
    "- Check advertisements"
   ]
  },
  {
   "cell_type": "code",
   "execution_count": 6,
   "id": "23696af7",
   "metadata": {},
   "outputs": [
    {
     "data": {
      "text/html": [
       "<div>\n",
       "<style scoped>\n",
       "    .dataframe tbody tr th:only-of-type {\n",
       "        vertical-align: middle;\n",
       "    }\n",
       "\n",
       "    .dataframe tbody tr th {\n",
       "        vertical-align: top;\n",
       "    }\n",
       "\n",
       "    .dataframe thead th {\n",
       "        text-align: right;\n",
       "    }\n",
       "</style>\n",
       "<table border=\"1\" class=\"dataframe\">\n",
       "  <thead>\n",
       "    <tr style=\"text-align: right;\">\n",
       "      <th></th>\n",
       "      <th>customer_id</th>\n",
       "      <th>churn</th>\n",
       "      <th>predictions</th>\n",
       "    </tr>\n",
       "  </thead>\n",
       "  <tbody>\n",
       "    <tr>\n",
       "      <th>1247</th>\n",
       "      <td>1845-ZLLIG</td>\n",
       "      <td>No</td>\n",
       "      <td>No</td>\n",
       "    </tr>\n",
       "    <tr>\n",
       "      <th>7011</th>\n",
       "      <td>9945-PSVIP</td>\n",
       "      <td>No</td>\n",
       "      <td>No</td>\n",
       "    </tr>\n",
       "    <tr>\n",
       "      <th>2647</th>\n",
       "      <td>3761-FLYZI</td>\n",
       "      <td>No</td>\n",
       "      <td>No</td>\n",
       "    </tr>\n",
       "    <tr>\n",
       "      <th>6149</th>\n",
       "      <td>8711-LOBKY</td>\n",
       "      <td>No</td>\n",
       "      <td>No</td>\n",
       "    </tr>\n",
       "    <tr>\n",
       "      <th>5797</th>\n",
       "      <td>8164-OCKUJ</td>\n",
       "      <td>No</td>\n",
       "      <td>No</td>\n",
       "    </tr>\n",
       "    <tr>\n",
       "      <th>...</th>\n",
       "      <td>...</td>\n",
       "      <td>...</td>\n",
       "      <td>...</td>\n",
       "    </tr>\n",
       "    <tr>\n",
       "      <th>6534</th>\n",
       "      <td>9278-VZKCD</td>\n",
       "      <td>No</td>\n",
       "      <td>No</td>\n",
       "    </tr>\n",
       "    <tr>\n",
       "      <th>2010</th>\n",
       "      <td>2898-MRKPI</td>\n",
       "      <td>No</td>\n",
       "      <td>No</td>\n",
       "    </tr>\n",
       "    <tr>\n",
       "      <th>570</th>\n",
       "      <td>0839-QNXME</td>\n",
       "      <td>No</td>\n",
       "      <td>No</td>\n",
       "    </tr>\n",
       "    <tr>\n",
       "      <th>362</th>\n",
       "      <td>0531-ZZJWQ</td>\n",
       "      <td>No</td>\n",
       "      <td>No</td>\n",
       "    </tr>\n",
       "    <tr>\n",
       "      <th>6910</th>\n",
       "      <td>9805-FILKB</td>\n",
       "      <td>No</td>\n",
       "      <td>No</td>\n",
       "    </tr>\n",
       "  </tbody>\n",
       "</table>\n",
       "<p>1409 rows × 3 columns</p>\n",
       "</div>"
      ],
      "text/plain": [
       "     customer_id churn predictions\n",
       "1247  1845-ZLLIG    No          No\n",
       "7011  9945-PSVIP    No          No\n",
       "2647  3761-FLYZI    No          No\n",
       "6149  8711-LOBKY    No          No\n",
       "5797  8164-OCKUJ    No          No\n",
       "...          ...   ...         ...\n",
       "6534  9278-VZKCD    No          No\n",
       "2010  2898-MRKPI    No          No\n",
       "570   0839-QNXME    No          No\n",
       "362   0531-ZZJWQ    No          No\n",
       "6910  9805-FILKB    No          No\n",
       "\n",
       "[1409 rows x 3 columns]"
      ]
     },
     "execution_count": 6,
     "metadata": {},
     "output_type": "execute_result"
    }
   ],
   "source": [
    "# Using the 'presentation.py' file...\n",
    "# Create a predictions.csv file using the best model\n",
    "presentation.pred_csv()"
   ]
  },
  {
   "cell_type": "code",
   "execution_count": null,
   "id": "98db9d64",
   "metadata": {},
   "outputs": [],
   "source": []
  }
 ],
 "metadata": {
  "kernelspec": {
   "display_name": "Python 3 (ipykernel)",
   "language": "python",
   "name": "python3"
  },
  "language_info": {
   "codemirror_mode": {
    "name": "ipython",
    "version": 3
   },
   "file_extension": ".py",
   "mimetype": "text/x-python",
   "name": "python",
   "nbconvert_exporter": "python",
   "pygments_lexer": "ipython3",
   "version": "3.9.13"
  }
 },
 "nbformat": 4,
 "nbformat_minor": 5
}
