{
 "cells": [
  {
   "cell_type": "markdown",
   "id": "4efeead4",
   "metadata": {},
   "source": [
    "<a id=\"TableOfContents\"></a>\n",
    "# TABLE OF CONTENTS:\n",
    "<li><a href='#imports'>Imports</a></li>\n",
    "<li><a href=\"#telco\">Get Telco Dataset</a></li>\n",
    "<li><a href=\"#keycol\">Key Columns</a></li>\n",
    "<li><a href=\"#stats\">Explore Stats</a></li>"
   ]
  },
  {
   "cell_type": "markdown",
   "id": "d43e64be",
   "metadata": {},
   "source": [
    "##### Orientation:\n",
    "The purpose of this file is to explore the key columns from the 'telco' dataset identified from 'explore(visuals)' and figure out whether or not the column is useful."
   ]
  },
  {
   "cell_type": "markdown",
   "id": "5e7a74c7",
   "metadata": {},
   "source": [
    "<a id='imports'></a>\n",
    "# IMPORTS:\n",
    "<li><a href='#TableOfContents'>Table of Contents</a></li>"
   ]
  },
  {
   "cell_type": "code",
   "execution_count": 1,
   "id": "93235af1",
   "metadata": {},
   "outputs": [],
   "source": [
    "# Basic\n",
    "import numpy as np\n",
    "import pandas as pd\n",
    "\n",
    "# Visualizations\n",
    "import seaborn as sns\n",
    "import matplotlib.pyplot as plt\n",
    "\n",
    "# Statistics\n",
    "from scipy import stats\n",
    "\n",
    "# Get cleaned 'telco'\n",
    "import prepare\n",
    "\n",
    "# Functions to assist with exploration\n",
    "import explore"
   ]
  },
  {
   "cell_type": "markdown",
   "id": "8264efff",
   "metadata": {},
   "source": [
    "<a id='telco'></a>\n",
    "# Get Telco Dataset:\n",
    "<li><a href='#TableOfContents'>Table of Contents</a></li>"
   ]
  },
  {
   "cell_type": "code",
   "execution_count": 2,
   "id": "adedaf9f",
   "metadata": {},
   "outputs": [
    {
     "name": "stderr",
     "output_type": "stream",
     "text": [
      "/usr/local/anaconda3/lib/python3.9/site-packages/pandas/core/algorithms.py:798: FutureWarning: In a future version, the Index constructor will not infer numeric dtypes when passed object-dtype sequences (matching Series behavior)\n",
      "  uniques = Index(uniques)\n"
     ]
    },
    {
     "data": {
      "text/html": [
       "<div>\n",
       "<style scoped>\n",
       "    .dataframe tbody tr th:only-of-type {\n",
       "        vertical-align: middle;\n",
       "    }\n",
       "\n",
       "    .dataframe tbody tr th {\n",
       "        vertical-align: top;\n",
       "    }\n",
       "\n",
       "    .dataframe thead th {\n",
       "        text-align: right;\n",
       "    }\n",
       "</style>\n",
       "<table border=\"1\" class=\"dataframe\">\n",
       "  <thead>\n",
       "    <tr style=\"text-align: right;\">\n",
       "      <th></th>\n",
       "      <th>gender</th>\n",
       "      <th>senior_citizen</th>\n",
       "      <th>partner</th>\n",
       "      <th>dependents</th>\n",
       "      <th>tenure</th>\n",
       "      <th>phone_service</th>\n",
       "      <th>multiple_lines</th>\n",
       "      <th>online_security</th>\n",
       "      <th>online_backup</th>\n",
       "      <th>device_protection</th>\n",
       "      <th>...</th>\n",
       "      <th>sign_dayofweek_1</th>\n",
       "      <th>sign_dayofweek_2</th>\n",
       "      <th>sign_dayofweek_3</th>\n",
       "      <th>sign_dayofweek_4</th>\n",
       "      <th>sign_dayofweek_5</th>\n",
       "      <th>sign_dayofweek_6</th>\n",
       "      <th>total_services</th>\n",
       "      <th>total_extra_services</th>\n",
       "      <th>value_per_total_services</th>\n",
       "      <th>value_per_total_extra_services</th>\n",
       "    </tr>\n",
       "  </thead>\n",
       "  <tbody>\n",
       "    <tr>\n",
       "      <th>4295</th>\n",
       "      <td>Female</td>\n",
       "      <td>1</td>\n",
       "      <td>Yes</td>\n",
       "      <td>No</td>\n",
       "      <td>69</td>\n",
       "      <td>Yes</td>\n",
       "      <td>Yes</td>\n",
       "      <td>No</td>\n",
       "      <td>Yes</td>\n",
       "      <td>No</td>\n",
       "      <td>...</td>\n",
       "      <td>0</td>\n",
       "      <td>0</td>\n",
       "      <td>1</td>\n",
       "      <td>0</td>\n",
       "      <td>0</td>\n",
       "      <td>0</td>\n",
       "      <td>7</td>\n",
       "      <td>4</td>\n",
       "      <td>15.057143</td>\n",
       "      <td>26.35</td>\n",
       "    </tr>\n",
       "  </tbody>\n",
       "</table>\n",
       "<p>1 rows × 100 columns</p>\n",
       "</div>"
      ],
      "text/plain": [
       "      gender  senior_citizen partner dependents  tenure phone_service  \\\n",
       "4295  Female               1     Yes         No      69           Yes   \n",
       "\n",
       "     multiple_lines online_security online_backup device_protection  ...  \\\n",
       "4295            Yes              No           Yes                No  ...   \n",
       "\n",
       "     sign_dayofweek_1 sign_dayofweek_2 sign_dayofweek_3 sign_dayofweek_4  \\\n",
       "4295                0                0                1                0   \n",
       "\n",
       "      sign_dayofweek_5  sign_dayofweek_6 total_services total_extra_services  \\\n",
       "4295                 0                 0              7                    4   \n",
       "\n",
       "     value_per_total_services value_per_total_extra_services  \n",
       "4295                15.057143                          26.35  \n",
       "\n",
       "[1 rows x 100 columns]"
      ]
     },
     "execution_count": 2,
     "metadata": {},
     "output_type": "execute_result"
    }
   ],
   "source": [
    "# Acquire cleaned 'telco' dataset\n",
    "telco = prepare.prep_telco()\n",
    "telco.sample()"
   ]
  },
  {
   "cell_type": "markdown",
   "id": "6b376c83",
   "metadata": {},
   "source": [
    "<a id='keycol'></a>\n",
    "# Key Columns:\n",
    "<li><a href='#TableOfContents'>Table of Contents</a></li>"
   ]
  },
  {
   "cell_type": "markdown",
   "id": "9d13b76c",
   "metadata": {},
   "source": [
    "### Columns For Further Stat Exploration\n",
    "- Categorical Values:\n",
    "    - 'partner' = 'Yes'\n",
    "    - 'dependents' = 'Yes'\n",
    "    - 'online_security' = 'Yes', 'No internet service'\n",
    "    - 'online_backup = 'Yes', 'No internet service'\n",
    "    - 'device_protection' = 'Yes', 'No internet service'\n",
    "    - 'tech_support' = 'Yes', 'No internet service'\n",
    "    - 'streaming_tv' = 'No internet service'\n",
    "    - 'streaming_movies' = 'No internet service'\n",
    "    - 'paperless_billing = 'No'\n",
    "    - 'contract_type' = 'One year', 'Two year'\n",
    "    - 'internet_service_type' = 'DSL', 'None'\n",
    "    - 'payment_type' = 'Mailed_check', 'Credit_card_(automatic)', 'Bank_transfer_(automatic)'\n",
    "    - 'sign_year' < '2020'\n",
    "    - 'sign_month' < '10'\n",
    "    - 'sign_dayofweek' != '1' (Tuesday)\n",
    "    - 'total_services' = '1', '2', '6', '7', '8', '9'\n",
    "    - 'total_extra_services' > '3'\n",
    "- Continuous Values:\n",
    "    - 'senior_citizen' == '0'\n",
    "    - 'tenure' > 24\n",
    "    - 'monthly_charges' < 60\n",
    "    - 'value_per_total_services' < 16\n",
    "- KEY AVOIDANCE FACTORS:\n",
    "    - 'payment_type' = 'Electronic check'\n",
    "    - 'contract_type' = 'Month-to-month'\n",
    "    - 'total_services'= '3', '4', '5'\n",
    "    - 'total_extra_services' = '1', '2', '3'"
   ]
  },
  {
   "cell_type": "markdown",
   "id": "960e0b4d",
   "metadata": {},
   "source": [
    "### Additional Comment:\n",
    "- Target audience:\n",
    "    - Couples\n",
    "    - Families/Dependents\n",
    "- Services Emphasis:\n",
    "    - Cell Services:\n",
    "        - Not much difference with/without/multiple\n",
    "    - Internet Services:\n",
    "        - Either no internet or at least bundle 3 subs\n",
    "- Payments:\n",
    "    - DO NOT ALLOW ELECTRONIC CHECK\n",
    "- Contracts:\n",
    "    - DO NOT ALLOW MONTH CONTRACT"
   ]
  },
  {
   "cell_type": "code",
   "execution_count": 61,
   "id": "99304f67",
   "metadata": {},
   "outputs": [],
   "source": [
    "# List for reference\n",
    "catlist = [\n",
    "    'partner',\n",
    "    'dependents',\n",
    "    'online_security',\n",
    "    'online_backup',\n",
    "    'device_protection',\n",
    "    'tech_support',\n",
    "    'streaming_tv',\n",
    "    'streaming_movies',\n",
    "    'paperless_billing',\n",
    "    'contract_type',\n",
    "    'internet_service_type',\n",
    "    'payment_type',\n",
    "    'sign_year',\n",
    "    'sign_month',\n",
    "    'sign_dayofweek',\n",
    "    'total_services',\n",
    "    'total_extra_services'\n",
    "]"
   ]
  },
  {
   "cell_type": "markdown",
   "id": "98bb4c9d",
   "metadata": {},
   "source": [
    "<a id='stats'></a>\n",
    "# Explore Stats:\n",
    "<li><a href='#TableOfContents'>Table of Contents</a></li>"
   ]
  },
  {
   "cell_type": "markdown",
   "id": "c480f036",
   "metadata": {},
   "source": [
    "$H_0$ : For each of the identified columns, the column does not have an impact on a customer's churn.\n",
    "\n",
    "$H_a$ : For each of the identified columns, the column has an impact on a customer's churn."
   ]
  },
  {
   "cell_type": "code",
   "execution_count": 62,
   "id": "30830643",
   "metadata": {},
   "outputs": [
    {
     "name": "stdout",
     "output_type": "stream",
     "text": [
      "\u001b[32mpartner\u001b[0m has an impact: 2.1399113440759935e-36\n",
      "\n",
      "\u001b[32mdependents\u001b[0m has an impact: 4.9249216612154196e-43\n",
      "\n",
      "\u001b[32monline_security\u001b[0m has an impact: 2.661149635176552e-185\n",
      "\n",
      "\u001b[32monline_backup\u001b[0m has an impact: 2.0797592160864276e-131\n",
      "\n",
      "\u001b[32mdevice_protection\u001b[0m has an impact: 5.505219496457244e-122\n",
      "\n",
      "\u001b[32mtech_support\u001b[0m has an impact: 1.4430840279998987e-180\n",
      "\n",
      "\u001b[32mstreaming_tv\u001b[0m has an impact: 5.528994485739183e-82\n",
      "\n",
      "\u001b[32mstreaming_movies\u001b[0m has an impact: 2.667756755723681e-82\n",
      "\n",
      "\u001b[32mpaperless_billing\u001b[0m has an impact: 4.073354668665985e-58\n",
      "\n",
      "\u001b[32mcontract_type\u001b[0m has an impact: 5.863038300673391e-258\n",
      "\n",
      "\u001b[32minternet_service_type\u001b[0m has an impact: 9.571788222840544e-160\n",
      "\n",
      "\u001b[32mpayment_type\u001b[0m has an impact: 3.6823546520097993e-140\n",
      "\n",
      "\u001b[32msign_year\u001b[0m has an impact: 2.9329097538306124e-188\n",
      "\n",
      "\u001b[32msign_month\u001b[0m has an impact: 4.1755074288852813e-76\n",
      "\n",
      "\u001b[32msign_dayofweek\u001b[0m has an impact: 3.891775403142802e-43\n",
      "\n",
      "\u001b[32mtotal_services\u001b[0m has an impact: 5.003495854384364e-96\n",
      "\n",
      "\u001b[32mtotal_extra_services\u001b[0m has an impact: 2.4739281727305314e-81\n",
      "\n"
     ]
    }
   ],
   "source": [
    "# Utilize chi2 loop testing due to all cols \n",
    "# being of categorical types\n",
    "# Compare to CHURN\n",
    "for x in catlist:\n",
    "    observed = pd.crosstab(telco[x], telco.churn)\n",
    "    alpha = 0.05\n",
    "    p_val = stats.chi2_contingency(observed)[1]\n",
    "    if alpha > p_val:\n",
    "        print(f'\\033[32m{x}\\033[0m has an impact: {p_val}\\n')\n",
    "    else:\n",
    "        print(f'\\033[31m{x}\\033[0m does not have an impact: {p_val}\\n')"
   ]
  },
  {
   "cell_type": "markdown",
   "id": "818f1aa3",
   "metadata": {},
   "source": [
    "$H_0$ : For each of the identified columns, the column does not have an impact on a customer's tenure.\n",
    "\n",
    "$H_a$ : For each of the identified columns, the column has an impact on a customer's tenure."
   ]
  },
  {
   "cell_type": "code",
   "execution_count": 5,
   "id": "65f21dbb",
   "metadata": {},
   "outputs": [
    {
     "data": {
      "text/plain": [
       "32.37114865824223"
      ]
     },
     "execution_count": 5,
     "metadata": {},
     "output_type": "execute_result"
    }
   ],
   "source": [
    "# Tenure mean\n",
    "tenuremean = telco.tenure.mean()\n",
    "tenuremean"
   ]
  },
  {
   "cell_type": "code",
   "execution_count": 6,
   "id": "78ce264a",
   "metadata": {},
   "outputs": [],
   "source": [
    "# EXPLORE LATER\n",
    "def ttestind(subset_var1, subset_var2):\n",
    "    '''\n",
    "    Returns a statistic and p-value as well as a visualization using the T-Test, independent methodology\n",
    "    (ttest_ind is used for comparing two independent subsets and a shared value)\n",
    "    stats.ttest_ind(mpg[mpg.year == 1999].cty, mpg[mpg.year == 2008].cty)\n",
    "    Tests the relationship of city mileage between 1999 and 2008 vehicles\n",
    "    '''\n",
    "    stat, pval = stats.ttest_ind(subset_var1, subset_var2)\n",
    "    print(f'\\033[32mStatistic =\\033[0m {stat}\\n\\033[32mP-value =\\033[0m {pval}')\n",
    "    sns.distplot(subset_var1, label='Subset 1')\n",
    "    sns.distplot(subset_var2, label='Subset 2')\n",
    "    plt.title(f'Relationship between {subset_var1} and {subset_var2}')\n",
    "    plt.legend()\n",
    "    plt.show()"
   ]
  },
  {
   "cell_type": "code",
   "execution_count": 7,
   "id": "9cced82c",
   "metadata": {},
   "outputs": [
    {
     "name": "stdout",
     "output_type": "stream",
     "text": [
      "\u001b[32mStatistic =\u001b[0m 34.43984224866432\n",
      "\u001b[32mP-value =\u001b[0m 2.3346945130970824e-240\n"
     ]
    },
    {
     "name": "stderr",
     "output_type": "stream",
     "text": [
      "/usr/local/anaconda3/lib/python3.9/site-packages/seaborn/distributions.py:2619: FutureWarning: `distplot` is a deprecated function and will be removed in a future version. Please adapt your code to use either `displot` (a figure-level function with similar flexibility) or `histplot` (an axes-level function for histograms).\n",
      "  warnings.warn(msg, FutureWarning)\n",
      "/usr/local/anaconda3/lib/python3.9/site-packages/seaborn/distributions.py:2619: FutureWarning: `distplot` is a deprecated function and will be removed in a future version. Please adapt your code to use either `displot` (a figure-level function with similar flexibility) or `histplot` (an axes-level function for histograms).\n",
      "  warnings.warn(msg, FutureWarning)\n"
     ]
    },
    {
     "data": {
      "image/png": "[encoded data removed]",
      "text/plain": [
       "<Figure size 640x480 with 1 Axes>"
      ]
     },
     "metadata": {},
     "output_type": "display_data"
    }
   ],
   "source": [
    "ttestind(telco[telco.partner == 'Yes'].tenure, telco[telco.partner == 'No'].tenure)"
   ]
  },
  {
   "cell_type": "code",
   "execution_count": 10,
   "id": "bc831a55",
   "metadata": {},
   "outputs": [
    {
     "ename": "NameError",
     "evalue": "name 'vallist' is not defined",
     "output_type": "error",
     "traceback": [
      "\u001b[0;31m---------------------------------------------------------------------------\u001b[0m",
      "\u001b[0;31mNameError\u001b[0m                                 Traceback (most recent call last)",
      "\u001b[0;32m/var/folders/6x/kctcvd8x6l18t57t92kmqy6w0000gn/T/ipykernel_18912/3831576647.py\u001b[0m in \u001b[0;36m<module>\u001b[0;34m\u001b[0m\n\u001b[1;32m      2\u001b[0m \u001b[0;31m# being of categorical types compared to a\u001b[0m\u001b[0;34m\u001b[0m\u001b[0;34m\u001b[0m\u001b[0m\n\u001b[1;32m      3\u001b[0m \u001b[0;31m# continuous column TENURE\u001b[0m\u001b[0;34m\u001b[0m\u001b[0;34m\u001b[0m\u001b[0m\n\u001b[0;32m----> 4\u001b[0;31m \u001b[0;32mfor\u001b[0m \u001b[0mx\u001b[0m \u001b[0;32min\u001b[0m \u001b[0mvallist\u001b[0m\u001b[0;34m:\u001b[0m\u001b[0;34m\u001b[0m\u001b[0;34m\u001b[0m\u001b[0m\n\u001b[0m\u001b[1;32m      5\u001b[0m     \u001b[0malpha\u001b[0m \u001b[0;34m=\u001b[0m \u001b[0;36m0.05\u001b[0m\u001b[0;34m\u001b[0m\u001b[0;34m\u001b[0m\u001b[0m\n\u001b[1;32m      6\u001b[0m     \u001b[0mp_val\u001b[0m \u001b[0;34m=\u001b[0m \u001b[0mstats\u001b[0m\u001b[0;34m.\u001b[0m\u001b[0mttest_1samp\u001b[0m\u001b[0;34m(\u001b[0m\u001b[0mx\u001b[0m\u001b[0;34m,\u001b[0m \u001b[0mtenuremean\u001b[0m\u001b[0;34m)\u001b[0m\u001b[0;34m\u001b[0m\u001b[0;34m\u001b[0m\u001b[0m\n",
      "\u001b[0;31mNameError\u001b[0m: name 'vallist' is not defined"
     ]
    }
   ],
   "source": [
    "# Utilize ttest-1samp due to all columns\n",
    "# being of categorical types compared to a\n",
    "# continuous column TENURE\n",
    "for x in vallist:\n",
    "    alpha = 0.05\n",
    "    p_val = stats.ttest_1samp(x, tenuremean)\n",
    "    if alpha > p_val:\n",
    "        print(f'\\033[32m{x}\\033[0m has an impact: {p_val}\\n')\n",
    "    else:\n",
    "        print(f'\\033[31m{x}\\033[0m does not have an impact: {p_val}\\n')"
   ]
  },
  {
   "cell_type": "code",
   "execution_count": 14,
   "id": "58fd4e84",
   "metadata": {},
   "outputs": [],
   "source": [
    "vallist = [\n",
    "    'senior_citizen',\n",
    "    'tenure',\n",
    "    'monthly_charges',\n",
    "    'value_per_total_services',\n",
    "    'value_per_total_extra_services',\n",
    "    'churn'\n",
    "]"
   ]
  },
  {
   "cell_type": "code",
   "execution_count": 16,
   "id": "25fe5958",
   "metadata": {},
   "outputs": [
    {
     "data": {
      "text/html": [
       "<div>\n",
       "<style scoped>\n",
       "    .dataframe tbody tr th:only-of-type {\n",
       "        vertical-align: middle;\n",
       "    }\n",
       "\n",
       "    .dataframe tbody tr th {\n",
       "        vertical-align: top;\n",
       "    }\n",
       "\n",
       "    .dataframe thead th {\n",
       "        text-align: right;\n",
       "    }\n",
       "</style>\n",
       "<table border=\"1\" class=\"dataframe\">\n",
       "  <thead>\n",
       "    <tr style=\"text-align: right;\">\n",
       "      <th></th>\n",
       "      <th>senior_citizen</th>\n",
       "      <th>tenure</th>\n",
       "      <th>monthly_charges</th>\n",
       "      <th>value_per_total_services</th>\n",
       "      <th>value_per_total_extra_services</th>\n",
       "      <th>churn</th>\n",
       "    </tr>\n",
       "  </thead>\n",
       "  <tbody>\n",
       "    <tr>\n",
       "      <th>0</th>\n",
       "      <td>0</td>\n",
       "      <td>9</td>\n",
       "      <td>65.60</td>\n",
       "      <td>13.120000</td>\n",
       "      <td>21.866667</td>\n",
       "      <td>No</td>\n",
       "    </tr>\n",
       "    <tr>\n",
       "      <th>1</th>\n",
       "      <td>0</td>\n",
       "      <td>9</td>\n",
       "      <td>59.90</td>\n",
       "      <td>14.975000</td>\n",
       "      <td>59.900000</td>\n",
       "      <td>No</td>\n",
       "    </tr>\n",
       "    <tr>\n",
       "      <th>2</th>\n",
       "      <td>0</td>\n",
       "      <td>4</td>\n",
       "      <td>73.90</td>\n",
       "      <td>24.633333</td>\n",
       "      <td>73.900000</td>\n",
       "      <td>Yes</td>\n",
       "    </tr>\n",
       "    <tr>\n",
       "      <th>3</th>\n",
       "      <td>1</td>\n",
       "      <td>13</td>\n",
       "      <td>98.00</td>\n",
       "      <td>16.333333</td>\n",
       "      <td>24.500000</td>\n",
       "      <td>Yes</td>\n",
       "    </tr>\n",
       "    <tr>\n",
       "      <th>4</th>\n",
       "      <td>1</td>\n",
       "      <td>3</td>\n",
       "      <td>83.90</td>\n",
       "      <td>20.975000</td>\n",
       "      <td>41.950000</td>\n",
       "      <td>Yes</td>\n",
       "    </tr>\n",
       "    <tr>\n",
       "      <th>...</th>\n",
       "      <td>...</td>\n",
       "      <td>...</td>\n",
       "      <td>...</td>\n",
       "      <td>...</td>\n",
       "      <td>...</td>\n",
       "      <td>...</td>\n",
       "    </tr>\n",
       "    <tr>\n",
       "      <th>7038</th>\n",
       "      <td>0</td>\n",
       "      <td>13</td>\n",
       "      <td>55.15</td>\n",
       "      <td>13.787500</td>\n",
       "      <td>27.575000</td>\n",
       "      <td>No</td>\n",
       "    </tr>\n",
       "    <tr>\n",
       "      <th>7039</th>\n",
       "      <td>0</td>\n",
       "      <td>22</td>\n",
       "      <td>85.10</td>\n",
       "      <td>21.275000</td>\n",
       "      <td>85.100000</td>\n",
       "      <td>Yes</td>\n",
       "    </tr>\n",
       "    <tr>\n",
       "      <th>7040</th>\n",
       "      <td>0</td>\n",
       "      <td>2</td>\n",
       "      <td>50.30</td>\n",
       "      <td>16.766667</td>\n",
       "      <td>50.300000</td>\n",
       "      <td>No</td>\n",
       "    </tr>\n",
       "    <tr>\n",
       "      <th>7041</th>\n",
       "      <td>0</td>\n",
       "      <td>67</td>\n",
       "      <td>67.85</td>\n",
       "      <td>11.308333</td>\n",
       "      <td>16.962500</td>\n",
       "      <td>No</td>\n",
       "    </tr>\n",
       "    <tr>\n",
       "      <th>7042</th>\n",
       "      <td>0</td>\n",
       "      <td>63</td>\n",
       "      <td>59.00</td>\n",
       "      <td>9.833333</td>\n",
       "      <td>11.800000</td>\n",
       "      <td>No</td>\n",
       "    </tr>\n",
       "  </tbody>\n",
       "</table>\n",
       "<p>7043 rows × 6 columns</p>\n",
       "</div>"
      ],
      "text/plain": [
       "      senior_citizen  tenure  monthly_charges  value_per_total_services  \\\n",
       "0                  0       9            65.60                 13.120000   \n",
       "1                  0       9            59.90                 14.975000   \n",
       "2                  0       4            73.90                 24.633333   \n",
       "3                  1      13            98.00                 16.333333   \n",
       "4                  1       3            83.90                 20.975000   \n",
       "...              ...     ...              ...                       ...   \n",
       "7038               0      13            55.15                 13.787500   \n",
       "7039               0      22            85.10                 21.275000   \n",
       "7040               0       2            50.30                 16.766667   \n",
       "7041               0      67            67.85                 11.308333   \n",
       "7042               0      63            59.00                  9.833333   \n",
       "\n",
       "      value_per_total_extra_services churn  \n",
       "0                          21.866667    No  \n",
       "1                          59.900000    No  \n",
       "2                          73.900000   Yes  \n",
       "3                          24.500000   Yes  \n",
       "4                          41.950000   Yes  \n",
       "...                              ...   ...  \n",
       "7038                       27.575000    No  \n",
       "7039                       85.100000   Yes  \n",
       "7040                       50.300000    No  \n",
       "7041                       16.962500    No  \n",
       "7042                       11.800000    No  \n",
       "\n",
       "[7043 rows x 6 columns]"
      ]
     },
     "execution_count": 16,
     "metadata": {},
     "output_type": "execute_result"
    }
   ],
   "source": [
    "telco[vallist]"
   ]
  },
  {
   "cell_type": "code",
   "execution_count": 17,
   "id": "5b5259bf",
   "metadata": {},
   "outputs": [
    {
     "name": "stdout",
     "output_type": "stream",
     "text": [
      "What column do you want unique combinations of?\n",
      "churn\n",
      "\u001b[32mNo\u001b[0m and \u001b[32mYes\u001b[0m by \u001b[32msenior_citizen\u001b[0m relationship:\n",
      "\u001b[32mStat:\u001b[0m 4226068.0\n",
      "\u001b[32mP-value:\u001b[0m 9.588356641599048e-37\n",
      "\n",
      "\u001b[32mNo\u001b[0m and \u001b[32mYes\u001b[0m by \u001b[32mtenure\u001b[0m relationship:\n",
      "\u001b[32mStat:\u001b[0m 7154668.0\n",
      "\u001b[32mP-value:\u001b[0m 2.419635517951866e-208\n",
      "\n",
      "\u001b[32mNo\u001b[0m and \u001b[32mYes\u001b[0m by \u001b[32mmonthly_charges\u001b[0m relationship:\n",
      "\u001b[32mStat:\u001b[0m 3667080.5\n",
      "\u001b[32mP-value:\u001b[0m 3.311627651988585e-54\n",
      "\n",
      "\u001b[32mNo\u001b[0m and \u001b[32mYes\u001b[0m by \u001b[32mvalue_per_total_services\u001b[0m relationship:\n",
      "\u001b[32mStat:\u001b[0m 3063819.0\n",
      "\u001b[32mP-value:\u001b[0m 3.2239874533240773e-122\n",
      "\n",
      "\u001b[32mNo\u001b[0m and \u001b[32mYes\u001b[0m by \u001b[32mvalue_per_total_extra_services\u001b[0m relationship:\n",
      "\u001b[32mStat:\u001b[0m 4216037.0\n",
      "\u001b[32mP-value:\u001b[0m 6.923616591374592e-17\n",
      "\n"
     ]
    }
   ],
   "source": [
    "explore.mannwhitneyu(telco[vallist])"
   ]
  },
  {
   "cell_type": "markdown",
   "id": "aef51164",
   "metadata": {},
   "source": [
    "### Takeaways:\n",
    "- All identified columns have a significant impact on a customer's churn rate"
   ]
  },
  {
   "cell_type": "code",
   "execution_count": 53,
   "id": "c1ccbf50",
   "metadata": {},
   "outputs": [
    {
     "data": {
      "text/plain": [
       "0"
      ]
     },
     "execution_count": 53,
     "metadata": {},
     "output_type": "execute_result"
    }
   ],
   "source": [
    "telco.value_per_total_extra_services"
   ]
  },
  {
   "cell_type": "code",
   "execution_count": 55,
   "id": "413693c0",
   "metadata": {},
   "outputs": [
    {
     "data": {
      "text/plain": [
       "2219"
      ]
     },
     "execution_count": 55,
     "metadata": {},
     "output_type": "execute_result"
    }
   ],
   "source": [
    "np.isinf(telco.value_per_total_extra_services).sum()"
   ]
  },
  {
   "cell_type": "code",
   "execution_count": null,
   "id": "15550813",
   "metadata": {},
   "outputs": [],
   "source": []
  }
 ],
 "metadata": {
  "kernelspec": {
   "display_name": "Python 3 (ipykernel)",
   "language": "python",
   "name": "python3"
  },
  "language_info": {
   "codemirror_mode": {
    "name": "ipython",
    "version": 3
   },
   "file_extension": ".py",
   "mimetype": "text/x-python",
   "name": "python",
   "nbconvert_exporter": "python",
   "pygments_lexer": "ipython3",
   "version": "3.9.13"
  }
 },
 "nbformat": 4,
 "nbformat_minor": 5
}
