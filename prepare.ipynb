{
 "cells": [
  {
   "cell_type": "markdown",
   "id": "d5fb0d70",
   "metadata": {},
   "source": [
    "<a id=\"TableOfContents\"></a>\n",
    "# TABLE OF CONTENTS:\n",
    "<li><a href='#imports'>Imports</a></li>\n",
    "<li><a href=\"#preptelco\">Prepare Telco Dataset</a></li>"
   ]
  },
  {
   "cell_type": "markdown",
   "id": "d1985744",
   "metadata": {},
   "source": [
    "##### Orientation:\n",
    "The purpose of this file is to test the functionality of the 'prepare.py' file and ensure that it operates properly."
   ]
  },
  {
   "cell_type": "markdown",
   "id": "f6465bce",
   "metadata": {},
   "source": [
    "<a id='imports'></a>\n",
    "# IMPORTS:\n",
    "<li><a href='#TableOfContents'>Table of Contents</a></li>"
   ]
  },
  {
   "cell_type": "code",
   "execution_count": null,
   "id": "ac44605b",
   "metadata": {},
   "outputs": [],
   "source": [
    "# Import the 'prepare.py' file to test\n",
    "import prepare"
   ]
  },
  {
   "cell_type": "markdown",
   "id": "92adeb30",
   "metadata": {},
   "source": [
    "<a id='preptelco'></a>\n",
    "# Prepare Telco Dataset:\n",
    "<li><a href='#TableOfContents'>Table of Contents</a></li>"
   ]
  },
  {
   "cell_type": "code",
   "execution_count": null,
   "id": "b8e995c9",
   "metadata": {},
   "outputs": [],
   "source": [
    "# Prepare the 'telco' dataframe\n",
    "telco = prepare.prep_telco()\n",
    "telco.sample()"
   ]
  },
  {
   "cell_type": "code",
   "execution_count": null,
   "id": "111d5887",
   "metadata": {},
   "outputs": [],
   "source": [
    "# Ensure 'total_services' and were created properly\n",
    "telco.total_services"
   ]
  },
  {
   "cell_type": "code",
   "execution_count": null,
   "id": "02b468ef",
   "metadata": {},
   "outputs": [],
   "source": [
    "# Ensure 'total_extra_services' and were created properly\n",
    "telco.total_extra_services"
   ]
  }
 ],
 "metadata": {
  "kernelspec": {
   "display_name": "Python 3 (ipykernel)",
   "language": "python",
   "name": "python3"
  },
  "language_info": {
   "codemirror_mode": {
    "name": "ipython",
    "version": 3
   },
   "file_extension": ".py",
   "mimetype": "text/x-python",
   "name": "python",
   "nbconvert_exporter": "python",
   "pygments_lexer": "ipython3",
   "version": "3.9.13"
  }
 },
 "nbformat": 4,
 "nbformat_minor": 5
}
