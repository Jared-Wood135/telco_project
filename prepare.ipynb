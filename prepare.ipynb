{
 "cells": [
  {
   "cell_type": "markdown",
   "id": "d5fb0d70",
   "metadata": {},
   "source": [
    "<a id=\"TableOfContents\"></a>\n",
    "# TABLE OF CONTENTS:\n",
    "<li><a href='#imports'>Imports</a></li>\n",
    "<li><a href=\"#preptelco\">Prepare Telco Dataset</a></li>"
   ]
  },
  {
   "cell_type": "markdown",
   "id": "d1985744",
   "metadata": {},
   "source": [
    "##### Orientation:\n",
    "The purpose of this file is to test the functionality of the 'prepare.py' file and ensure that it operates properly."
   ]
  },
  {
   "cell_type": "markdown",
   "id": "f6465bce",
   "metadata": {},
   "source": [
    "<a id='imports'></a>\n",
    "# IMPORTS:\n",
    "<li><a href='#TableOfContents'>Table of Contents</a></li>"
   ]
  },
  {
   "cell_type": "code",
   "execution_count": 1,
   "id": "ac44605b",
   "metadata": {},
   "outputs": [],
   "source": [
    "# Import the 'prepare.py' file to test\n",
    "import prepare"
   ]
  },
  {
   "cell_type": "markdown",
   "id": "92adeb30",
   "metadata": {},
   "source": [
    "<a id='preptelco'></a>\n",
    "# Prepare Telco Dataset:\n",
    "<li><a href='#TableOfContents'>Table of Contents</a></li>"
   ]
  },
  {
   "cell_type": "code",
   "execution_count": 2,
   "id": "b8e995c9",
   "metadata": {},
   "outputs": [
    {
     "data": {
      "text/html": [
       "<div>\n",
       "<style scoped>\n",
       "    .dataframe tbody tr th:only-of-type {\n",
       "        vertical-align: middle;\n",
       "    }\n",
       "\n",
       "    .dataframe tbody tr th {\n",
       "        vertical-align: top;\n",
       "    }\n",
       "\n",
       "    .dataframe thead th {\n",
       "        text-align: right;\n",
       "    }\n",
       "</style>\n",
       "<table border=\"1\" class=\"dataframe\">\n",
       "  <thead>\n",
       "    <tr style=\"text-align: right;\">\n",
       "      <th></th>\n",
       "      <th>customer_id</th>\n",
       "      <th>gender</th>\n",
       "      <th>senior_citizen</th>\n",
       "      <th>partner</th>\n",
       "      <th>dependents</th>\n",
       "      <th>tenure</th>\n",
       "      <th>phone_service</th>\n",
       "      <th>multiple_lines</th>\n",
       "      <th>online_security</th>\n",
       "      <th>online_backup</th>\n",
       "      <th>...</th>\n",
       "      <th>internet_service_type_None</th>\n",
       "      <th>payment_type_Bank transfer (automatic)</th>\n",
       "      <th>payment_type_Credit card (automatic)</th>\n",
       "      <th>payment_type_Electronic check</th>\n",
       "      <th>payment_type_Mailed check</th>\n",
       "      <th>contract_type_Month-to-month</th>\n",
       "      <th>contract_type_One year</th>\n",
       "      <th>contract_type_Two year</th>\n",
       "      <th>total_services</th>\n",
       "      <th>total_extra_services</th>\n",
       "    </tr>\n",
       "  </thead>\n",
       "  <tbody>\n",
       "    <tr>\n",
       "      <th>6897</th>\n",
       "      <td>9795-VOWON</td>\n",
       "      <td>Male</td>\n",
       "      <td>0</td>\n",
       "      <td>No</td>\n",
       "      <td>No</td>\n",
       "      <td>7</td>\n",
       "      <td>No</td>\n",
       "      <td>No phone service</td>\n",
       "      <td>No</td>\n",
       "      <td>No</td>\n",
       "      <td>...</td>\n",
       "      <td>0</td>\n",
       "      <td>0</td>\n",
       "      <td>1</td>\n",
       "      <td>0</td>\n",
       "      <td>0</td>\n",
       "      <td>0</td>\n",
       "      <td>1</td>\n",
       "      <td>0</td>\n",
       "      <td>1</td>\n",
       "      <td>0</td>\n",
       "    </tr>\n",
       "  </tbody>\n",
       "</table>\n",
       "<p>1 rows × 66 columns</p>\n",
       "</div>"
      ],
      "text/plain": [
       "     customer_id gender  senior_citizen partner dependents  tenure  \\\n",
       "6897  9795-VOWON   Male               0      No         No       7   \n",
       "\n",
       "     phone_service    multiple_lines online_security online_backup  ...  \\\n",
       "6897            No  No phone service              No            No  ...   \n",
       "\n",
       "     internet_service_type_None payment_type_Bank transfer (automatic)  \\\n",
       "6897                          0                                      0   \n",
       "\n",
       "     payment_type_Credit card (automatic) payment_type_Electronic check  \\\n",
       "6897                                    1                             0   \n",
       "\n",
       "     payment_type_Mailed check  contract_type_Month-to-month  \\\n",
       "6897                         0                             0   \n",
       "\n",
       "      contract_type_One year contract_type_Two year total_services  \\\n",
       "6897                       1                      0              1   \n",
       "\n",
       "     total_extra_services  \n",
       "6897                    0  \n",
       "\n",
       "[1 rows x 66 columns]"
      ]
     },
     "execution_count": 2,
     "metadata": {},
     "output_type": "execute_result"
    }
   ],
   "source": [
    "# Prepare the 'telco' dataframe\n",
    "telco = prepare.prep_telco()\n",
    "telco.sample()"
   ]
  },
  {
   "cell_type": "code",
   "execution_count": 3,
   "id": "111d5887",
   "metadata": {},
   "outputs": [
    {
     "data": {
      "text/plain": [
       "0       5\n",
       "1       4\n",
       "2       3\n",
       "3       6\n",
       "4       4\n",
       "       ..\n",
       "7038    4\n",
       "7039    4\n",
       "7040    3\n",
       "7041    6\n",
       "7042    6\n",
       "Name: total_services, Length: 7043, dtype: uint8"
      ]
     },
     "execution_count": 3,
     "metadata": {},
     "output_type": "execute_result"
    }
   ],
   "source": [
    "# Ensure 'total_services' and were created properly\n",
    "telco.total_services"
   ]
  },
  {
   "cell_type": "code",
   "execution_count": 4,
   "id": "02b468ef",
   "metadata": {},
   "outputs": [
    {
     "data": {
      "text/plain": [
       "0       3\n",
       "1       1\n",
       "2       1\n",
       "3       4\n",
       "4       2\n",
       "       ..\n",
       "7038    2\n",
       "7039    1\n",
       "7040    1\n",
       "7041    4\n",
       "7042    5\n",
       "Name: total_extra_services, Length: 7043, dtype: uint8"
      ]
     },
     "execution_count": 4,
     "metadata": {},
     "output_type": "execute_result"
    }
   ],
   "source": [
    "# Ensure 'total_extra_services' and were created properly\n",
    "telco.total_extra_services"
   ]
  }
 ],
 "metadata": {
  "kernelspec": {
   "display_name": "Python 3 (ipykernel)",
   "language": "python",
   "name": "python3"
  },
  "language_info": {
   "codemirror_mode": {
    "name": "ipython",
    "version": 3
   },
   "file_extension": ".py",
   "mimetype": "text/x-python",
   "name": "python",
   "nbconvert_exporter": "python",
   "pygments_lexer": "ipython3",
   "version": "3.9.13"
  }
 },
 "nbformat": 4,
 "nbformat_minor": 5
}
