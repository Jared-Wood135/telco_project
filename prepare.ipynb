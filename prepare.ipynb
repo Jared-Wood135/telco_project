{
 "cells": [
  {
   "cell_type": "markdown",
   "id": "d5fb0d70",
   "metadata": {},
   "source": [
    "<a id=\"TableOfContents\"></a>\n",
    "# TABLE OF CONTENTS:\n",
    "<li><a href='#imports'>Imports</a></li>\n",
    "<li><a href=\"#preptelco\">Prepare Telco Dataset</a></li>"
   ]
  },
  {
   "cell_type": "markdown",
   "id": "d1985744",
   "metadata": {},
   "source": [
    "##### Orientation:\n",
    "The purpose of this file is to test the functionality of the 'prepare.py' file and ensure that it operates properly."
   ]
  },
  {
   "cell_type": "markdown",
   "id": "f6465bce",
   "metadata": {},
   "source": [
    "<a id='imports'></a>\n",
    "# IMPORTS:\n",
    "<li><a href='#TableOfContents'>Table of Contents</a></li>"
   ]
  },
  {
   "cell_type": "code",
   "execution_count": 1,
   "id": "ac44605b",
   "metadata": {},
   "outputs": [],
   "source": [
    "# Import the 'prepare.py' file to test\n",
    "import prepare"
   ]
  },
  {
   "cell_type": "markdown",
   "id": "92adeb30",
   "metadata": {},
   "source": [
    "<a id='preptelco'></a>\n",
    "# Prepare Telco Dataset:\n",
    "<li><a href='#TableOfContents'>Table of Contents</a></li>"
   ]
  },
  {
   "cell_type": "code",
   "execution_count": 2,
   "id": "b8e995c9",
   "metadata": {},
   "outputs": [
    {
     "name": "stderr",
     "output_type": "stream",
     "text": [
      "/usr/local/anaconda3/lib/python3.9/site-packages/pandas/core/algorithms.py:798: FutureWarning: In a future version, the Index constructor will not infer numeric dtypes when passed object-dtype sequences (matching Series behavior)\n",
      "  uniques = Index(uniques)\n"
     ]
    },
    {
     "data": {
      "text/html": [
       "<div>\n",
       "<style scoped>\n",
       "    .dataframe tbody tr th:only-of-type {\n",
       "        vertical-align: middle;\n",
       "    }\n",
       "\n",
       "    .dataframe tbody tr th {\n",
       "        vertical-align: top;\n",
       "    }\n",
       "\n",
       "    .dataframe thead th {\n",
       "        text-align: right;\n",
       "    }\n",
       "</style>\n",
       "<table border=\"1\" class=\"dataframe\">\n",
       "  <thead>\n",
       "    <tr style=\"text-align: right;\">\n",
       "      <th></th>\n",
       "      <th>gender</th>\n",
       "      <th>senior_citizen</th>\n",
       "      <th>partner</th>\n",
       "      <th>dependents</th>\n",
       "      <th>tenure</th>\n",
       "      <th>phone_service</th>\n",
       "      <th>multiple_lines</th>\n",
       "      <th>online_security</th>\n",
       "      <th>online_backup</th>\n",
       "      <th>device_protection</th>\n",
       "      <th>...</th>\n",
       "      <th>sign_dayofweek_1</th>\n",
       "      <th>sign_dayofweek_2</th>\n",
       "      <th>sign_dayofweek_3</th>\n",
       "      <th>sign_dayofweek_4</th>\n",
       "      <th>sign_dayofweek_5</th>\n",
       "      <th>sign_dayofweek_6</th>\n",
       "      <th>total_services</th>\n",
       "      <th>total_extra_services</th>\n",
       "      <th>value_per_total_services</th>\n",
       "      <th>value_per_total_extra_services</th>\n",
       "    </tr>\n",
       "  </thead>\n",
       "  <tbody>\n",
       "    <tr>\n",
       "      <th>5305</th>\n",
       "      <td>Female</td>\n",
       "      <td>1</td>\n",
       "      <td>Yes</td>\n",
       "      <td>No</td>\n",
       "      <td>8</td>\n",
       "      <td>Yes</td>\n",
       "      <td>Yes</td>\n",
       "      <td>No</td>\n",
       "      <td>Yes</td>\n",
       "      <td>No</td>\n",
       "      <td>...</td>\n",
       "      <td>0</td>\n",
       "      <td>0</td>\n",
       "      <td>0</td>\n",
       "      <td>1</td>\n",
       "      <td>0</td>\n",
       "      <td>0</td>\n",
       "      <td>4</td>\n",
       "      <td>1</td>\n",
       "      <td>20.1625</td>\n",
       "      <td>80.65</td>\n",
       "    </tr>\n",
       "  </tbody>\n",
       "</table>\n",
       "<p>1 rows × 100 columns</p>\n",
       "</div>"
      ],
      "text/plain": [
       "      gender  senior_citizen partner dependents  tenure phone_service  \\\n",
       "5305  Female               1     Yes         No       8           Yes   \n",
       "\n",
       "     multiple_lines online_security online_backup device_protection  ...  \\\n",
       "5305            Yes              No           Yes                No  ...   \n",
       "\n",
       "     sign_dayofweek_1 sign_dayofweek_2 sign_dayofweek_3 sign_dayofweek_4  \\\n",
       "5305                0                0                0                1   \n",
       "\n",
       "      sign_dayofweek_5  sign_dayofweek_6 total_services total_extra_services  \\\n",
       "5305                 0                 0              4                    1   \n",
       "\n",
       "     value_per_total_services value_per_total_extra_services  \n",
       "5305                  20.1625                          80.65  \n",
       "\n",
       "[1 rows x 100 columns]"
      ]
     },
     "execution_count": 2,
     "metadata": {},
     "output_type": "execute_result"
    }
   ],
   "source": [
    "# Prepare the 'telco' dataframe\n",
    "telco = prepare.prep_telco()\n",
    "telco.sample()"
   ]
  },
  {
   "cell_type": "code",
   "execution_count": 11,
   "id": "11c37dc7",
   "metadata": {},
   "outputs": [
    {
     "data": {
      "text/plain": [
       "735   NaT\n",
       "Name: churn_month, dtype: datetime64[ns]"
      ]
     },
     "execution_count": 11,
     "metadata": {},
     "output_type": "execute_result"
    }
   ],
   "source": [
    "# Ensure 'churn_month' dtype is 'datetime'\n",
    "telco.churn_month.sample()"
   ]
  },
  {
   "cell_type": "code",
   "execution_count": 12,
   "id": "b105c83c",
   "metadata": {},
   "outputs": [
    {
     "data": {
      "text/plain": [
       "677   2016-05-21\n",
       "Name: signup_date, dtype: datetime64[ns]"
      ]
     },
     "execution_count": 12,
     "metadata": {},
     "output_type": "execute_result"
    }
   ],
   "source": [
    "# Ensure 'signup_date' dtype is 'datetime'\n",
    "telco.signup_date.sample()"
   ]
  },
  {
   "cell_type": "code",
   "execution_count": 13,
   "id": "111d5887",
   "metadata": {},
   "outputs": [
    {
     "data": {
      "text/plain": [
       "780    1\n",
       "Name: total_services, dtype: int64"
      ]
     },
     "execution_count": 13,
     "metadata": {},
     "output_type": "execute_result"
    }
   ],
   "source": [
    "# Ensure 'total_services' and were created properly\n",
    "telco.total_services.sample()"
   ]
  },
  {
   "cell_type": "code",
   "execution_count": 14,
   "id": "02b468ef",
   "metadata": {},
   "outputs": [
    {
     "data": {
      "text/plain": [
       "4238    2\n",
       "Name: total_extra_services, dtype: int64"
      ]
     },
     "execution_count": 14,
     "metadata": {},
     "output_type": "execute_result"
    }
   ],
   "source": [
    "# Ensure 'total_extra_services' and were created properly\n",
    "telco.total_extra_services.sample()"
   ]
  },
  {
   "cell_type": "code",
   "execution_count": 15,
   "id": "3f1992cf",
   "metadata": {},
   "outputs": [
    {
     "data": {
      "text/plain": [
       "5325    2021\n",
       "Name: sign_year, dtype: object"
      ]
     },
     "execution_count": 15,
     "metadata": {},
     "output_type": "execute_result"
    }
   ],
   "source": [
    "# Check for 'sign_year'\n",
    "telco.sign_year.sample()"
   ]
  },
  {
   "cell_type": "code",
   "execution_count": 16,
   "id": "f38cdcd9",
   "metadata": {},
   "outputs": [
    {
     "data": {
      "text/plain": [
       "2288    10\n",
       "Name: sign_month, dtype: object"
      ]
     },
     "execution_count": 16,
     "metadata": {},
     "output_type": "execute_result"
    }
   ],
   "source": [
    "# Check for 'sign_month'\n",
    "telco.sign_month.sample()"
   ]
  },
  {
   "cell_type": "code",
   "execution_count": 17,
   "id": "0e983a62",
   "metadata": {},
   "outputs": [
    {
     "data": {
      "text/plain": [
       "3842    21\n",
       "Name: sign_day, dtype: object"
      ]
     },
     "execution_count": 17,
     "metadata": {},
     "output_type": "execute_result"
    }
   ],
   "source": [
    "# Check for 'sign_day'\n",
    "telco.sign_day.sample()"
   ]
  },
  {
   "cell_type": "code",
   "execution_count": 18,
   "id": "9b625285",
   "metadata": {},
   "outputs": [
    {
     "data": {
      "text/plain": [
       "2594    1\n",
       "Name: sign_dayofweek, dtype: object"
      ]
     },
     "execution_count": 18,
     "metadata": {},
     "output_type": "execute_result"
    }
   ],
   "source": [
    "# Check for 'sign_dayofweek'\n",
    "telco.sign_dayofweek.sample()"
   ]
  },
  {
   "cell_type": "code",
   "execution_count": 19,
   "id": "5e57681b",
   "metadata": {},
   "outputs": [
    {
     "data": {
      "text/plain": [
       "844    19.8\n",
       "Name: value_per_total_services, dtype: float64"
      ]
     },
     "execution_count": 19,
     "metadata": {},
     "output_type": "execute_result"
    }
   ],
   "source": [
    "# Check for 'value_per_total_services'\n",
    "telco.value_per_total_services.sample()"
   ]
  },
  {
   "cell_type": "code",
   "execution_count": 20,
   "id": "36bd8bec",
   "metadata": {},
   "outputs": [
    {
     "data": {
      "text/plain": [
       "822    27.1\n",
       "Name: value_per_total_extra_services, dtype: float64"
      ]
     },
     "execution_count": 20,
     "metadata": {},
     "output_type": "execute_result"
    }
   ],
   "source": [
    "# Check for 'value_per_total_extra_services'\n",
    "telco.value_per_total_extra_services.sample()"
   ]
  },
  {
   "cell_type": "code",
   "execution_count": null,
   "id": "df1416a9",
   "metadata": {},
   "outputs": [],
   "source": []
  }
 ],
 "metadata": {
  "kernelspec": {
   "display_name": "Python 3 (ipykernel)",
   "language": "python",
   "name": "python3"
  },
  "language_info": {
   "codemirror_mode": {
    "name": "ipython",
    "version": 3
   },
   "file_extension": ".py",
   "mimetype": "text/x-python",
   "name": "python",
   "nbconvert_exporter": "python",
   "pygments_lexer": "ipython3",
   "version": "3.9.13"
  }
 },
 "nbformat": 4,
 "nbformat_minor": 5
}
