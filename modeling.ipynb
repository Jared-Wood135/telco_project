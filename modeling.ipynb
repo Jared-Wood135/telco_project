{
 "cells": [
  {
   "cell_type": "markdown",
   "id": "7ad9671e",
   "metadata": {},
   "source": [
    "<a id=\"TableOfContents\"></a>\n",
    "# TABLE OF CONTENTS:\n",
    "<li><a href='#imports'>Imports</a></li>\n",
    "<li><a href=\"#telco\">Get Telco Dataset</a></li>\n",
    "<li><a href=\"#split\">Split Telco Dataset</a></li>\n",
    "<li><a href=\"#keycol\">Key Columns</a></li>\n",
    "<li><a href=\"#DTC\">Decision Tree Classifier Modeling</a></li>\n",
    "<li><a href=\"#RFC\">Random Forest Classifier Modeling</a></li>\n",
    "<li><a href=\"#KNN\">K-Nearest Neighbors Modeling</a></li>\n",
    "<li><a href=\"#LR\">Logistic Regression Modeling</a></li>\n",
    "<li><a href=\"#top3\">Top 3 Models</a></li>"
   ]
  },
  {
   "cell_type": "markdown",
   "id": "eb5bdc9d",
   "metadata": {},
   "source": [
    "##### Orientation:\n",
    "The purpose of this file is to create models to predict whether or not a customer will churn and get the best performing models."
   ]
  },
  {
   "cell_type": "markdown",
   "id": "1a4614c8",
   "metadata": {},
   "source": [
    "<a id='imports'></a>\n",
    "# IMPORTS:\n",
    "<li><a href='#TableOfContents'>Table of Contents</a></li>"
   ]
  },
  {
   "cell_type": "code",
   "execution_count": 1,
   "id": "c5ad124a",
   "metadata": {},
   "outputs": [],
   "source": [
    "# tabular data\n",
    "import numpy as np\n",
    "import pandas as pd\n",
    "\n",
    "# plotting\n",
    "import matplotlib.pyplot as plt\n",
    "import seaborn as sns\n",
    "\n",
    "# DecisionTree modeling:\n",
    "from sklearn.tree import DecisionTreeClassifier as DTC, export_text, plot_tree\n",
    "\n",
    "# RandomForest modeling:\n",
    "from sklearn.ensemble import RandomForestClassifier as RFC\n",
    "\n",
    "# KNN modeling:\n",
    "from sklearn.neighbors import KNeighborsClassifier as KNN\n",
    "\n",
    "# Logistic Regression modeling:\n",
    "from sklearn.linear_model import LogisticRegression as LR\n",
    "\n",
    "# Other sklearn stuff\n",
    "from sklearn.metrics import accuracy_score, classification_report, confusion_matrix\n",
    "from sklearn.model_selection import train_test_split\n",
    "\n",
    "# .py files\n",
    "import prepare\n",
    "import evaluation\n",
    "import model"
   ]
  },
  {
   "cell_type": "markdown",
   "id": "26041fbf",
   "metadata": {},
   "source": [
    "<a id='telco'></a>\n",
    "# Get Telco Dataset:\n",
    "<li><a href='#TableOfContents'>Table of Contents</a></li>"
   ]
  },
  {
   "cell_type": "code",
   "execution_count": 2,
   "id": "292f4ee2",
   "metadata": {},
   "outputs": [
    {
     "data": {
      "text/html": [
       "<div>\n",
       "<style scoped>\n",
       "    .dataframe tbody tr th:only-of-type {\n",
       "        vertical-align: middle;\n",
       "    }\n",
       "\n",
       "    .dataframe tbody tr th {\n",
       "        vertical-align: top;\n",
       "    }\n",
       "\n",
       "    .dataframe thead th {\n",
       "        text-align: right;\n",
       "    }\n",
       "</style>\n",
       "<table border=\"1\" class=\"dataframe\">\n",
       "  <thead>\n",
       "    <tr style=\"text-align: right;\">\n",
       "      <th></th>\n",
       "      <th>gender</th>\n",
       "      <th>senior_citizen</th>\n",
       "      <th>partner</th>\n",
       "      <th>dependents</th>\n",
       "      <th>tenure</th>\n",
       "      <th>phone_service</th>\n",
       "      <th>multiple_lines</th>\n",
       "      <th>online_security</th>\n",
       "      <th>online_backup</th>\n",
       "      <th>device_protection</th>\n",
       "      <th>...</th>\n",
       "      <th>contract_type_Two_year</th>\n",
       "      <th>internet_service_type_DSL</th>\n",
       "      <th>internet_service_type_Fiber_optic</th>\n",
       "      <th>internet_service_type_None</th>\n",
       "      <th>payment_type_Bank_transfer_(automatic)</th>\n",
       "      <th>payment_type_Credit_card_(automatic)</th>\n",
       "      <th>payment_type_Electronic_check</th>\n",
       "      <th>payment_type_Mailed_check</th>\n",
       "      <th>total_services</th>\n",
       "      <th>total_extra_services</th>\n",
       "    </tr>\n",
       "  </thead>\n",
       "  <tbody>\n",
       "    <tr>\n",
       "      <th>5573</th>\n",
       "      <td>Male</td>\n",
       "      <td>1</td>\n",
       "      <td>Yes</td>\n",
       "      <td>No</td>\n",
       "      <td>13</td>\n",
       "      <td>Yes</td>\n",
       "      <td>Yes</td>\n",
       "      <td>Yes</td>\n",
       "      <td>Yes</td>\n",
       "      <td>No</td>\n",
       "      <td>...</td>\n",
       "      <td>0</td>\n",
       "      <td>0</td>\n",
       "      <td>1</td>\n",
       "      <td>0</td>\n",
       "      <td>0</td>\n",
       "      <td>1</td>\n",
       "      <td>0</td>\n",
       "      <td>0</td>\n",
       "      <td>6</td>\n",
       "      <td>3</td>\n",
       "    </tr>\n",
       "  </tbody>\n",
       "</table>\n",
       "<p>1 rows × 67 columns</p>\n",
       "</div>"
      ],
      "text/plain": [
       "     gender  senior_citizen partner dependents  tenure phone_service  \\\n",
       "5573   Male               1     Yes         No      13           Yes   \n",
       "\n",
       "     multiple_lines online_security online_backup device_protection  ...  \\\n",
       "5573            Yes             Yes           Yes                No  ...   \n",
       "\n",
       "     contract_type_Two_year internet_service_type_DSL  \\\n",
       "5573                      0                         0   \n",
       "\n",
       "     internet_service_type_Fiber_optic internet_service_type_None  \\\n",
       "5573                                 1                          0   \n",
       "\n",
       "      payment_type_Bank_transfer_(automatic)  \\\n",
       "5573                                       0   \n",
       "\n",
       "      payment_type_Credit_card_(automatic) payment_type_Electronic_check  \\\n",
       "5573                                     1                             0   \n",
       "\n",
       "     payment_type_Mailed_check total_services total_extra_services  \n",
       "5573                         0              6                    3  \n",
       "\n",
       "[1 rows x 67 columns]"
      ]
     },
     "execution_count": 2,
     "metadata": {},
     "output_type": "execute_result"
    }
   ],
   "source": [
    "# Acquire cleaned 'telco' dataset\n",
    "telco = prepare.prep_telco()\n",
    "telco.sample()"
   ]
  },
  {
   "cell_type": "markdown",
   "id": "2455c557",
   "metadata": {},
   "source": [
    "<a id='split'></a>\n",
    "# Split Telco Dataset:\n",
    "<li><a href='#TableOfContents'>Table of Contents</a></li>"
   ]
  },
  {
   "cell_type": "code",
   "execution_count": 3,
   "id": "f3364d76",
   "metadata": {},
   "outputs": [
    {
     "name": "stdout",
     "output_type": "stream",
     "text": [
      "train.shape:(3943, 67)\n",
      "validate.shape:(1691, 67)\n",
      "test.shape:(1409, 67)\n"
     ]
    }
   ],
   "source": [
    "# Split telco dataset\n",
    "train, val, test = prepare.split(telco, 'churn')"
   ]
  },
  {
   "cell_type": "code",
   "execution_count": 4,
   "id": "1b82677f",
   "metadata": {},
   "outputs": [
    {
     "data": {
      "text/plain": [
       "((3943, 67), (1691, 67), (1409, 67))"
      ]
     },
     "execution_count": 4,
     "metadata": {},
     "output_type": "execute_result"
    }
   ],
   "source": [
    "# Verify split shapes\n",
    "train.shape, val.shape, test.shape"
   ]
  },
  {
   "cell_type": "markdown",
   "id": "79e5a80f",
   "metadata": {},
   "source": [
    "<a id='keycol'></a>\n",
    "# Key Columns:\n",
    "<li><a href='#TableOfContents'>Table of Contents</a></li>"
   ]
  },
  {
   "cell_type": "markdown",
   "id": "b24f02bb",
   "metadata": {},
   "source": [
    "- Columns:\n",
    "    - 'partner'\n",
    "    - 'dependents'\n",
    "    - 'online_security'\n",
    "    - 'online_backup'\n",
    "    - 'device_protection'\n",
    "    - 'tech_support'\n",
    "    - 'streaming_tv'\n",
    "    - 'streaming_movies'\n",
    "    - 'payment_type'\n",
    "    - 'contract_type'\n",
    "    - 'total_services'\n",
    "    - 'total_extra_services'"
   ]
  },
  {
   "cell_type": "code",
   "execution_count": 5,
   "id": "72755129",
   "metadata": {},
   "outputs": [],
   "source": [
    "# List of pertinent columns\n",
    "keylist = [\n",
    "    'partner_Yes',\n",
    "    'partner_No',\n",
    "    'dependents_Yes',\n",
    "    'dependents_No',\n",
    "    'online_security_Yes',\n",
    "    'online_security_No',\n",
    "    'online_security_No_internet_service',\n",
    "    'online_backup_Yes',\n",
    "    'online_backup_No',\n",
    "    'online_backup_No_internet_service',\n",
    "    'device_protection_Yes',\n",
    "    'device_protection_No',\n",
    "    'device_protection_No_internet_service',\n",
    "    'tech_support_Yes',\n",
    "    'tech_support_No',\n",
    "    'tech_support_No_internet_service',\n",
    "    'streaming_tv_Yes',\n",
    "    'streaming_tv_No',\n",
    "    'streaming_tv_No_internet_service',\n",
    "    'streaming_movies_Yes',\n",
    "    'streaming_movies_No',\n",
    "    'streaming_movies_No_internet_service',\n",
    "    'payment_type_Bank_transfer_(automatic)',\n",
    "    'payment_type_Credit_card_(automatic)',\n",
    "    'payment_type_Electronic_check',\n",
    "    'payment_type_Mailed_check',\n",
    "    'contract_type_Month-to-month',\n",
    "    'contract_type_One_year',\n",
    "    'contract_type_Two_year',\n",
    "    'total_services',\n",
    "    'total_extra_services'\n",
    "]"
   ]
  },
  {
   "cell_type": "code",
   "execution_count": 6,
   "id": "b983d547",
   "metadata": {},
   "outputs": [],
   "source": [
    "# Assign x/y train/val/test cols:\n",
    "x_train = train[keylist]\n",
    "y_train = train['churn']\n",
    "x_val = val[keylist]\n",
    "y_val = val['churn']\n",
    "x_test = test[keylist]\n",
    "y_test = test['churn']"
   ]
  },
  {
   "cell_type": "markdown",
   "id": "c5f0e25a",
   "metadata": {},
   "source": [
    "<a id='DTC'></a>\n",
    "# Decision Tree Classifier Modeling:\n",
    "<li><a href='#TableOfContents'>Table of Contents</a></li>"
   ]
  },
  {
   "cell_type": "code",
   "execution_count": 7,
   "id": "58c2a0a5",
   "metadata": {},
   "outputs": [],
   "source": [
    "# Create base dictionary\n",
    "dtcscores = {\n",
    "    'model' : ['actual'],\n",
    "    'train' : [100],\n",
    "    'val' : [100],\n",
    "    'diff' : [0],\n",
    "    'test' : [100]\n",
    "}"
   ]
  },
  {
   "cell_type": "code",
   "execution_count": 8,
   "id": "62eacddc",
   "metadata": {},
   "outputs": [],
   "source": [
    "# Add baseline to dictionary\n",
    "baselinetrain = round((train.churn == 'No').mean(), 5)\n",
    "baselineval = round((val.churn == 'No').mean(), 5)\n",
    "baselinediff = round(abs(baselinetrain - baselineval), 5)\n",
    "baselinetest = round((test.churn == 'No').mean(), 5)\n",
    "dtcscores['model'].append('baseline')\n",
    "dtcscores['train'].append(baselinetrain)\n",
    "dtcscores['val'].append(baselineval)\n",
    "dtcscores['diff'].append(baselinediff)\n",
    "dtcscores['test'].append(baselinetest)"
   ]
  },
  {
   "cell_type": "code",
   "execution_count": 9,
   "id": "103da952",
   "metadata": {},
   "outputs": [
    {
     "data": {
      "text/html": [
       "<div>\n",
       "<style scoped>\n",
       "    .dataframe tbody tr th:only-of-type {\n",
       "        vertical-align: middle;\n",
       "    }\n",
       "\n",
       "    .dataframe tbody tr th {\n",
       "        vertical-align: top;\n",
       "    }\n",
       "\n",
       "    .dataframe thead th {\n",
       "        text-align: right;\n",
       "    }\n",
       "</style>\n",
       "<table border=\"1\" class=\"dataframe\">\n",
       "  <thead>\n",
       "    <tr style=\"text-align: right;\">\n",
       "      <th></th>\n",
       "      <th>model</th>\n",
       "      <th>train</th>\n",
       "      <th>val</th>\n",
       "      <th>diff</th>\n",
       "      <th>test</th>\n",
       "    </tr>\n",
       "  </thead>\n",
       "  <tbody>\n",
       "    <tr>\n",
       "      <th>0</th>\n",
       "      <td>actual</td>\n",
       "      <td>100.00000</td>\n",
       "      <td>100.00000</td>\n",
       "      <td>0.00000</td>\n",
       "      <td>100.00000</td>\n",
       "    </tr>\n",
       "    <tr>\n",
       "      <th>1</th>\n",
       "      <td>baseline</td>\n",
       "      <td>0.73472</td>\n",
       "      <td>0.73448</td>\n",
       "      <td>0.00024</td>\n",
       "      <td>0.73456</td>\n",
       "    </tr>\n",
       "  </tbody>\n",
       "</table>\n",
       "</div>"
      ],
      "text/plain": [
       "      model      train        val     diff       test\n",
       "0    actual  100.00000  100.00000  0.00000  100.00000\n",
       "1  baseline    0.73472    0.73448  0.00024    0.73456"
      ]
     },
     "execution_count": 9,
     "metadata": {},
     "output_type": "execute_result"
    }
   ],
   "source": [
    "# Confirm df funcitonality with actual and baseline\n",
    "pd.DataFrame.from_dict(dtcscores)"
   ]
  },
  {
   "cell_type": "code",
   "execution_count": 10,
   "id": "4d57193d",
   "metadata": {},
   "outputs": [],
   "source": [
    "# Make and fit DTC of 2-15 depth to train\n",
    "for i in range(2, 16):\n",
    "    dtc = DTC(max_depth=i, random_state=100)\n",
    "    dtc.fit(x_train, y_train)\n",
    "    model = dtc.predict(x_train)\n",
    "    trainscore = round(dtc.score(x_train, y_train), 5)\n",
    "    valscore = round(dtc.score(x_val, y_val), 5)\n",
    "    diffscore = round(abs(trainscore - valscore), 5)\n",
    "    testscore = round(dtc.score(x_test, y_test), 5)\n",
    "    dtcscores['model'].append(f'model{i}')\n",
    "    dtcscores['train'].append(trainscore)\n",
    "    dtcscores['val'].append(valscore)\n",
    "    dtcscores['diff'].append(diffscore)\n",
    "    dtcscores['test'].append(testscore)"
   ]
  },
  {
   "cell_type": "code",
   "execution_count": 11,
   "id": "6ebb579a",
   "metadata": {},
   "outputs": [
    {
     "data": {
      "text/html": [
       "<div>\n",
       "<style scoped>\n",
       "    .dataframe tbody tr th:only-of-type {\n",
       "        vertical-align: middle;\n",
       "    }\n",
       "\n",
       "    .dataframe tbody tr th {\n",
       "        vertical-align: top;\n",
       "    }\n",
       "\n",
       "    .dataframe thead th {\n",
       "        text-align: right;\n",
       "    }\n",
       "</style>\n",
       "<table border=\"1\" class=\"dataframe\">\n",
       "  <thead>\n",
       "    <tr style=\"text-align: right;\">\n",
       "      <th></th>\n",
       "      <th>model</th>\n",
       "      <th>train</th>\n",
       "      <th>val</th>\n",
       "      <th>diff</th>\n",
       "      <th>test</th>\n",
       "    </tr>\n",
       "  </thead>\n",
       "  <tbody>\n",
       "    <tr>\n",
       "      <th>0</th>\n",
       "      <td>actual</td>\n",
       "      <td>100.0000</td>\n",
       "      <td>100.00000</td>\n",
       "      <td>0.00000</td>\n",
       "      <td>100.00000</td>\n",
       "    </tr>\n",
       "    <tr>\n",
       "      <th>15</th>\n",
       "      <td>model15</td>\n",
       "      <td>0.8808</td>\n",
       "      <td>0.72028</td>\n",
       "      <td>0.16052</td>\n",
       "      <td>0.70688</td>\n",
       "    </tr>\n",
       "  </tbody>\n",
       "</table>\n",
       "</div>"
      ],
      "text/plain": [
       "      model     train        val     diff       test\n",
       "0    actual  100.0000  100.00000  0.00000  100.00000\n",
       "15  model15    0.8808    0.72028  0.16052    0.70688"
      ]
     },
     "execution_count": 11,
     "metadata": {},
     "output_type": "execute_result"
    }
   ],
   "source": [
    "# Find best 'train' model\n",
    "pd.DataFrame.from_dict(dtcscores).sort_values(by='train', ascending=False).head(2)"
   ]
  },
  {
   "cell_type": "code",
   "execution_count": 12,
   "id": "c01d2f73",
   "metadata": {},
   "outputs": [
    {
     "data": {
      "text/html": [
       "<div>\n",
       "<style scoped>\n",
       "    .dataframe tbody tr th:only-of-type {\n",
       "        vertical-align: middle;\n",
       "    }\n",
       "\n",
       "    .dataframe tbody tr th {\n",
       "        vertical-align: top;\n",
       "    }\n",
       "\n",
       "    .dataframe thead th {\n",
       "        text-align: right;\n",
       "    }\n",
       "</style>\n",
       "<table border=\"1\" class=\"dataframe\">\n",
       "  <thead>\n",
       "    <tr style=\"text-align: right;\">\n",
       "      <th></th>\n",
       "      <th>model</th>\n",
       "      <th>train</th>\n",
       "      <th>val</th>\n",
       "      <th>diff</th>\n",
       "      <th>test</th>\n",
       "    </tr>\n",
       "  </thead>\n",
       "  <tbody>\n",
       "    <tr>\n",
       "      <th>0</th>\n",
       "      <td>actual</td>\n",
       "      <td>100.00000</td>\n",
       "      <td>100.00000</td>\n",
       "      <td>0.00000</td>\n",
       "      <td>100.00000</td>\n",
       "    </tr>\n",
       "    <tr>\n",
       "      <th>4</th>\n",
       "      <td>model4</td>\n",
       "      <td>0.78849</td>\n",
       "      <td>0.76818</td>\n",
       "      <td>0.02031</td>\n",
       "      <td>0.76011</td>\n",
       "    </tr>\n",
       "  </tbody>\n",
       "</table>\n",
       "</div>"
      ],
      "text/plain": [
       "    model      train        val     diff       test\n",
       "0  actual  100.00000  100.00000  0.00000  100.00000\n",
       "4  model4    0.78849    0.76818  0.02031    0.76011"
      ]
     },
     "execution_count": 12,
     "metadata": {},
     "output_type": "execute_result"
    }
   ],
   "source": [
    "# Find best 'val' model\n",
    "pd.DataFrame.from_dict(dtcscores).sort_values(by='val', ascending=False).head(2)"
   ]
  },
  {
   "cell_type": "code",
   "execution_count": 13,
   "id": "ee9ada3b",
   "metadata": {},
   "outputs": [
    {
     "data": {
      "text/html": [
       "<div>\n",
       "<style scoped>\n",
       "    .dataframe tbody tr th:only-of-type {\n",
       "        vertical-align: middle;\n",
       "    }\n",
       "\n",
       "    .dataframe tbody tr th {\n",
       "        vertical-align: top;\n",
       "    }\n",
       "\n",
       "    .dataframe thead th {\n",
       "        text-align: right;\n",
       "    }\n",
       "</style>\n",
       "<table border=\"1\" class=\"dataframe\">\n",
       "  <thead>\n",
       "    <tr style=\"text-align: right;\">\n",
       "      <th></th>\n",
       "      <th>model</th>\n",
       "      <th>train</th>\n",
       "      <th>val</th>\n",
       "      <th>diff</th>\n",
       "      <th>test</th>\n",
       "    </tr>\n",
       "  </thead>\n",
       "  <tbody>\n",
       "    <tr>\n",
       "      <th>0</th>\n",
       "      <td>actual</td>\n",
       "      <td>100.00000</td>\n",
       "      <td>100.00000</td>\n",
       "      <td>0.00000</td>\n",
       "      <td>100.00000</td>\n",
       "    </tr>\n",
       "    <tr>\n",
       "      <th>4</th>\n",
       "      <td>model4</td>\n",
       "      <td>0.78849</td>\n",
       "      <td>0.76818</td>\n",
       "      <td>0.02031</td>\n",
       "      <td>0.76011</td>\n",
       "    </tr>\n",
       "  </tbody>\n",
       "</table>\n",
       "</div>"
      ],
      "text/plain": [
       "    model      train        val     diff       test\n",
       "0  actual  100.00000  100.00000  0.00000  100.00000\n",
       "4  model4    0.78849    0.76818  0.02031    0.76011"
      ]
     },
     "execution_count": 13,
     "metadata": {},
     "output_type": "execute_result"
    }
   ],
   "source": [
    "# Find best 'test' model\n",
    "pd.DataFrame.from_dict(dtcscores).sort_values(by='test', ascending=False).head(2)"
   ]
  },
  {
   "cell_type": "markdown",
   "id": "d0c0af78",
   "metadata": {},
   "source": [
    "- Best Train Model:\n",
    "    - model 15 @ 88.1%\n",
    "        - Restrictions:\n",
    "            - max_depth = 15\n",
    "            - random_state=100\n",
    "- Best Validate Model:\n",
    "    - model 4 @ 76.8%\n",
    "        - Restrictions:\n",
    "            - max_depth = 4\n",
    "            - random_state=100\n",
    "- Best Test Model:\n",
    "    - model 4 @ 76.0%\n",
    "        - Restrictions:\n",
    "            - max_depth = 4\n",
    "            - random_state=100\n",
    "- Baseline:\n",
    "    - 73.5%"
   ]
  },
  {
   "cell_type": "markdown",
   "id": "8f6250aa",
   "metadata": {},
   "source": [
    "<a id='RFC'></a>\n",
    "# Random Forest Classifier Modeling:\n",
    "<li><a href='#TableOfContents'>Table of Contents</a></li>"
   ]
  },
  {
   "cell_type": "code",
   "execution_count": 14,
   "id": "53d620b8",
   "metadata": {},
   "outputs": [],
   "source": [
    "# Create base dictionary\n",
    "rfcscores = {\n",
    "    'model' : ['actual'],\n",
    "    'train' : [100],\n",
    "    'val' : [100],\n",
    "    'diff' : [0],\n",
    "    'test' : [100]\n",
    "}"
   ]
  },
  {
   "cell_type": "code",
   "execution_count": 15,
   "id": "7cbefaed",
   "metadata": {},
   "outputs": [],
   "source": [
    "# Add baseline to dictionary\n",
    "baselinetrain = round((train.churn == 'No').mean(), 5)\n",
    "baselineval = round((val.churn == 'No').mean(), 5)\n",
    "baselinediff = round(abs(baselinetrain - baselineval), 5)\n",
    "baselinetest = round((test.churn == 'No').mean(), 5)\n",
    "rfcscores['model'].append('baseline')\n",
    "rfcscores['train'].append(baselinetrain)\n",
    "rfcscores['val'].append(baselineval)\n",
    "rfcscores['diff'].append(baselinediff)\n",
    "rfcscores['test'].append(baselinetest)"
   ]
  },
  {
   "cell_type": "code",
   "execution_count": 16,
   "id": "c19af717",
   "metadata": {},
   "outputs": [
    {
     "data": {
      "text/html": [
       "<div>\n",
       "<style scoped>\n",
       "    .dataframe tbody tr th:only-of-type {\n",
       "        vertical-align: middle;\n",
       "    }\n",
       "\n",
       "    .dataframe tbody tr th {\n",
       "        vertical-align: top;\n",
       "    }\n",
       "\n",
       "    .dataframe thead th {\n",
       "        text-align: right;\n",
       "    }\n",
       "</style>\n",
       "<table border=\"1\" class=\"dataframe\">\n",
       "  <thead>\n",
       "    <tr style=\"text-align: right;\">\n",
       "      <th></th>\n",
       "      <th>model</th>\n",
       "      <th>train</th>\n",
       "      <th>val</th>\n",
       "      <th>diff</th>\n",
       "      <th>test</th>\n",
       "    </tr>\n",
       "  </thead>\n",
       "  <tbody>\n",
       "    <tr>\n",
       "      <th>0</th>\n",
       "      <td>actual</td>\n",
       "      <td>100.00000</td>\n",
       "      <td>100.00000</td>\n",
       "      <td>0.00000</td>\n",
       "      <td>100.00000</td>\n",
       "    </tr>\n",
       "    <tr>\n",
       "      <th>1</th>\n",
       "      <td>baseline</td>\n",
       "      <td>0.73472</td>\n",
       "      <td>0.73448</td>\n",
       "      <td>0.00024</td>\n",
       "      <td>0.73456</td>\n",
       "    </tr>\n",
       "  </tbody>\n",
       "</table>\n",
       "</div>"
      ],
      "text/plain": [
       "      model      train        val     diff       test\n",
       "0    actual  100.00000  100.00000  0.00000  100.00000\n",
       "1  baseline    0.73472    0.73448  0.00024    0.73456"
      ]
     },
     "execution_count": 16,
     "metadata": {},
     "output_type": "execute_result"
    }
   ],
   "source": [
    "# Confirm df funcitonality with actual and baseline\n",
    "pd.DataFrame.from_dict(rfcscores)"
   ]
  },
  {
   "cell_type": "code",
   "execution_count": 17,
   "id": "1402adbe",
   "metadata": {},
   "outputs": [],
   "source": [
    "# Make and fit RFC of 2-15 depth to train\n",
    "for i in range(2, 16):\n",
    "    rfc = RFC(max_depth=i, random_state=100)\n",
    "    rfc.fit(x_train, y_train)\n",
    "    model = rfc.predict(x_train)\n",
    "    trainscore = round(rfc.score(x_train, y_train), 5)\n",
    "    valscore = round(rfc.score(x_val, y_val), 5)\n",
    "    diffscore = round(abs(trainscore - valscore), 5)\n",
    "    testscore = round(rfc.score(x_test, y_test), 5)\n",
    "    rfcscores['model'].append(f'model{i}')\n",
    "    rfcscores['train'].append(trainscore)\n",
    "    rfcscores['val'].append(valscore)\n",
    "    rfcscores['diff'].append(diffscore)\n",
    "    rfcscores['test'].append(testscore)"
   ]
  },
  {
   "cell_type": "code",
   "execution_count": 18,
   "id": "1b54d6a1",
   "metadata": {},
   "outputs": [
    {
     "data": {
      "text/html": [
       "<div>\n",
       "<style scoped>\n",
       "    .dataframe tbody tr th:only-of-type {\n",
       "        vertical-align: middle;\n",
       "    }\n",
       "\n",
       "    .dataframe tbody tr th {\n",
       "        vertical-align: top;\n",
       "    }\n",
       "\n",
       "    .dataframe thead th {\n",
       "        text-align: right;\n",
       "    }\n",
       "</style>\n",
       "<table border=\"1\" class=\"dataframe\">\n",
       "  <thead>\n",
       "    <tr style=\"text-align: right;\">\n",
       "      <th></th>\n",
       "      <th>model</th>\n",
       "      <th>train</th>\n",
       "      <th>val</th>\n",
       "      <th>diff</th>\n",
       "      <th>test</th>\n",
       "    </tr>\n",
       "  </thead>\n",
       "  <tbody>\n",
       "    <tr>\n",
       "      <th>0</th>\n",
       "      <td>actual</td>\n",
       "      <td>100.0000</td>\n",
       "      <td>100.00000</td>\n",
       "      <td>0.00000</td>\n",
       "      <td>100.00000</td>\n",
       "    </tr>\n",
       "    <tr>\n",
       "      <th>15</th>\n",
       "      <td>model15</td>\n",
       "      <td>0.8808</td>\n",
       "      <td>0.73448</td>\n",
       "      <td>0.14632</td>\n",
       "      <td>0.72605</td>\n",
       "    </tr>\n",
       "  </tbody>\n",
       "</table>\n",
       "</div>"
      ],
      "text/plain": [
       "      model     train        val     diff       test\n",
       "0    actual  100.0000  100.00000  0.00000  100.00000\n",
       "15  model15    0.8808    0.73448  0.14632    0.72605"
      ]
     },
     "execution_count": 18,
     "metadata": {},
     "output_type": "execute_result"
    }
   ],
   "source": [
    "# Find best 'train' model\n",
    "pd.DataFrame.from_dict(rfcscores).sort_values(by='train', ascending=False).head(2)"
   ]
  },
  {
   "cell_type": "code",
   "execution_count": 19,
   "id": "48833a04",
   "metadata": {},
   "outputs": [
    {
     "data": {
      "text/html": [
       "<div>\n",
       "<style scoped>\n",
       "    .dataframe tbody tr th:only-of-type {\n",
       "        vertical-align: middle;\n",
       "    }\n",
       "\n",
       "    .dataframe tbody tr th {\n",
       "        vertical-align: top;\n",
       "    }\n",
       "\n",
       "    .dataframe thead th {\n",
       "        text-align: right;\n",
       "    }\n",
       "</style>\n",
       "<table border=\"1\" class=\"dataframe\">\n",
       "  <thead>\n",
       "    <tr style=\"text-align: right;\">\n",
       "      <th></th>\n",
       "      <th>model</th>\n",
       "      <th>train</th>\n",
       "      <th>val</th>\n",
       "      <th>diff</th>\n",
       "      <th>test</th>\n",
       "    </tr>\n",
       "  </thead>\n",
       "  <tbody>\n",
       "    <tr>\n",
       "      <th>0</th>\n",
       "      <td>actual</td>\n",
       "      <td>100.00000</td>\n",
       "      <td>100.00000</td>\n",
       "      <td>0.00000</td>\n",
       "      <td>100.0000</td>\n",
       "    </tr>\n",
       "    <tr>\n",
       "      <th>6</th>\n",
       "      <td>model6</td>\n",
       "      <td>0.79635</td>\n",
       "      <td>0.76641</td>\n",
       "      <td>0.02994</td>\n",
       "      <td>0.7665</td>\n",
       "    </tr>\n",
       "  </tbody>\n",
       "</table>\n",
       "</div>"
      ],
      "text/plain": [
       "    model      train        val     diff      test\n",
       "0  actual  100.00000  100.00000  0.00000  100.0000\n",
       "6  model6    0.79635    0.76641  0.02994    0.7665"
      ]
     },
     "execution_count": 19,
     "metadata": {},
     "output_type": "execute_result"
    }
   ],
   "source": [
    "# Find best 'val' model\n",
    "pd.DataFrame.from_dict(rfcscores).sort_values(by='val', ascending=False).head(2)"
   ]
  },
  {
   "cell_type": "code",
   "execution_count": 20,
   "id": "8ef0cec2",
   "metadata": {},
   "outputs": [
    {
     "data": {
      "text/html": [
       "<div>\n",
       "<style scoped>\n",
       "    .dataframe tbody tr th:only-of-type {\n",
       "        vertical-align: middle;\n",
       "    }\n",
       "\n",
       "    .dataframe tbody tr th {\n",
       "        vertical-align: top;\n",
       "    }\n",
       "\n",
       "    .dataframe thead th {\n",
       "        text-align: right;\n",
       "    }\n",
       "</style>\n",
       "<table border=\"1\" class=\"dataframe\">\n",
       "  <thead>\n",
       "    <tr style=\"text-align: right;\">\n",
       "      <th></th>\n",
       "      <th>model</th>\n",
       "      <th>train</th>\n",
       "      <th>val</th>\n",
       "      <th>diff</th>\n",
       "      <th>test</th>\n",
       "    </tr>\n",
       "  </thead>\n",
       "  <tbody>\n",
       "    <tr>\n",
       "      <th>0</th>\n",
       "      <td>actual</td>\n",
       "      <td>100.00000</td>\n",
       "      <td>100.00000</td>\n",
       "      <td>0.00000</td>\n",
       "      <td>100.0000</td>\n",
       "    </tr>\n",
       "    <tr>\n",
       "      <th>6</th>\n",
       "      <td>model6</td>\n",
       "      <td>0.79635</td>\n",
       "      <td>0.76641</td>\n",
       "      <td>0.02994</td>\n",
       "      <td>0.7665</td>\n",
       "    </tr>\n",
       "  </tbody>\n",
       "</table>\n",
       "</div>"
      ],
      "text/plain": [
       "    model      train        val     diff      test\n",
       "0  actual  100.00000  100.00000  0.00000  100.0000\n",
       "6  model6    0.79635    0.76641  0.02994    0.7665"
      ]
     },
     "execution_count": 20,
     "metadata": {},
     "output_type": "execute_result"
    }
   ],
   "source": [
    "# Find best 'test' model\n",
    "pd.DataFrame.from_dict(rfcscores).sort_values(by='test', ascending=False).head(2)"
   ]
  },
  {
   "cell_type": "markdown",
   "id": "9182e307",
   "metadata": {},
   "source": [
    "- Best Train Model:\n",
    "    - model 15 @ 88.1%\n",
    "        - Restrictions:\n",
    "            - max_depth = 15\n",
    "            - random_state=100\n",
    "- Best Validate Model:\n",
    "    - model 6 @ 76.6%\n",
    "        - Restrictions:\n",
    "            - max_depth = 6\n",
    "            - random_state=100\n",
    "- Best Test Model:\n",
    "    - model 6 @ 76.7%\n",
    "        - Restrictions:\n",
    "            - max_depth = 6\n",
    "            - random_state=100\n",
    "- Baseline:\n",
    "    - 73.5%"
   ]
  },
  {
   "cell_type": "markdown",
   "id": "e54d7433",
   "metadata": {},
   "source": [
    "<a id='KNN'></a>\n",
    "# K-Nearest Neighbors Modeling:\n",
    "<li><a href='#TableOfContents'>Table of Contents</a></li>"
   ]
  },
  {
   "cell_type": "code",
   "execution_count": 21,
   "id": "83827889",
   "metadata": {},
   "outputs": [],
   "source": [
    "# Create base dictionary\n",
    "knnscores = {\n",
    "    'model' : ['actual'],\n",
    "    'train' : [100],\n",
    "    'val' : [100],\n",
    "    'diff' : [0],\n",
    "    'test' : [100]\n",
    "}"
   ]
  },
  {
   "cell_type": "code",
   "execution_count": 22,
   "id": "974c96c0",
   "metadata": {},
   "outputs": [],
   "source": [
    "# Add baseline to dictionary\n",
    "baselinetrain = round((train.churn == 'No').mean(), 5)\n",
    "baselineval = round((val.churn == 'No').mean(), 5)\n",
    "baselinediff = round(abs(baselinetrain - baselineval), 5)\n",
    "baselinetest = round((test.churn == 'No').mean(), 5)\n",
    "knnscores['model'].append('baseline')\n",
    "knnscores['train'].append(baselinetrain)\n",
    "knnscores['val'].append(baselineval)\n",
    "knnscores['diff'].append(baselinediff)\n",
    "knnscores['test'].append(baselinetest)"
   ]
  },
  {
   "cell_type": "code",
   "execution_count": 23,
   "id": "2e8bf94f",
   "metadata": {},
   "outputs": [
    {
     "data": {
      "text/html": [
       "<div>\n",
       "<style scoped>\n",
       "    .dataframe tbody tr th:only-of-type {\n",
       "        vertical-align: middle;\n",
       "    }\n",
       "\n",
       "    .dataframe tbody tr th {\n",
       "        vertical-align: top;\n",
       "    }\n",
       "\n",
       "    .dataframe thead th {\n",
       "        text-align: right;\n",
       "    }\n",
       "</style>\n",
       "<table border=\"1\" class=\"dataframe\">\n",
       "  <thead>\n",
       "    <tr style=\"text-align: right;\">\n",
       "      <th></th>\n",
       "      <th>model</th>\n",
       "      <th>train</th>\n",
       "      <th>val</th>\n",
       "      <th>diff</th>\n",
       "      <th>test</th>\n",
       "    </tr>\n",
       "  </thead>\n",
       "  <tbody>\n",
       "    <tr>\n",
       "      <th>0</th>\n",
       "      <td>actual</td>\n",
       "      <td>100.00000</td>\n",
       "      <td>100.00000</td>\n",
       "      <td>0.00000</td>\n",
       "      <td>100.00000</td>\n",
       "    </tr>\n",
       "    <tr>\n",
       "      <th>1</th>\n",
       "      <td>baseline</td>\n",
       "      <td>0.73472</td>\n",
       "      <td>0.73448</td>\n",
       "      <td>0.00024</td>\n",
       "      <td>0.73456</td>\n",
       "    </tr>\n",
       "  </tbody>\n",
       "</table>\n",
       "</div>"
      ],
      "text/plain": [
       "      model      train        val     diff       test\n",
       "0    actual  100.00000  100.00000  0.00000  100.00000\n",
       "1  baseline    0.73472    0.73448  0.00024    0.73456"
      ]
     },
     "execution_count": 23,
     "metadata": {},
     "output_type": "execute_result"
    }
   ],
   "source": [
    "# Confirm df funcitonality with actual and baseline\n",
    "pd.DataFrame.from_dict(knnscores)"
   ]
  },
  {
   "cell_type": "code",
   "execution_count": 24,
   "id": "ff3c9b44",
   "metadata": {},
   "outputs": [
    {
     "name": "stderr",
     "output_type": "stream",
     "text": [
      "/usr/local/anaconda3/lib/python3.9/site-packages/sklearn/neighbors/_classification.py:228: FutureWarning: Unlike other reduction functions (e.g. `skew`, `kurtosis`), the default behavior of `mode` typically preserves the axis it acts along. In SciPy 1.11.0, this behavior will change: the default value of `keepdims` will become False, the `axis` over which the statistic is taken will be eliminated, and the value None will no longer be accepted. Set `keepdims` to True or False to avoid this warning.\n",
      "  mode, _ = stats.mode(_y[neigh_ind, k], axis=1)\n",
      "/usr/local/anaconda3/lib/python3.9/site-packages/sklearn/neighbors/_classification.py:228: FutureWarning: Unlike other reduction functions (e.g. `skew`, `kurtosis`), the default behavior of `mode` typically preserves the axis it acts along. In SciPy 1.11.0, this behavior will change: the default value of `keepdims` will become False, the `axis` over which the statistic is taken will be eliminated, and the value None will no longer be accepted. Set `keepdims` to True or False to avoid this warning.\n",
      "  mode, _ = stats.mode(_y[neigh_ind, k], axis=1)\n",
      "/usr/local/anaconda3/lib/python3.9/site-packages/sklearn/neighbors/_classification.py:228: FutureWarning: Unlike other reduction functions (e.g. `skew`, `kurtosis`), the default behavior of `mode` typically preserves the axis it acts along. In SciPy 1.11.0, this behavior will change: the default value of `keepdims` will become False, the `axis` over which the statistic is taken will be eliminated, and the value None will no longer be accepted. Set `keepdims` to True or False to avoid this warning.\n",
      "  mode, _ = stats.mode(_y[neigh_ind, k], axis=1)\n",
      "/usr/local/anaconda3/lib/python3.9/site-packages/sklearn/neighbors/_classification.py:228: FutureWarning: Unlike other reduction functions (e.g. `skew`, `kurtosis`), the default behavior of `mode` typically preserves the axis it acts along. In SciPy 1.11.0, this behavior will change: the default value of `keepdims` will become False, the `axis` over which the statistic is taken will be eliminated, and the value None will no longer be accepted. Set `keepdims` to True or False to avoid this warning.\n",
      "  mode, _ = stats.mode(_y[neigh_ind, k], axis=1)\n",
      "/usr/local/anaconda3/lib/python3.9/site-packages/sklearn/neighbors/_classification.py:228: FutureWarning: Unlike other reduction functions (e.g. `skew`, `kurtosis`), the default behavior of `mode` typically preserves the axis it acts along. In SciPy 1.11.0, this behavior will change: the default value of `keepdims` will become False, the `axis` over which the statistic is taken will be eliminated, and the value None will no longer be accepted. Set `keepdims` to True or False to avoid this warning.\n",
      "  mode, _ = stats.mode(_y[neigh_ind, k], axis=1)\n",
      "/usr/local/anaconda3/lib/python3.9/site-packages/sklearn/neighbors/_classification.py:228: FutureWarning: Unlike other reduction functions (e.g. `skew`, `kurtosis`), the default behavior of `mode` typically preserves the axis it acts along. In SciPy 1.11.0, this behavior will change: the default value of `keepdims` will become False, the `axis` over which the statistic is taken will be eliminated, and the value None will no longer be accepted. Set `keepdims` to True or False to avoid this warning.\n",
      "  mode, _ = stats.mode(_y[neigh_ind, k], axis=1)\n",
      "/usr/local/anaconda3/lib/python3.9/site-packages/sklearn/neighbors/_classification.py:228: FutureWarning: Unlike other reduction functions (e.g. `skew`, `kurtosis`), the default behavior of `mode` typically preserves the axis it acts along. In SciPy 1.11.0, this behavior will change: the default value of `keepdims` will become False, the `axis` over which the statistic is taken will be eliminated, and the value None will no longer be accepted. Set `keepdims` to True or False to avoid this warning.\n",
      "  mode, _ = stats.mode(_y[neigh_ind, k], axis=1)\n",
      "/usr/local/anaconda3/lib/python3.9/site-packages/sklearn/neighbors/_classification.py:228: FutureWarning: Unlike other reduction functions (e.g. `skew`, `kurtosis`), the default behavior of `mode` typically preserves the axis it acts along. In SciPy 1.11.0, this behavior will change: the default value of `keepdims` will become False, the `axis` over which the statistic is taken will be eliminated, and the value None will no longer be accepted. Set `keepdims` to True or False to avoid this warning.\n",
      "  mode, _ = stats.mode(_y[neigh_ind, k], axis=1)\n",
      "/usr/local/anaconda3/lib/python3.9/site-packages/sklearn/neighbors/_classification.py:228: FutureWarning: Unlike other reduction functions (e.g. `skew`, `kurtosis`), the default behavior of `mode` typically preserves the axis it acts along. In SciPy 1.11.0, this behavior will change: the default value of `keepdims` will become False, the `axis` over which the statistic is taken will be eliminated, and the value None will no longer be accepted. Set `keepdims` to True or False to avoid this warning.\n",
      "  mode, _ = stats.mode(_y[neigh_ind, k], axis=1)\n",
      "/usr/local/anaconda3/lib/python3.9/site-packages/sklearn/neighbors/_classification.py:228: FutureWarning: Unlike other reduction functions (e.g. `skew`, `kurtosis`), the default behavior of `mode` typically preserves the axis it acts along. In SciPy 1.11.0, this behavior will change: the default value of `keepdims` will become False, the `axis` over which the statistic is taken will be eliminated, and the value None will no longer be accepted. Set `keepdims` to True or False to avoid this warning.\n",
      "  mode, _ = stats.mode(_y[neigh_ind, k], axis=1)\n",
      "/usr/local/anaconda3/lib/python3.9/site-packages/sklearn/neighbors/_classification.py:228: FutureWarning: Unlike other reduction functions (e.g. `skew`, `kurtosis`), the default behavior of `mode` typically preserves the axis it acts along. In SciPy 1.11.0, this behavior will change: the default value of `keepdims` will become False, the `axis` over which the statistic is taken will be eliminated, and the value None will no longer be accepted. Set `keepdims` to True or False to avoid this warning.\n",
      "  mode, _ = stats.mode(_y[neigh_ind, k], axis=1)\n",
      "/usr/local/anaconda3/lib/python3.9/site-packages/sklearn/neighbors/_classification.py:228: FutureWarning: Unlike other reduction functions (e.g. `skew`, `kurtosis`), the default behavior of `mode` typically preserves the axis it acts along. In SciPy 1.11.0, this behavior will change: the default value of `keepdims` will become False, the `axis` over which the statistic is taken will be eliminated, and the value None will no longer be accepted. Set `keepdims` to True or False to avoid this warning.\n",
      "  mode, _ = stats.mode(_y[neigh_ind, k], axis=1)\n",
      "/usr/local/anaconda3/lib/python3.9/site-packages/sklearn/neighbors/_classification.py:228: FutureWarning: Unlike other reduction functions (e.g. `skew`, `kurtosis`), the default behavior of `mode` typically preserves the axis it acts along. In SciPy 1.11.0, this behavior will change: the default value of `keepdims` will become False, the `axis` over which the statistic is taken will be eliminated, and the value None will no longer be accepted. Set `keepdims` to True or False to avoid this warning.\n",
      "  mode, _ = stats.mode(_y[neigh_ind, k], axis=1)\n",
      "/usr/local/anaconda3/lib/python3.9/site-packages/sklearn/neighbors/_classification.py:228: FutureWarning: Unlike other reduction functions (e.g. `skew`, `kurtosis`), the default behavior of `mode` typically preserves the axis it acts along. In SciPy 1.11.0, this behavior will change: the default value of `keepdims` will become False, the `axis` over which the statistic is taken will be eliminated, and the value None will no longer be accepted. Set `keepdims` to True or False to avoid this warning.\n",
      "  mode, _ = stats.mode(_y[neigh_ind, k], axis=1)\n",
      "/usr/local/anaconda3/lib/python3.9/site-packages/sklearn/neighbors/_classification.py:228: FutureWarning: Unlike other reduction functions (e.g. `skew`, `kurtosis`), the default behavior of `mode` typically preserves the axis it acts along. In SciPy 1.11.0, this behavior will change: the default value of `keepdims` will become False, the `axis` over which the statistic is taken will be eliminated, and the value None will no longer be accepted. Set `keepdims` to True or False to avoid this warning.\n",
      "  mode, _ = stats.mode(_y[neigh_ind, k], axis=1)\n",
      "/usr/local/anaconda3/lib/python3.9/site-packages/sklearn/neighbors/_classification.py:228: FutureWarning: Unlike other reduction functions (e.g. `skew`, `kurtosis`), the default behavior of `mode` typically preserves the axis it acts along. In SciPy 1.11.0, this behavior will change: the default value of `keepdims` will become False, the `axis` over which the statistic is taken will be eliminated, and the value None will no longer be accepted. Set `keepdims` to True or False to avoid this warning.\n",
      "  mode, _ = stats.mode(_y[neigh_ind, k], axis=1)\n"
     ]
    },
    {
     "name": "stderr",
     "output_type": "stream",
     "text": [
      "/usr/local/anaconda3/lib/python3.9/site-packages/sklearn/neighbors/_classification.py:228: FutureWarning: Unlike other reduction functions (e.g. `skew`, `kurtosis`), the default behavior of `mode` typically preserves the axis it acts along. In SciPy 1.11.0, this behavior will change: the default value of `keepdims` will become False, the `axis` over which the statistic is taken will be eliminated, and the value None will no longer be accepted. Set `keepdims` to True or False to avoid this warning.\n",
      "  mode, _ = stats.mode(_y[neigh_ind, k], axis=1)\n",
      "/usr/local/anaconda3/lib/python3.9/site-packages/sklearn/neighbors/_classification.py:228: FutureWarning: Unlike other reduction functions (e.g. `skew`, `kurtosis`), the default behavior of `mode` typically preserves the axis it acts along. In SciPy 1.11.0, this behavior will change: the default value of `keepdims` will become False, the `axis` over which the statistic is taken will be eliminated, and the value None will no longer be accepted. Set `keepdims` to True or False to avoid this warning.\n",
      "  mode, _ = stats.mode(_y[neigh_ind, k], axis=1)\n",
      "/usr/local/anaconda3/lib/python3.9/site-packages/sklearn/neighbors/_classification.py:228: FutureWarning: Unlike other reduction functions (e.g. `skew`, `kurtosis`), the default behavior of `mode` typically preserves the axis it acts along. In SciPy 1.11.0, this behavior will change: the default value of `keepdims` will become False, the `axis` over which the statistic is taken will be eliminated, and the value None will no longer be accepted. Set `keepdims` to True or False to avoid this warning.\n",
      "  mode, _ = stats.mode(_y[neigh_ind, k], axis=1)\n",
      "/usr/local/anaconda3/lib/python3.9/site-packages/sklearn/neighbors/_classification.py:228: FutureWarning: Unlike other reduction functions (e.g. `skew`, `kurtosis`), the default behavior of `mode` typically preserves the axis it acts along. In SciPy 1.11.0, this behavior will change: the default value of `keepdims` will become False, the `axis` over which the statistic is taken will be eliminated, and the value None will no longer be accepted. Set `keepdims` to True or False to avoid this warning.\n",
      "  mode, _ = stats.mode(_y[neigh_ind, k], axis=1)\n",
      "/usr/local/anaconda3/lib/python3.9/site-packages/sklearn/neighbors/_classification.py:228: FutureWarning: Unlike other reduction functions (e.g. `skew`, `kurtosis`), the default behavior of `mode` typically preserves the axis it acts along. In SciPy 1.11.0, this behavior will change: the default value of `keepdims` will become False, the `axis` over which the statistic is taken will be eliminated, and the value None will no longer be accepted. Set `keepdims` to True or False to avoid this warning.\n",
      "  mode, _ = stats.mode(_y[neigh_ind, k], axis=1)\n",
      "/usr/local/anaconda3/lib/python3.9/site-packages/sklearn/neighbors/_classification.py:228: FutureWarning: Unlike other reduction functions (e.g. `skew`, `kurtosis`), the default behavior of `mode` typically preserves the axis it acts along. In SciPy 1.11.0, this behavior will change: the default value of `keepdims` will become False, the `axis` over which the statistic is taken will be eliminated, and the value None will no longer be accepted. Set `keepdims` to True or False to avoid this warning.\n",
      "  mode, _ = stats.mode(_y[neigh_ind, k], axis=1)\n",
      "/usr/local/anaconda3/lib/python3.9/site-packages/sklearn/neighbors/_classification.py:228: FutureWarning: Unlike other reduction functions (e.g. `skew`, `kurtosis`), the default behavior of `mode` typically preserves the axis it acts along. In SciPy 1.11.0, this behavior will change: the default value of `keepdims` will become False, the `axis` over which the statistic is taken will be eliminated, and the value None will no longer be accepted. Set `keepdims` to True or False to avoid this warning.\n",
      "  mode, _ = stats.mode(_y[neigh_ind, k], axis=1)\n",
      "/usr/local/anaconda3/lib/python3.9/site-packages/sklearn/neighbors/_classification.py:228: FutureWarning: Unlike other reduction functions (e.g. `skew`, `kurtosis`), the default behavior of `mode` typically preserves the axis it acts along. In SciPy 1.11.0, this behavior will change: the default value of `keepdims` will become False, the `axis` over which the statistic is taken will be eliminated, and the value None will no longer be accepted. Set `keepdims` to True or False to avoid this warning.\n",
      "  mode, _ = stats.mode(_y[neigh_ind, k], axis=1)\n",
      "/usr/local/anaconda3/lib/python3.9/site-packages/sklearn/neighbors/_classification.py:228: FutureWarning: Unlike other reduction functions (e.g. `skew`, `kurtosis`), the default behavior of `mode` typically preserves the axis it acts along. In SciPy 1.11.0, this behavior will change: the default value of `keepdims` will become False, the `axis` over which the statistic is taken will be eliminated, and the value None will no longer be accepted. Set `keepdims` to True or False to avoid this warning.\n",
      "  mode, _ = stats.mode(_y[neigh_ind, k], axis=1)\n",
      "/usr/local/anaconda3/lib/python3.9/site-packages/sklearn/neighbors/_classification.py:228: FutureWarning: Unlike other reduction functions (e.g. `skew`, `kurtosis`), the default behavior of `mode` typically preserves the axis it acts along. In SciPy 1.11.0, this behavior will change: the default value of `keepdims` will become False, the `axis` over which the statistic is taken will be eliminated, and the value None will no longer be accepted. Set `keepdims` to True or False to avoid this warning.\n",
      "  mode, _ = stats.mode(_y[neigh_ind, k], axis=1)\n",
      "/usr/local/anaconda3/lib/python3.9/site-packages/sklearn/neighbors/_classification.py:228: FutureWarning: Unlike other reduction functions (e.g. `skew`, `kurtosis`), the default behavior of `mode` typically preserves the axis it acts along. In SciPy 1.11.0, this behavior will change: the default value of `keepdims` will become False, the `axis` over which the statistic is taken will be eliminated, and the value None will no longer be accepted. Set `keepdims` to True or False to avoid this warning.\n",
      "  mode, _ = stats.mode(_y[neigh_ind, k], axis=1)\n",
      "/usr/local/anaconda3/lib/python3.9/site-packages/sklearn/neighbors/_classification.py:228: FutureWarning: Unlike other reduction functions (e.g. `skew`, `kurtosis`), the default behavior of `mode` typically preserves the axis it acts along. In SciPy 1.11.0, this behavior will change: the default value of `keepdims` will become False, the `axis` over which the statistic is taken will be eliminated, and the value None will no longer be accepted. Set `keepdims` to True or False to avoid this warning.\n",
      "  mode, _ = stats.mode(_y[neigh_ind, k], axis=1)\n",
      "/usr/local/anaconda3/lib/python3.9/site-packages/sklearn/neighbors/_classification.py:228: FutureWarning: Unlike other reduction functions (e.g. `skew`, `kurtosis`), the default behavior of `mode` typically preserves the axis it acts along. In SciPy 1.11.0, this behavior will change: the default value of `keepdims` will become False, the `axis` over which the statistic is taken will be eliminated, and the value None will no longer be accepted. Set `keepdims` to True or False to avoid this warning.\n",
      "  mode, _ = stats.mode(_y[neigh_ind, k], axis=1)\n",
      "/usr/local/anaconda3/lib/python3.9/site-packages/sklearn/neighbors/_classification.py:228: FutureWarning: Unlike other reduction functions (e.g. `skew`, `kurtosis`), the default behavior of `mode` typically preserves the axis it acts along. In SciPy 1.11.0, this behavior will change: the default value of `keepdims` will become False, the `axis` over which the statistic is taken will be eliminated, and the value None will no longer be accepted. Set `keepdims` to True or False to avoid this warning.\n",
      "  mode, _ = stats.mode(_y[neigh_ind, k], axis=1)\n",
      "/usr/local/anaconda3/lib/python3.9/site-packages/sklearn/neighbors/_classification.py:228: FutureWarning: Unlike other reduction functions (e.g. `skew`, `kurtosis`), the default behavior of `mode` typically preserves the axis it acts along. In SciPy 1.11.0, this behavior will change: the default value of `keepdims` will become False, the `axis` over which the statistic is taken will be eliminated, and the value None will no longer be accepted. Set `keepdims` to True or False to avoid this warning.\n",
      "  mode, _ = stats.mode(_y[neigh_ind, k], axis=1)\n",
      "/usr/local/anaconda3/lib/python3.9/site-packages/sklearn/neighbors/_classification.py:228: FutureWarning: Unlike other reduction functions (e.g. `skew`, `kurtosis`), the default behavior of `mode` typically preserves the axis it acts along. In SciPy 1.11.0, this behavior will change: the default value of `keepdims` will become False, the `axis` over which the statistic is taken will be eliminated, and the value None will no longer be accepted. Set `keepdims` to True or False to avoid this warning.\n",
      "  mode, _ = stats.mode(_y[neigh_ind, k], axis=1)\n"
     ]
    },
    {
     "name": "stderr",
     "output_type": "stream",
     "text": [
      "/usr/local/anaconda3/lib/python3.9/site-packages/sklearn/neighbors/_classification.py:228: FutureWarning: Unlike other reduction functions (e.g. `skew`, `kurtosis`), the default behavior of `mode` typically preserves the axis it acts along. In SciPy 1.11.0, this behavior will change: the default value of `keepdims` will become False, the `axis` over which the statistic is taken will be eliminated, and the value None will no longer be accepted. Set `keepdims` to True or False to avoid this warning.\n",
      "  mode, _ = stats.mode(_y[neigh_ind, k], axis=1)\n",
      "/usr/local/anaconda3/lib/python3.9/site-packages/sklearn/neighbors/_classification.py:228: FutureWarning: Unlike other reduction functions (e.g. `skew`, `kurtosis`), the default behavior of `mode` typically preserves the axis it acts along. In SciPy 1.11.0, this behavior will change: the default value of `keepdims` will become False, the `axis` over which the statistic is taken will be eliminated, and the value None will no longer be accepted. Set `keepdims` to True or False to avoid this warning.\n",
      "  mode, _ = stats.mode(_y[neigh_ind, k], axis=1)\n",
      "/usr/local/anaconda3/lib/python3.9/site-packages/sklearn/neighbors/_classification.py:228: FutureWarning: Unlike other reduction functions (e.g. `skew`, `kurtosis`), the default behavior of `mode` typically preserves the axis it acts along. In SciPy 1.11.0, this behavior will change: the default value of `keepdims` will become False, the `axis` over which the statistic is taken will be eliminated, and the value None will no longer be accepted. Set `keepdims` to True or False to avoid this warning.\n",
      "  mode, _ = stats.mode(_y[neigh_ind, k], axis=1)\n",
      "/usr/local/anaconda3/lib/python3.9/site-packages/sklearn/neighbors/_classification.py:228: FutureWarning: Unlike other reduction functions (e.g. `skew`, `kurtosis`), the default behavior of `mode` typically preserves the axis it acts along. In SciPy 1.11.0, this behavior will change: the default value of `keepdims` will become False, the `axis` over which the statistic is taken will be eliminated, and the value None will no longer be accepted. Set `keepdims` to True or False to avoid this warning.\n",
      "  mode, _ = stats.mode(_y[neigh_ind, k], axis=1)\n",
      "/usr/local/anaconda3/lib/python3.9/site-packages/sklearn/neighbors/_classification.py:228: FutureWarning: Unlike other reduction functions (e.g. `skew`, `kurtosis`), the default behavior of `mode` typically preserves the axis it acts along. In SciPy 1.11.0, this behavior will change: the default value of `keepdims` will become False, the `axis` over which the statistic is taken will be eliminated, and the value None will no longer be accepted. Set `keepdims` to True or False to avoid this warning.\n",
      "  mode, _ = stats.mode(_y[neigh_ind, k], axis=1)\n",
      "/usr/local/anaconda3/lib/python3.9/site-packages/sklearn/neighbors/_classification.py:228: FutureWarning: Unlike other reduction functions (e.g. `skew`, `kurtosis`), the default behavior of `mode` typically preserves the axis it acts along. In SciPy 1.11.0, this behavior will change: the default value of `keepdims` will become False, the `axis` over which the statistic is taken will be eliminated, and the value None will no longer be accepted. Set `keepdims` to True or False to avoid this warning.\n",
      "  mode, _ = stats.mode(_y[neigh_ind, k], axis=1)\n",
      "/usr/local/anaconda3/lib/python3.9/site-packages/sklearn/neighbors/_classification.py:228: FutureWarning: Unlike other reduction functions (e.g. `skew`, `kurtosis`), the default behavior of `mode` typically preserves the axis it acts along. In SciPy 1.11.0, this behavior will change: the default value of `keepdims` will become False, the `axis` over which the statistic is taken will be eliminated, and the value None will no longer be accepted. Set `keepdims` to True or False to avoid this warning.\n",
      "  mode, _ = stats.mode(_y[neigh_ind, k], axis=1)\n",
      "/usr/local/anaconda3/lib/python3.9/site-packages/sklearn/neighbors/_classification.py:228: FutureWarning: Unlike other reduction functions (e.g. `skew`, `kurtosis`), the default behavior of `mode` typically preserves the axis it acts along. In SciPy 1.11.0, this behavior will change: the default value of `keepdims` will become False, the `axis` over which the statistic is taken will be eliminated, and the value None will no longer be accepted. Set `keepdims` to True or False to avoid this warning.\n",
      "  mode, _ = stats.mode(_y[neigh_ind, k], axis=1)\n",
      "/usr/local/anaconda3/lib/python3.9/site-packages/sklearn/neighbors/_classification.py:228: FutureWarning: Unlike other reduction functions (e.g. `skew`, `kurtosis`), the default behavior of `mode` typically preserves the axis it acts along. In SciPy 1.11.0, this behavior will change: the default value of `keepdims` will become False, the `axis` over which the statistic is taken will be eliminated, and the value None will no longer be accepted. Set `keepdims` to True or False to avoid this warning.\n",
      "  mode, _ = stats.mode(_y[neigh_ind, k], axis=1)\n",
      "/usr/local/anaconda3/lib/python3.9/site-packages/sklearn/neighbors/_classification.py:228: FutureWarning: Unlike other reduction functions (e.g. `skew`, `kurtosis`), the default behavior of `mode` typically preserves the axis it acts along. In SciPy 1.11.0, this behavior will change: the default value of `keepdims` will become False, the `axis` over which the statistic is taken will be eliminated, and the value None will no longer be accepted. Set `keepdims` to True or False to avoid this warning.\n",
      "  mode, _ = stats.mode(_y[neigh_ind, k], axis=1)\n",
      "/usr/local/anaconda3/lib/python3.9/site-packages/sklearn/neighbors/_classification.py:228: FutureWarning: Unlike other reduction functions (e.g. `skew`, `kurtosis`), the default behavior of `mode` typically preserves the axis it acts along. In SciPy 1.11.0, this behavior will change: the default value of `keepdims` will become False, the `axis` over which the statistic is taken will be eliminated, and the value None will no longer be accepted. Set `keepdims` to True or False to avoid this warning.\n",
      "  mode, _ = stats.mode(_y[neigh_ind, k], axis=1)\n",
      "/usr/local/anaconda3/lib/python3.9/site-packages/sklearn/neighbors/_classification.py:228: FutureWarning: Unlike other reduction functions (e.g. `skew`, `kurtosis`), the default behavior of `mode` typically preserves the axis it acts along. In SciPy 1.11.0, this behavior will change: the default value of `keepdims` will become False, the `axis` over which the statistic is taken will be eliminated, and the value None will no longer be accepted. Set `keepdims` to True or False to avoid this warning.\n",
      "  mode, _ = stats.mode(_y[neigh_ind, k], axis=1)\n",
      "/usr/local/anaconda3/lib/python3.9/site-packages/sklearn/neighbors/_classification.py:228: FutureWarning: Unlike other reduction functions (e.g. `skew`, `kurtosis`), the default behavior of `mode` typically preserves the axis it acts along. In SciPy 1.11.0, this behavior will change: the default value of `keepdims` will become False, the `axis` over which the statistic is taken will be eliminated, and the value None will no longer be accepted. Set `keepdims` to True or False to avoid this warning.\n",
      "  mode, _ = stats.mode(_y[neigh_ind, k], axis=1)\n",
      "/usr/local/anaconda3/lib/python3.9/site-packages/sklearn/neighbors/_classification.py:228: FutureWarning: Unlike other reduction functions (e.g. `skew`, `kurtosis`), the default behavior of `mode` typically preserves the axis it acts along. In SciPy 1.11.0, this behavior will change: the default value of `keepdims` will become False, the `axis` over which the statistic is taken will be eliminated, and the value None will no longer be accepted. Set `keepdims` to True or False to avoid this warning.\n",
      "  mode, _ = stats.mode(_y[neigh_ind, k], axis=1)\n",
      "/usr/local/anaconda3/lib/python3.9/site-packages/sklearn/neighbors/_classification.py:228: FutureWarning: Unlike other reduction functions (e.g. `skew`, `kurtosis`), the default behavior of `mode` typically preserves the axis it acts along. In SciPy 1.11.0, this behavior will change: the default value of `keepdims` will become False, the `axis` over which the statistic is taken will be eliminated, and the value None will no longer be accepted. Set `keepdims` to True or False to avoid this warning.\n",
      "  mode, _ = stats.mode(_y[neigh_ind, k], axis=1)\n",
      "/usr/local/anaconda3/lib/python3.9/site-packages/sklearn/neighbors/_classification.py:228: FutureWarning: Unlike other reduction functions (e.g. `skew`, `kurtosis`), the default behavior of `mode` typically preserves the axis it acts along. In SciPy 1.11.0, this behavior will change: the default value of `keepdims` will become False, the `axis` over which the statistic is taken will be eliminated, and the value None will no longer be accepted. Set `keepdims` to True or False to avoid this warning.\n",
      "  mode, _ = stats.mode(_y[neigh_ind, k], axis=1)\n"
     ]
    },
    {
     "name": "stderr",
     "output_type": "stream",
     "text": [
      "/usr/local/anaconda3/lib/python3.9/site-packages/sklearn/neighbors/_classification.py:228: FutureWarning: Unlike other reduction functions (e.g. `skew`, `kurtosis`), the default behavior of `mode` typically preserves the axis it acts along. In SciPy 1.11.0, this behavior will change: the default value of `keepdims` will become False, the `axis` over which the statistic is taken will be eliminated, and the value None will no longer be accepted. Set `keepdims` to True or False to avoid this warning.\n",
      "  mode, _ = stats.mode(_y[neigh_ind, k], axis=1)\n",
      "/usr/local/anaconda3/lib/python3.9/site-packages/sklearn/neighbors/_classification.py:228: FutureWarning: Unlike other reduction functions (e.g. `skew`, `kurtosis`), the default behavior of `mode` typically preserves the axis it acts along. In SciPy 1.11.0, this behavior will change: the default value of `keepdims` will become False, the `axis` over which the statistic is taken will be eliminated, and the value None will no longer be accepted. Set `keepdims` to True or False to avoid this warning.\n",
      "  mode, _ = stats.mode(_y[neigh_ind, k], axis=1)\n",
      "/usr/local/anaconda3/lib/python3.9/site-packages/sklearn/neighbors/_classification.py:228: FutureWarning: Unlike other reduction functions (e.g. `skew`, `kurtosis`), the default behavior of `mode` typically preserves the axis it acts along. In SciPy 1.11.0, this behavior will change: the default value of `keepdims` will become False, the `axis` over which the statistic is taken will be eliminated, and the value None will no longer be accepted. Set `keepdims` to True or False to avoid this warning.\n",
      "  mode, _ = stats.mode(_y[neigh_ind, k], axis=1)\n",
      "/usr/local/anaconda3/lib/python3.9/site-packages/sklearn/neighbors/_classification.py:228: FutureWarning: Unlike other reduction functions (e.g. `skew`, `kurtosis`), the default behavior of `mode` typically preserves the axis it acts along. In SciPy 1.11.0, this behavior will change: the default value of `keepdims` will become False, the `axis` over which the statistic is taken will be eliminated, and the value None will no longer be accepted. Set `keepdims` to True or False to avoid this warning.\n",
      "  mode, _ = stats.mode(_y[neigh_ind, k], axis=1)\n",
      "/usr/local/anaconda3/lib/python3.9/site-packages/sklearn/neighbors/_classification.py:228: FutureWarning: Unlike other reduction functions (e.g. `skew`, `kurtosis`), the default behavior of `mode` typically preserves the axis it acts along. In SciPy 1.11.0, this behavior will change: the default value of `keepdims` will become False, the `axis` over which the statistic is taken will be eliminated, and the value None will no longer be accepted. Set `keepdims` to True or False to avoid this warning.\n",
      "  mode, _ = stats.mode(_y[neigh_ind, k], axis=1)\n",
      "/usr/local/anaconda3/lib/python3.9/site-packages/sklearn/neighbors/_classification.py:228: FutureWarning: Unlike other reduction functions (e.g. `skew`, `kurtosis`), the default behavior of `mode` typically preserves the axis it acts along. In SciPy 1.11.0, this behavior will change: the default value of `keepdims` will become False, the `axis` over which the statistic is taken will be eliminated, and the value None will no longer be accepted. Set `keepdims` to True or False to avoid this warning.\n",
      "  mode, _ = stats.mode(_y[neigh_ind, k], axis=1)\n",
      "/usr/local/anaconda3/lib/python3.9/site-packages/sklearn/neighbors/_classification.py:228: FutureWarning: Unlike other reduction functions (e.g. `skew`, `kurtosis`), the default behavior of `mode` typically preserves the axis it acts along. In SciPy 1.11.0, this behavior will change: the default value of `keepdims` will become False, the `axis` over which the statistic is taken will be eliminated, and the value None will no longer be accepted. Set `keepdims` to True or False to avoid this warning.\n",
      "  mode, _ = stats.mode(_y[neigh_ind, k], axis=1)\n",
      "/usr/local/anaconda3/lib/python3.9/site-packages/sklearn/neighbors/_classification.py:228: FutureWarning: Unlike other reduction functions (e.g. `skew`, `kurtosis`), the default behavior of `mode` typically preserves the axis it acts along. In SciPy 1.11.0, this behavior will change: the default value of `keepdims` will become False, the `axis` over which the statistic is taken will be eliminated, and the value None will no longer be accepted. Set `keepdims` to True or False to avoid this warning.\n",
      "  mode, _ = stats.mode(_y[neigh_ind, k], axis=1)\n",
      "/usr/local/anaconda3/lib/python3.9/site-packages/sklearn/neighbors/_classification.py:228: FutureWarning: Unlike other reduction functions (e.g. `skew`, `kurtosis`), the default behavior of `mode` typically preserves the axis it acts along. In SciPy 1.11.0, this behavior will change: the default value of `keepdims` will become False, the `axis` over which the statistic is taken will be eliminated, and the value None will no longer be accepted. Set `keepdims` to True or False to avoid this warning.\n",
      "  mode, _ = stats.mode(_y[neigh_ind, k], axis=1)\n",
      "/usr/local/anaconda3/lib/python3.9/site-packages/sklearn/neighbors/_classification.py:228: FutureWarning: Unlike other reduction functions (e.g. `skew`, `kurtosis`), the default behavior of `mode` typically preserves the axis it acts along. In SciPy 1.11.0, this behavior will change: the default value of `keepdims` will become False, the `axis` over which the statistic is taken will be eliminated, and the value None will no longer be accepted. Set `keepdims` to True or False to avoid this warning.\n",
      "  mode, _ = stats.mode(_y[neigh_ind, k], axis=1)\n",
      "/usr/local/anaconda3/lib/python3.9/site-packages/sklearn/neighbors/_classification.py:228: FutureWarning: Unlike other reduction functions (e.g. `skew`, `kurtosis`), the default behavior of `mode` typically preserves the axis it acts along. In SciPy 1.11.0, this behavior will change: the default value of `keepdims` will become False, the `axis` over which the statistic is taken will be eliminated, and the value None will no longer be accepted. Set `keepdims` to True or False to avoid this warning.\n",
      "  mode, _ = stats.mode(_y[neigh_ind, k], axis=1)\n",
      "/usr/local/anaconda3/lib/python3.9/site-packages/sklearn/neighbors/_classification.py:228: FutureWarning: Unlike other reduction functions (e.g. `skew`, `kurtosis`), the default behavior of `mode` typically preserves the axis it acts along. In SciPy 1.11.0, this behavior will change: the default value of `keepdims` will become False, the `axis` over which the statistic is taken will be eliminated, and the value None will no longer be accepted. Set `keepdims` to True or False to avoid this warning.\n",
      "  mode, _ = stats.mode(_y[neigh_ind, k], axis=1)\n"
     ]
    }
   ],
   "source": [
    "# Make and fit KNN of 1-15 neighbors to train\n",
    "for i in range(1, 16):\n",
    "    knn = KNN(n_neighbors=i)\n",
    "    knn.fit(x_train, y_train)\n",
    "    model = knn.predict(x_train)\n",
    "    trainscore = round(knn.score(x_train, y_train), 5)\n",
    "    valscore = round(knn.score(x_val, y_val), 5)\n",
    "    diffscore = round(abs(trainscore - valscore), 5)\n",
    "    testscore = round(knn.score(x_test, y_test), 5)\n",
    "    knnscores['model'].append(f'model{i}')\n",
    "    knnscores['train'].append(trainscore)\n",
    "    knnscores['val'].append(valscore)\n",
    "    knnscores['diff'].append(diffscore)\n",
    "    knnscores['test'].append(testscore)"
   ]
  },
  {
   "cell_type": "code",
   "execution_count": 25,
   "id": "00510ff8",
   "metadata": {},
   "outputs": [
    {
     "data": {
      "text/html": [
       "<div>\n",
       "<style scoped>\n",
       "    .dataframe tbody tr th:only-of-type {\n",
       "        vertical-align: middle;\n",
       "    }\n",
       "\n",
       "    .dataframe tbody tr th {\n",
       "        vertical-align: top;\n",
       "    }\n",
       "\n",
       "    .dataframe thead th {\n",
       "        text-align: right;\n",
       "    }\n",
       "</style>\n",
       "<table border=\"1\" class=\"dataframe\">\n",
       "  <thead>\n",
       "    <tr style=\"text-align: right;\">\n",
       "      <th></th>\n",
       "      <th>model</th>\n",
       "      <th>train</th>\n",
       "      <th>val</th>\n",
       "      <th>diff</th>\n",
       "      <th>test</th>\n",
       "    </tr>\n",
       "  </thead>\n",
       "  <tbody>\n",
       "    <tr>\n",
       "      <th>0</th>\n",
       "      <td>actual</td>\n",
       "      <td>100.00000</td>\n",
       "      <td>100.00000</td>\n",
       "      <td>0.00000</td>\n",
       "      <td>100.00000</td>\n",
       "    </tr>\n",
       "    <tr>\n",
       "      <th>2</th>\n",
       "      <td>model1</td>\n",
       "      <td>0.84809</td>\n",
       "      <td>0.69486</td>\n",
       "      <td>0.15323</td>\n",
       "      <td>0.69624</td>\n",
       "    </tr>\n",
       "  </tbody>\n",
       "</table>\n",
       "</div>"
      ],
      "text/plain": [
       "    model      train        val     diff       test\n",
       "0  actual  100.00000  100.00000  0.00000  100.00000\n",
       "2  model1    0.84809    0.69486  0.15323    0.69624"
      ]
     },
     "execution_count": 25,
     "metadata": {},
     "output_type": "execute_result"
    }
   ],
   "source": [
    "# Find best 'train' model\n",
    "pd.DataFrame.from_dict(knnscores).sort_values(by='train', ascending=False).head(2)"
   ]
  },
  {
   "cell_type": "code",
   "execution_count": 26,
   "id": "d818103a",
   "metadata": {},
   "outputs": [
    {
     "data": {
      "text/html": [
       "<div>\n",
       "<style scoped>\n",
       "    .dataframe tbody tr th:only-of-type {\n",
       "        vertical-align: middle;\n",
       "    }\n",
       "\n",
       "    .dataframe tbody tr th {\n",
       "        vertical-align: top;\n",
       "    }\n",
       "\n",
       "    .dataframe thead th {\n",
       "        text-align: right;\n",
       "    }\n",
       "</style>\n",
       "<table border=\"1\" class=\"dataframe\">\n",
       "  <thead>\n",
       "    <tr style=\"text-align: right;\">\n",
       "      <th></th>\n",
       "      <th>model</th>\n",
       "      <th>train</th>\n",
       "      <th>val</th>\n",
       "      <th>diff</th>\n",
       "      <th>test</th>\n",
       "    </tr>\n",
       "  </thead>\n",
       "  <tbody>\n",
       "    <tr>\n",
       "      <th>0</th>\n",
       "      <td>actual</td>\n",
       "      <td>100.00000</td>\n",
       "      <td>100.0000</td>\n",
       "      <td>0.00000</td>\n",
       "      <td>100.00000</td>\n",
       "    </tr>\n",
       "    <tr>\n",
       "      <th>13</th>\n",
       "      <td>model12</td>\n",
       "      <td>0.80269</td>\n",
       "      <td>0.7469</td>\n",
       "      <td>0.05579</td>\n",
       "      <td>0.74805</td>\n",
       "    </tr>\n",
       "  </tbody>\n",
       "</table>\n",
       "</div>"
      ],
      "text/plain": [
       "      model      train       val     diff       test\n",
       "0    actual  100.00000  100.0000  0.00000  100.00000\n",
       "13  model12    0.80269    0.7469  0.05579    0.74805"
      ]
     },
     "execution_count": 26,
     "metadata": {},
     "output_type": "execute_result"
    }
   ],
   "source": [
    "# Find best 'val' model\n",
    "pd.DataFrame.from_dict(knnscores).sort_values(by='val', ascending=False).head(2)"
   ]
  },
  {
   "cell_type": "code",
   "execution_count": 27,
   "id": "62cc4c8f",
   "metadata": {},
   "outputs": [
    {
     "data": {
      "text/html": [
       "<div>\n",
       "<style scoped>\n",
       "    .dataframe tbody tr th:only-of-type {\n",
       "        vertical-align: middle;\n",
       "    }\n",
       "\n",
       "    .dataframe tbody tr th {\n",
       "        vertical-align: top;\n",
       "    }\n",
       "\n",
       "    .dataframe thead th {\n",
       "        text-align: right;\n",
       "    }\n",
       "</style>\n",
       "<table border=\"1\" class=\"dataframe\">\n",
       "  <thead>\n",
       "    <tr style=\"text-align: right;\">\n",
       "      <th></th>\n",
       "      <th>model</th>\n",
       "      <th>train</th>\n",
       "      <th>val</th>\n",
       "      <th>diff</th>\n",
       "      <th>test</th>\n",
       "    </tr>\n",
       "  </thead>\n",
       "  <tbody>\n",
       "    <tr>\n",
       "      <th>0</th>\n",
       "      <td>actual</td>\n",
       "      <td>100.00000</td>\n",
       "      <td>100.00000</td>\n",
       "      <td>0.0000</td>\n",
       "      <td>100.00000</td>\n",
       "    </tr>\n",
       "    <tr>\n",
       "      <th>15</th>\n",
       "      <td>model14</td>\n",
       "      <td>0.79483</td>\n",
       "      <td>0.74453</td>\n",
       "      <td>0.0503</td>\n",
       "      <td>0.74876</td>\n",
       "    </tr>\n",
       "  </tbody>\n",
       "</table>\n",
       "</div>"
      ],
      "text/plain": [
       "      model      train        val    diff       test\n",
       "0    actual  100.00000  100.00000  0.0000  100.00000\n",
       "15  model14    0.79483    0.74453  0.0503    0.74876"
      ]
     },
     "execution_count": 27,
     "metadata": {},
     "output_type": "execute_result"
    }
   ],
   "source": [
    "# Find best 'test' model\n",
    "pd.DataFrame.from_dict(knnscores).sort_values(by='test', ascending=False).head(2)"
   ]
  },
  {
   "cell_type": "markdown",
   "id": "3ebbfc97",
   "metadata": {},
   "source": [
    "- Best Train Model:\n",
    "    - model 1 @ 84.8%\n",
    "        - Restrictions:\n",
    "            - n_neighbors = 1\n",
    "- Best Validate Model:\n",
    "    - model 12 @ 74.7%\n",
    "        - Restrictions:\n",
    "            - n_neighbors = 12\n",
    "- Best Test Model:\n",
    "    - model 14 @ 74.9%\n",
    "        - Restrictions:\n",
    "            - n_neighbors = 14\n",
    "- Baseline:\n",
    "    - 73.5%"
   ]
  },
  {
   "cell_type": "markdown",
   "id": "3ec2875f",
   "metadata": {},
   "source": [
    "<a id='LR'></a>\n",
    "# Logistic Regression Modeling:\n",
    "<li><a href='#TableOfContents'>Table of Contents</a></li>"
   ]
  },
  {
   "cell_type": "code",
   "execution_count": 28,
   "id": "9b03859e",
   "metadata": {},
   "outputs": [],
   "source": [
    "# Create base dictionary\n",
    "lrscores = {\n",
    "    'model' : ['actual'],\n",
    "    'train' : [100],\n",
    "    'val' : [100],\n",
    "    'diff' : [0],\n",
    "    'test' : [100]\n",
    "}"
   ]
  },
  {
   "cell_type": "code",
   "execution_count": 29,
   "id": "ee59425a",
   "metadata": {},
   "outputs": [],
   "source": [
    "# Add baseline to dictionary\n",
    "baselinetrain = round((train.churn == 'No').mean(), 5)\n",
    "baselineval = round((val.churn == 'No').mean(), 5)\n",
    "baselinediff = round(abs(baselinetrain - baselineval), 5)\n",
    "baselinetest = round((test.churn == 'No').mean(), 5)\n",
    "lrscores['model'].append('baseline')\n",
    "lrscores['train'].append(baselinetrain)\n",
    "lrscores['val'].append(baselineval)\n",
    "lrscores['diff'].append(baselinediff)\n",
    "lrscores['test'].append(baselinetest)"
   ]
  },
  {
   "cell_type": "code",
   "execution_count": 30,
   "id": "247c7662",
   "metadata": {},
   "outputs": [
    {
     "data": {
      "text/html": [
       "<div>\n",
       "<style scoped>\n",
       "    .dataframe tbody tr th:only-of-type {\n",
       "        vertical-align: middle;\n",
       "    }\n",
       "\n",
       "    .dataframe tbody tr th {\n",
       "        vertical-align: top;\n",
       "    }\n",
       "\n",
       "    .dataframe thead th {\n",
       "        text-align: right;\n",
       "    }\n",
       "</style>\n",
       "<table border=\"1\" class=\"dataframe\">\n",
       "  <thead>\n",
       "    <tr style=\"text-align: right;\">\n",
       "      <th></th>\n",
       "      <th>model</th>\n",
       "      <th>train</th>\n",
       "      <th>val</th>\n",
       "      <th>diff</th>\n",
       "      <th>test</th>\n",
       "    </tr>\n",
       "  </thead>\n",
       "  <tbody>\n",
       "    <tr>\n",
       "      <th>0</th>\n",
       "      <td>actual</td>\n",
       "      <td>100.00000</td>\n",
       "      <td>100.00000</td>\n",
       "      <td>0.00000</td>\n",
       "      <td>100.00000</td>\n",
       "    </tr>\n",
       "    <tr>\n",
       "      <th>1</th>\n",
       "      <td>baseline</td>\n",
       "      <td>0.73472</td>\n",
       "      <td>0.73448</td>\n",
       "      <td>0.00024</td>\n",
       "      <td>0.73456</td>\n",
       "    </tr>\n",
       "  </tbody>\n",
       "</table>\n",
       "</div>"
      ],
      "text/plain": [
       "      model      train        val     diff       test\n",
       "0    actual  100.00000  100.00000  0.00000  100.00000\n",
       "1  baseline    0.73472    0.73448  0.00024    0.73456"
      ]
     },
     "execution_count": 30,
     "metadata": {},
     "output_type": "execute_result"
    }
   ],
   "source": [
    "# Confirm df funcitonality with actual and baseline\n",
    "pd.DataFrame.from_dict(lrscores)"
   ]
  },
  {
   "cell_type": "code",
   "execution_count": 31,
   "id": "9be291ce",
   "metadata": {},
   "outputs": [],
   "source": [
    "# Make and fit LR to train\n",
    "lr = LR(random_state=100)\n",
    "lr.fit(x_train, y_train)\n",
    "model = lr.predict(x_train)\n",
    "trainscore = round(lr.score(x_train, y_train), 5)\n",
    "valscore = round(lr.score(x_val, y_val), 5)\n",
    "diffscore = round(abs(trainscore - valscore), 5)\n",
    "testscore = round(lr.score(x_test, y_test), 5)\n",
    "lrscores['model'].append('model1')\n",
    "lrscores['train'].append(trainscore)\n",
    "lrscores['val'].append(valscore)\n",
    "lrscores['diff'].append(diffscore)\n",
    "lrscores['test'].append(testscore)"
   ]
  },
  {
   "cell_type": "code",
   "execution_count": 32,
   "id": "19744868",
   "metadata": {},
   "outputs": [
    {
     "data": {
      "text/html": [
       "<div>\n",
       "<style scoped>\n",
       "    .dataframe tbody tr th:only-of-type {\n",
       "        vertical-align: middle;\n",
       "    }\n",
       "\n",
       "    .dataframe tbody tr th {\n",
       "        vertical-align: top;\n",
       "    }\n",
       "\n",
       "    .dataframe thead th {\n",
       "        text-align: right;\n",
       "    }\n",
       "</style>\n",
       "<table border=\"1\" class=\"dataframe\">\n",
       "  <thead>\n",
       "    <tr style=\"text-align: right;\">\n",
       "      <th></th>\n",
       "      <th>model</th>\n",
       "      <th>train</th>\n",
       "      <th>val</th>\n",
       "      <th>diff</th>\n",
       "      <th>test</th>\n",
       "    </tr>\n",
       "  </thead>\n",
       "  <tbody>\n",
       "    <tr>\n",
       "      <th>0</th>\n",
       "      <td>actual</td>\n",
       "      <td>100.00000</td>\n",
       "      <td>100.00000</td>\n",
       "      <td>0.00000</td>\n",
       "      <td>100.00000</td>\n",
       "    </tr>\n",
       "    <tr>\n",
       "      <th>2</th>\n",
       "      <td>model1</td>\n",
       "      <td>0.79508</td>\n",
       "      <td>0.75872</td>\n",
       "      <td>0.03636</td>\n",
       "      <td>0.76224</td>\n",
       "    </tr>\n",
       "  </tbody>\n",
       "</table>\n",
       "</div>"
      ],
      "text/plain": [
       "    model      train        val     diff       test\n",
       "0  actual  100.00000  100.00000  0.00000  100.00000\n",
       "2  model1    0.79508    0.75872  0.03636    0.76224"
      ]
     },
     "execution_count": 32,
     "metadata": {},
     "output_type": "execute_result"
    }
   ],
   "source": [
    "# Find best 'train' model\n",
    "pd.DataFrame.from_dict(lrscores).sort_values(by='train', ascending=False).head(2)"
   ]
  },
  {
   "cell_type": "markdown",
   "id": "60712081",
   "metadata": {},
   "source": [
    "- Best Train Model:\n",
    "    - model 1 @ 79.5%\n",
    "        - Restrictions:\n",
    "            - random_state=100\n",
    "- Best Validate Model:\n",
    "    - model 1 @ 75.9%\n",
    "        - Restrictions:\n",
    "            - random_state=100\n",
    "- Best Test Model:\n",
    "    - model 1 @ 76.2%\n",
    "        - Restrictions:\n",
    "            - random_state=100\n",
    "- Baseline:\n",
    "    - 73.5%"
   ]
  },
  {
   "cell_type": "markdown",
   "id": "1b2f8e0c",
   "metadata": {},
   "source": [
    "<a id='top3'></a>\n",
    "# Top 3 Models:\n",
    "<li><a href='#TableOfContents'>Table of Contents</a></li>"
   ]
  },
  {
   "cell_type": "code",
   "execution_count": null,
   "id": "6d3cb536",
   "metadata": {},
   "outputs": [],
   "source": []
  }
 ],
 "metadata": {
  "kernelspec": {
   "display_name": "Python 3 (ipykernel)",
   "language": "python",
   "name": "python3"
  },
  "language_info": {
   "codemirror_mode": {
    "name": "ipython",
    "version": 3
   },
   "file_extension": ".py",
   "mimetype": "text/x-python",
   "name": "python",
   "nbconvert_exporter": "python",
   "pygments_lexer": "ipython3",
   "version": "3.9.13"
  }
 },
 "nbformat": 4,
 "nbformat_minor": 5
}
