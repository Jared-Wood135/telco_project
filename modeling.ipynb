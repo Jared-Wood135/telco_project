{
 "cells": [
  {
   "cell_type": "markdown",
   "id": "a9013e00",
   "metadata": {},
   "source": [
    "<a id=\"TableOfContents\"></a>\n",
    "# TABLE OF CONTENTS:\n",
    "<li><a href='#imports'>Imports</a></li>\n",
    "<li><a href=\"#telco\">Get Telco Dataset</a></li>\n",
    "<li><a href=\"#split\">Split Telco Dataset</a></li>\n",
    "<li><a href=\"#keycol\">Key Columns</a></li>\n",
    "<li><a href=\"#DTC\">Decision Tree Classifier Modeling</a></li>\n",
    "<li><a href=\"#RFC\">Random Forest Classifier Modeling</a></li>\n",
    "<li><a href=\"#KNN\">K-Nearest Neighbors Modeling</a></li>\n",
    "<li><a href=\"#LR\">Logistic Regression Modeling</a></li>\n",
    "<li><a href=\"#top3\">Top 3 Models</a></li>"
   ]
  },
  {
   "cell_type": "markdown",
   "id": "0b97a9f2",
   "metadata": {},
   "source": [
    "##### Orientation:\n",
    "The purpose of this file is to create models to predict whether or not a customer will churn and get the best performing models."
   ]
  },
  {
   "cell_type": "markdown",
   "id": "a060df4d",
   "metadata": {},
   "source": [
    "<a id='imports'></a>\n",
    "# IMPORTS:\n",
    "<li><a href='#TableOfContents'>Table of Contents</a></li>"
   ]
  },
  {
   "cell_type": "code",
   "execution_count": 1,
   "id": "57de01ab",
   "metadata": {},
   "outputs": [],
   "source": [
    "# tabular data\n",
    "import numpy as np\n",
    "import pandas as pd\n",
    "\n",
    "# plotting\n",
    "import matplotlib.pyplot as plt\n",
    "import seaborn as sns\n",
    "\n",
    "# DecisionTree modeling:\n",
    "from sklearn.tree import DecisionTreeClassifier as DTC, export_text, plot_tree\n",
    "\n",
    "# RandomForest modeling:\n",
    "from sklearn.ensemble import RandomForestClassifier as RFC\n",
    "\n",
    "# KNN modeling:\n",
    "from sklearn.neighbors import KNeighborsClassifier as KNN\n",
    "\n",
    "# Logistic Regression modeling:\n",
    "from sklearn.linear_model import LogisticRegression as LR\n",
    "\n",
    "# Other sklearn stuff\n",
    "from sklearn.metrics import accuracy_score, classification_report, confusion_matrix\n",
    "from sklearn.model_selection import train_test_split\n",
    "\n",
    "# .py files\n",
    "import prepare\n",
    "import evaluation\n",
    "import model"
   ]
  },
  {
   "cell_type": "markdown",
   "id": "6eafa8d1",
   "metadata": {},
   "source": [
    "<a id='telco'></a>\n",
    "# Get Telco Dataset:\n",
    "<li><a href='#TableOfContents'>Table of Contents</a></li>"
   ]
  },
  {
   "cell_type": "code",
   "execution_count": 2,
   "id": "4db520a2",
   "metadata": {},
   "outputs": [
    {
     "data": {
      "text/html": [
       "<div>\n",
       "<style scoped>\n",
       "    .dataframe tbody tr th:only-of-type {\n",
       "        vertical-align: middle;\n",
       "    }\n",
       "\n",
       "    .dataframe tbody tr th {\n",
       "        vertical-align: top;\n",
       "    }\n",
       "\n",
       "    .dataframe thead th {\n",
       "        text-align: right;\n",
       "    }\n",
       "</style>\n",
       "<table border=\"1\" class=\"dataframe\">\n",
       "  <thead>\n",
       "    <tr style=\"text-align: right;\">\n",
       "      <th></th>\n",
       "      <th>gender</th>\n",
       "      <th>senior_citizen</th>\n",
       "      <th>partner</th>\n",
       "      <th>dependents</th>\n",
       "      <th>tenure</th>\n",
       "      <th>phone_service</th>\n",
       "      <th>multiple_lines</th>\n",
       "      <th>online_security</th>\n",
       "      <th>online_backup</th>\n",
       "      <th>device_protection</th>\n",
       "      <th>...</th>\n",
       "      <th>contract_type_Two_year</th>\n",
       "      <th>internet_service_type_DSL</th>\n",
       "      <th>internet_service_type_Fiber_optic</th>\n",
       "      <th>internet_service_type_None</th>\n",
       "      <th>payment_type_Bank_transfer_(automatic)</th>\n",
       "      <th>payment_type_Credit_card_(automatic)</th>\n",
       "      <th>payment_type_Electronic_check</th>\n",
       "      <th>payment_type_Mailed_check</th>\n",
       "      <th>total_services</th>\n",
       "      <th>total_extra_services</th>\n",
       "    </tr>\n",
       "  </thead>\n",
       "  <tbody>\n",
       "    <tr>\n",
       "      <th>6209</th>\n",
       "      <td>Male</td>\n",
       "      <td>0</td>\n",
       "      <td>Yes</td>\n",
       "      <td>Yes</td>\n",
       "      <td>63</td>\n",
       "      <td>Yes</td>\n",
       "      <td>Yes</td>\n",
       "      <td>No internet service</td>\n",
       "      <td>No internet service</td>\n",
       "      <td>No internet service</td>\n",
       "      <td>...</td>\n",
       "      <td>1</td>\n",
       "      <td>0</td>\n",
       "      <td>0</td>\n",
       "      <td>1</td>\n",
       "      <td>0</td>\n",
       "      <td>1</td>\n",
       "      <td>0</td>\n",
       "      <td>0</td>\n",
       "      <td>2</td>\n",
       "      <td>0</td>\n",
       "    </tr>\n",
       "  </tbody>\n",
       "</table>\n",
       "<p>1 rows × 67 columns</p>\n",
       "</div>"
      ],
      "text/plain": [
       "     gender  senior_citizen partner dependents  tenure phone_service  \\\n",
       "6209   Male               0     Yes        Yes      63           Yes   \n",
       "\n",
       "     multiple_lines      online_security        online_backup  \\\n",
       "6209            Yes  No internet service  No internet service   \n",
       "\n",
       "        device_protection  ... contract_type_Two_year  \\\n",
       "6209  No internet service  ...                      1   \n",
       "\n",
       "     internet_service_type_DSL internet_service_type_Fiber_optic  \\\n",
       "6209                         0                                 0   \n",
       "\n",
       "     internet_service_type_None  payment_type_Bank_transfer_(automatic)  \\\n",
       "6209                          1                                       0   \n",
       "\n",
       "      payment_type_Credit_card_(automatic) payment_type_Electronic_check  \\\n",
       "6209                                     1                             0   \n",
       "\n",
       "     payment_type_Mailed_check total_services total_extra_services  \n",
       "6209                         0              2                    0  \n",
       "\n",
       "[1 rows x 67 columns]"
      ]
     },
     "execution_count": 2,
     "metadata": {},
     "output_type": "execute_result"
    }
   ],
   "source": [
    "# Acquire cleaned 'telco' dataset\n",
    "telco = prepare.prep_telco()\n",
    "telco.sample()"
   ]
  },
  {
   "cell_type": "markdown",
   "id": "a2b801e4",
   "metadata": {},
   "source": [
    "<a id='split'></a>\n",
    "# Split Telco Dataset:\n",
    "<li><a href='#TableOfContents'>Table of Contents</a></li>"
   ]
  },
  {
   "cell_type": "code",
   "execution_count": 3,
   "id": "b29acbff",
   "metadata": {},
   "outputs": [
    {
     "name": "stdout",
     "output_type": "stream",
     "text": [
      "train.shape:(3943, 67)\n",
      "validate.shape:(1691, 67)\n",
      "test.shape:(1409, 67)\n"
     ]
    }
   ],
   "source": [
    "# Split telco dataset\n",
    "train, val, test = prepare.split(telco, 'churn')"
   ]
  },
  {
   "cell_type": "code",
   "execution_count": 4,
   "id": "c0a633a2",
   "metadata": {},
   "outputs": [
    {
     "data": {
      "text/plain": [
       "((3943, 67), (1691, 67), (1409, 67))"
      ]
     },
     "execution_count": 4,
     "metadata": {},
     "output_type": "execute_result"
    }
   ],
   "source": [
    "# Verify split shapes\n",
    "train.shape, val.shape, test.shape"
   ]
  },
  {
   "cell_type": "markdown",
   "id": "329f4a1f",
   "metadata": {},
   "source": [
    "<a id='keycol'></a>\n",
    "# Key Columns:\n",
    "<li><a href='#TableOfContents'>Table of Contents</a></li>"
   ]
  },
  {
   "cell_type": "markdown",
   "id": "a576f0b6",
   "metadata": {},
   "source": [
    "- Columns:\n",
    "    - 'partner'\n",
    "    - 'dependents'\n",
    "    - 'online_security'\n",
    "    - 'online_backup'\n",
    "    - 'device_protection'\n",
    "    - 'tech_support'\n",
    "    - 'streaming_tv'\n",
    "    - 'streaming_movies'\n",
    "    - 'payment_type'\n",
    "    - 'contract_type'\n",
    "    - 'total_services'\n",
    "    - 'total_extra_services'"
   ]
  },
  {
   "cell_type": "code",
   "execution_count": 5,
   "id": "79d06676",
   "metadata": {},
   "outputs": [],
   "source": [
    "# List of pertinent columns\n",
    "keylist = [\n",
    "    'partner_Yes',\n",
    "    'partner_No',\n",
    "    'dependents_Yes',\n",
    "    'dependents_No',\n",
    "    'online_security_Yes',\n",
    "    'online_security_No',\n",
    "    'online_security_No_internet_service',\n",
    "    'online_backup_Yes',\n",
    "    'online_backup_No',\n",
    "    'online_backup_No_internet_service',\n",
    "    'device_protection_Yes',\n",
    "    'device_protection_No',\n",
    "    'device_protection_No_internet_service',\n",
    "    'tech_support_Yes',\n",
    "    'tech_support_No',\n",
    "    'tech_support_No_internet_service',\n",
    "    'streaming_tv_Yes',\n",
    "    'streaming_tv_No',\n",
    "    'streaming_tv_No_internet_service',\n",
    "    'streaming_movies_Yes',\n",
    "    'streaming_movies_No',\n",
    "    'streaming_movies_No_internet_service',\n",
    "    'payment_type_Bank_transfer_(automatic)',\n",
    "    'payment_type_Credit_card_(automatic)',\n",
    "    'payment_type_Electronic_check',\n",
    "    'payment_type_Mailed_check',\n",
    "    'contract_type_Month-to-month',\n",
    "    'contract_type_One_year',\n",
    "    'contract_type_Two_year',\n",
    "    'total_services',\n",
    "    'total_extra_services'\n",
    "]"
   ]
  },
  {
   "cell_type": "code",
   "execution_count": 6,
   "id": "0d8d2fb7",
   "metadata": {},
   "outputs": [],
   "source": [
    "# Assign x/y train/val/test cols:\n",
    "x_train = train[keylist]\n",
    "y_train = pd.DataFrame(train['churn'])\n",
    "x_val = val[keylist]\n",
    "y_val = val['churn']\n",
    "x_test = test[keylist]\n",
    "y_test = test['churn']"
   ]
  },
  {
   "cell_type": "markdown",
   "id": "d7a72d91",
   "metadata": {},
   "source": [
    "<a id='DTC'></a>\n",
    "# Decision Tree Classifier Modeling:\n",
    "<li><a href='#TableOfContents'>Table of Contents</a></li>"
   ]
  },
  {
   "cell_type": "code",
   "execution_count": 7,
   "id": "415a0730",
   "metadata": {},
   "outputs": [],
   "source": [
    "# Make df for Decision Tree Models\n",
    "dtcmodels = pd.DataFrame(train.churn)"
   ]
  },
  {
   "cell_type": "code",
   "execution_count": 8,
   "id": "0a4c8b1b",
   "metadata": {},
   "outputs": [],
   "source": [
    "# Create baseline\n",
    "dtcmodels['baseline'] = 'No'"
   ]
  },
  {
   "cell_type": "code",
   "execution_count": 9,
   "id": "bab0e6bf",
   "metadata": {},
   "outputs": [
    {
     "data": {
      "text/html": [
       "<div>\n",
       "<style scoped>\n",
       "    .dataframe tbody tr th:only-of-type {\n",
       "        vertical-align: middle;\n",
       "    }\n",
       "\n",
       "    .dataframe tbody tr th {\n",
       "        vertical-align: top;\n",
       "    }\n",
       "\n",
       "    .dataframe thead th {\n",
       "        text-align: right;\n",
       "    }\n",
       "</style>\n",
       "<table border=\"1\" class=\"dataframe\">\n",
       "  <thead>\n",
       "    <tr style=\"text-align: right;\">\n",
       "      <th></th>\n",
       "      <th>churn</th>\n",
       "      <th>baseline</th>\n",
       "    </tr>\n",
       "  </thead>\n",
       "  <tbody>\n",
       "    <tr>\n",
       "      <th>532</th>\n",
       "      <td>No</td>\n",
       "      <td>No</td>\n",
       "    </tr>\n",
       "  </tbody>\n",
       "</table>\n",
       "</div>"
      ],
      "text/plain": [
       "    churn baseline\n",
       "532    No       No"
      ]
     },
     "execution_count": 9,
     "metadata": {},
     "output_type": "execute_result"
    }
   ],
   "source": [
    "# Check DTC models\n",
    "dtcmodels.sample()"
   ]
  },
  {
   "cell_type": "code",
   "execution_count": 10,
   "id": "e337d052",
   "metadata": {},
   "outputs": [],
   "source": [
    "# Create base dictionary\n",
    "dtcscores = {\n",
    "    'model' : ['actual'],\n",
    "    'train' : [100],\n",
    "    'val' : [100],\n",
    "    'diff' : [0],\n",
    "    'test' : [100]\n",
    "}"
   ]
  },
  {
   "cell_type": "code",
   "execution_count": 11,
   "id": "3008aa8a",
   "metadata": {},
   "outputs": [],
   "source": [
    "# Add baseline to dictionary\n",
    "baselinetrain = round((train.churn == 'No').mean(), 5)\n",
    "baselineval = round((val.churn == 'No').mean(), 5)\n",
    "baselinediff = round(abs(baselinetrain - baselineval), 5)\n",
    "baselinetest = round((test.churn == 'No').mean(), 5)\n",
    "dtcscores['model'].append('baseline')\n",
    "dtcscores['train'].append(baselinetrain)\n",
    "dtcscores['val'].append(baselineval)\n",
    "dtcscores['diff'].append(baselinediff)\n",
    "dtcscores['test'].append(baselinetest)"
   ]
  },
  {
   "cell_type": "code",
   "execution_count": 12,
   "id": "f0bdbc81",
   "metadata": {},
   "outputs": [
    {
     "data": {
      "text/html": [
       "<div>\n",
       "<style scoped>\n",
       "    .dataframe tbody tr th:only-of-type {\n",
       "        vertical-align: middle;\n",
       "    }\n",
       "\n",
       "    .dataframe tbody tr th {\n",
       "        vertical-align: top;\n",
       "    }\n",
       "\n",
       "    .dataframe thead th {\n",
       "        text-align: right;\n",
       "    }\n",
       "</style>\n",
       "<table border=\"1\" class=\"dataframe\">\n",
       "  <thead>\n",
       "    <tr style=\"text-align: right;\">\n",
       "      <th></th>\n",
       "      <th>model</th>\n",
       "      <th>train</th>\n",
       "      <th>val</th>\n",
       "      <th>diff</th>\n",
       "      <th>test</th>\n",
       "    </tr>\n",
       "  </thead>\n",
       "  <tbody>\n",
       "    <tr>\n",
       "      <th>0</th>\n",
       "      <td>actual</td>\n",
       "      <td>100.00000</td>\n",
       "      <td>100.00000</td>\n",
       "      <td>0.00000</td>\n",
       "      <td>100.00000</td>\n",
       "    </tr>\n",
       "    <tr>\n",
       "      <th>1</th>\n",
       "      <td>baseline</td>\n",
       "      <td>0.73472</td>\n",
       "      <td>0.73448</td>\n",
       "      <td>0.00024</td>\n",
       "      <td>0.73456</td>\n",
       "    </tr>\n",
       "  </tbody>\n",
       "</table>\n",
       "</div>"
      ],
      "text/plain": [
       "      model      train        val     diff       test\n",
       "0    actual  100.00000  100.00000  0.00000  100.00000\n",
       "1  baseline    0.73472    0.73448  0.00024    0.73456"
      ]
     },
     "execution_count": 12,
     "metadata": {},
     "output_type": "execute_result"
    }
   ],
   "source": [
    "# Confirm df funcitonality with actual and baseline\n",
    "pd.DataFrame.from_dict(dtcscores)"
   ]
  },
  {
   "cell_type": "code",
   "execution_count": 13,
   "id": "9b8d23b7",
   "metadata": {},
   "outputs": [],
   "source": [
    "# Make and fit DTC of 2-15 depth to train\n",
    "# Add predictions to DTCdf\n",
    "for i in range(2, 16):\n",
    "    dtc = DTC(max_depth=i, random_state=100)\n",
    "    dtc.fit(x_train, y_train)\n",
    "    model = dtc.predict(x_train)\n",
    "    trainscore = round(dtc.score(x_train, y_train), 5)\n",
    "    valscore = round(dtc.score(x_val, y_val), 5)\n",
    "    diffscore = round(abs(trainscore - valscore), 5)\n",
    "    testscore = round(dtc.score(x_test, y_test), 5)\n",
    "    dtcmodels[i] = model\n",
    "    dtcscores['model'].append(f'model{i}')\n",
    "    dtcscores['train'].append(trainscore)\n",
    "    dtcscores['val'].append(valscore)\n",
    "    dtcscores['diff'].append(diffscore)\n",
    "    dtcscores['test'].append(testscore)"
   ]
  },
  {
   "cell_type": "code",
   "execution_count": 14,
   "id": "7d447bd3",
   "metadata": {},
   "outputs": [
    {
     "data": {
      "text/html": [
       "<div>\n",
       "<style scoped>\n",
       "    .dataframe tbody tr th:only-of-type {\n",
       "        vertical-align: middle;\n",
       "    }\n",
       "\n",
       "    .dataframe tbody tr th {\n",
       "        vertical-align: top;\n",
       "    }\n",
       "\n",
       "    .dataframe thead th {\n",
       "        text-align: right;\n",
       "    }\n",
       "</style>\n",
       "<table border=\"1\" class=\"dataframe\">\n",
       "  <thead>\n",
       "    <tr style=\"text-align: right;\">\n",
       "      <th></th>\n",
       "      <th>model</th>\n",
       "      <th>train</th>\n",
       "      <th>val</th>\n",
       "      <th>diff</th>\n",
       "      <th>test</th>\n",
       "    </tr>\n",
       "  </thead>\n",
       "  <tbody>\n",
       "    <tr>\n",
       "      <th>0</th>\n",
       "      <td>actual</td>\n",
       "      <td>100.0000</td>\n",
       "      <td>100.00000</td>\n",
       "      <td>0.00000</td>\n",
       "      <td>100.00000</td>\n",
       "    </tr>\n",
       "    <tr>\n",
       "      <th>15</th>\n",
       "      <td>model15</td>\n",
       "      <td>0.8808</td>\n",
       "      <td>0.72028</td>\n",
       "      <td>0.16052</td>\n",
       "      <td>0.70688</td>\n",
       "    </tr>\n",
       "  </tbody>\n",
       "</table>\n",
       "</div>"
      ],
      "text/plain": [
       "      model     train        val     diff       test\n",
       "0    actual  100.0000  100.00000  0.00000  100.00000\n",
       "15  model15    0.8808    0.72028  0.16052    0.70688"
      ]
     },
     "execution_count": 14,
     "metadata": {},
     "output_type": "execute_result"
    }
   ],
   "source": [
    "# Find best 'train' model\n",
    "pd.DataFrame.from_dict(dtcscores).sort_values(by='train', ascending=False).head(2)"
   ]
  },
  {
   "cell_type": "code",
   "execution_count": 15,
   "id": "7caca976",
   "metadata": {},
   "outputs": [
    {
     "data": {
      "text/html": [
       "<div>\n",
       "<style scoped>\n",
       "    .dataframe tbody tr th:only-of-type {\n",
       "        vertical-align: middle;\n",
       "    }\n",
       "\n",
       "    .dataframe tbody tr th {\n",
       "        vertical-align: top;\n",
       "    }\n",
       "\n",
       "    .dataframe thead th {\n",
       "        text-align: right;\n",
       "    }\n",
       "</style>\n",
       "<table border=\"1\" class=\"dataframe\">\n",
       "  <thead>\n",
       "    <tr style=\"text-align: right;\">\n",
       "      <th></th>\n",
       "      <th>model</th>\n",
       "      <th>train</th>\n",
       "      <th>val</th>\n",
       "      <th>diff</th>\n",
       "      <th>test</th>\n",
       "    </tr>\n",
       "  </thead>\n",
       "  <tbody>\n",
       "    <tr>\n",
       "      <th>0</th>\n",
       "      <td>actual</td>\n",
       "      <td>100.00000</td>\n",
       "      <td>100.00000</td>\n",
       "      <td>0.00000</td>\n",
       "      <td>100.00000</td>\n",
       "    </tr>\n",
       "    <tr>\n",
       "      <th>4</th>\n",
       "      <td>model4</td>\n",
       "      <td>0.78849</td>\n",
       "      <td>0.76818</td>\n",
       "      <td>0.02031</td>\n",
       "      <td>0.76011</td>\n",
       "    </tr>\n",
       "  </tbody>\n",
       "</table>\n",
       "</div>"
      ],
      "text/plain": [
       "    model      train        val     diff       test\n",
       "0  actual  100.00000  100.00000  0.00000  100.00000\n",
       "4  model4    0.78849    0.76818  0.02031    0.76011"
      ]
     },
     "execution_count": 15,
     "metadata": {},
     "output_type": "execute_result"
    }
   ],
   "source": [
    "# Find best 'val' model\n",
    "pd.DataFrame.from_dict(dtcscores).sort_values(by='val', ascending=False).head(2)"
   ]
  },
  {
   "cell_type": "code",
   "execution_count": 16,
   "id": "2eae997e",
   "metadata": {},
   "outputs": [
    {
     "data": {
      "text/html": [
       "<div>\n",
       "<style scoped>\n",
       "    .dataframe tbody tr th:only-of-type {\n",
       "        vertical-align: middle;\n",
       "    }\n",
       "\n",
       "    .dataframe tbody tr th {\n",
       "        vertical-align: top;\n",
       "    }\n",
       "\n",
       "    .dataframe thead th {\n",
       "        text-align: right;\n",
       "    }\n",
       "</style>\n",
       "<table border=\"1\" class=\"dataframe\">\n",
       "  <thead>\n",
       "    <tr style=\"text-align: right;\">\n",
       "      <th></th>\n",
       "      <th>model</th>\n",
       "      <th>train</th>\n",
       "      <th>val</th>\n",
       "      <th>diff</th>\n",
       "      <th>test</th>\n",
       "    </tr>\n",
       "  </thead>\n",
       "  <tbody>\n",
       "    <tr>\n",
       "      <th>0</th>\n",
       "      <td>actual</td>\n",
       "      <td>100.00000</td>\n",
       "      <td>100.00000</td>\n",
       "      <td>0.00000</td>\n",
       "      <td>100.00000</td>\n",
       "    </tr>\n",
       "    <tr>\n",
       "      <th>4</th>\n",
       "      <td>model4</td>\n",
       "      <td>0.78849</td>\n",
       "      <td>0.76818</td>\n",
       "      <td>0.02031</td>\n",
       "      <td>0.76011</td>\n",
       "    </tr>\n",
       "  </tbody>\n",
       "</table>\n",
       "</div>"
      ],
      "text/plain": [
       "    model      train        val     diff       test\n",
       "0  actual  100.00000  100.00000  0.00000  100.00000\n",
       "4  model4    0.78849    0.76818  0.02031    0.76011"
      ]
     },
     "execution_count": 16,
     "metadata": {},
     "output_type": "execute_result"
    }
   ],
   "source": [
    "# Find best 'test' model\n",
    "pd.DataFrame.from_dict(dtcscores).sort_values(by='test', ascending=False).head(2)"
   ]
  },
  {
   "cell_type": "markdown",
   "id": "a4466305",
   "metadata": {},
   "source": [
    "- Best Train Model:\n",
    "    - model 15 @ 88.1%\n",
    "        - Restrictions:\n",
    "            - max_depth = 15\n",
    "            - random_state=100\n",
    "- Best Validate Model:\n",
    "    - model 4 @ 76.8%\n",
    "        - Restrictions:\n",
    "            - max_depth = 4\n",
    "            - random_state=100\n",
    "- Best Test Model:\n",
    "    - model 4 @ 76.0%\n",
    "        - Restrictions:\n",
    "            - max_depth = 4\n",
    "            - random_state=100"
   ]
  },
  {
   "cell_type": "markdown",
   "id": "70bc9f5c",
   "metadata": {},
   "source": [
    "<a id='RFC'></a>\n",
    "# Random Forest Classifier Modeling:\n",
    "<li><a href='#TableOfContents'>Table of Contents</a></li>"
   ]
  },
  {
   "cell_type": "code",
   "execution_count": null,
   "id": "1cd975f3",
   "metadata": {},
   "outputs": [],
   "source": []
  },
  {
   "cell_type": "markdown",
   "id": "45b30c46",
   "metadata": {},
   "source": [
    "<a id='KNN'></a>\n",
    "# K-Nearest Neighbors Modeling:\n",
    "<li><a href='#TableOfContents'>Table of Contents</a></li>"
   ]
  },
  {
   "cell_type": "code",
   "execution_count": null,
   "id": "c001e573",
   "metadata": {},
   "outputs": [],
   "source": []
  },
  {
   "cell_type": "markdown",
   "id": "65846646",
   "metadata": {},
   "source": [
    "<a id='LR'></a>\n",
    "# Logistic Regression Modeling:\n",
    "<li><a href='#TableOfContents'>Table of Contents</a></li>"
   ]
  },
  {
   "cell_type": "code",
   "execution_count": null,
   "id": "9b5682d0",
   "metadata": {},
   "outputs": [],
   "source": []
  },
  {
   "cell_type": "markdown",
   "id": "197977f8",
   "metadata": {},
   "source": [
    "<a id='top3'></a>\n",
    "# Top 3 Models:\n",
    "<li><a href='#TableOfContents'>Table of Contents</a></li>"
   ]
  },
  {
   "cell_type": "code",
   "execution_count": null,
   "id": "8fe9c03c",
   "metadata": {},
   "outputs": [],
   "source": []
  }
 ],
 "metadata": {
  "kernelspec": {
   "display_name": "Python 3 (ipykernel)",
   "language": "python",
   "name": "python3"
  },
  "language_info": {
   "codemirror_mode": {
    "name": "ipython",
    "version": 3
   },
   "file_extension": ".py",
   "mimetype": "text/x-python",
   "name": "python",
   "nbconvert_exporter": "python",
   "pygments_lexer": "ipython3",
   "version": "3.9.13"
  }
 },
 "nbformat": 4,
 "nbformat_minor": 5
}
