{
 "cells": [
  {
   "cell_type": "markdown",
   "id": "09ad4641",
   "metadata": {},
   "source": [
    "<a id=\"TableOfContents\"></a>\n",
    "# TABLE OF CONTENTS:\n",
    "<li><a href='#imports'>Imports</a></li>\n",
    "<li><a href=\"#telco\">Get Telco Dataset</a></li>\n",
    "<li><a href=\"#split\">Split Telco Dataset</a></li>\n",
    "<li><a href=\"#keycol\">Key Columns</a></li>\n",
    "<li><a href=\"#DTC\">Decision Tree Classifier Modeling</a></li>\n",
    "<li><a href=\"#RFC\">Random Forest Classifier Modeling</a></li>\n",
    "<li><a href=\"#KNN\">K-Nearest Neighbors Modeling</a></li>\n",
    "<li><a href=\"#LR\">Logistic Regression Modeling</a></li>\n",
    "<li><a href=\"#top3\">Top 3 Models</a></li>"
   ]
  },
  {
   "cell_type": "markdown",
   "id": "9616920f",
   "metadata": {},
   "source": [
    "##### Orientation:\n",
    "The purpose of this file is to create models to predict whether or not a customer will churn and get the best performing models."
   ]
  },
  {
   "cell_type": "markdown",
   "id": "39b62d1f",
   "metadata": {},
   "source": [
    "<a id='imports'></a>\n",
    "# IMPORTS:\n",
    "<li><a href='#TableOfContents'>Table of Contents</a></li>"
   ]
  },
  {
   "cell_type": "code",
   "execution_count": 1,
   "id": "0fa0497a",
   "metadata": {},
   "outputs": [],
   "source": [
    "# tabular data\n",
    "import numpy as np\n",
    "import pandas as pd\n",
    "\n",
    "# plotting\n",
    "import matplotlib.pyplot as plt\n",
    "import seaborn as sns\n",
    "\n",
    "# DecisionTree modeling:\n",
    "from sklearn.tree import DecisionTreeClassifier as DTC, export_text, plot_tree\n",
    "\n",
    "# RandomForest modeling:\n",
    "from sklearn.ensemble import RandomForestClassifier as RFC\n",
    "\n",
    "# KNN modeling:\n",
    "from sklearn.neighbors import KNeighborsClassifier as KNN\n",
    "\n",
    "# Logistic Regression modeling:\n",
    "from sklearn.linear_model import LogisticRegression as LR\n",
    "\n",
    "# Other sklearn stuff\n",
    "from sklearn.metrics import accuracy_score, classification_report, confusion_matrix\n",
    "from sklearn.model_selection import train_test_split\n",
    "\n",
    "# .py files\n",
    "import prepare\n",
    "import evaluation\n",
    "import model\n",
    "\n",
    "from sklearn.feature_selection import SelectKBest, chi2"
   ]
  },
  {
   "cell_type": "markdown",
   "id": "f671b693",
   "metadata": {},
   "source": [
    "<a id='telco'></a>\n",
    "# Get Telco Dataset:\n",
    "<li><a href='#TableOfContents'>Table of Contents</a></li>"
   ]
  },
  {
   "cell_type": "code",
   "execution_count": 2,
   "id": "618cf1aa",
   "metadata": {},
   "outputs": [
    {
     "name": "stderr",
     "output_type": "stream",
     "text": [
      "/usr/local/anaconda3/lib/python3.9/site-packages/pandas/core/algorithms.py:798: FutureWarning: In a future version, the Index constructor will not infer numeric dtypes when passed object-dtype sequences (matching Series behavior)\n",
      "  uniques = Index(uniques)\n"
     ]
    },
    {
     "data": {
      "text/html": [
       "<div>\n",
       "<style scoped>\n",
       "    .dataframe tbody tr th:only-of-type {\n",
       "        vertical-align: middle;\n",
       "    }\n",
       "\n",
       "    .dataframe tbody tr th {\n",
       "        vertical-align: top;\n",
       "    }\n",
       "\n",
       "    .dataframe thead th {\n",
       "        text-align: right;\n",
       "    }\n",
       "</style>\n",
       "<table border=\"1\" class=\"dataframe\">\n",
       "  <thead>\n",
       "    <tr style=\"text-align: right;\">\n",
       "      <th></th>\n",
       "      <th>gender</th>\n",
       "      <th>senior_citizen</th>\n",
       "      <th>partner</th>\n",
       "      <th>dependents</th>\n",
       "      <th>tenure</th>\n",
       "      <th>phone_service</th>\n",
       "      <th>multiple_lines</th>\n",
       "      <th>online_security</th>\n",
       "      <th>online_backup</th>\n",
       "      <th>device_protection</th>\n",
       "      <th>...</th>\n",
       "      <th>sign_dayofweek_1</th>\n",
       "      <th>sign_dayofweek_2</th>\n",
       "      <th>sign_dayofweek_3</th>\n",
       "      <th>sign_dayofweek_4</th>\n",
       "      <th>sign_dayofweek_5</th>\n",
       "      <th>sign_dayofweek_6</th>\n",
       "      <th>total_services</th>\n",
       "      <th>total_extra_services</th>\n",
       "      <th>value_per_total_services</th>\n",
       "      <th>value_per_total_extra_services</th>\n",
       "    </tr>\n",
       "  </thead>\n",
       "  <tbody>\n",
       "    <tr>\n",
       "      <th>5432</th>\n",
       "      <td>Female</td>\n",
       "      <td>0</td>\n",
       "      <td>Yes</td>\n",
       "      <td>Yes</td>\n",
       "      <td>63</td>\n",
       "      <td>Yes</td>\n",
       "      <td>No</td>\n",
       "      <td>No internet service</td>\n",
       "      <td>No internet service</td>\n",
       "      <td>No internet service</td>\n",
       "      <td>...</td>\n",
       "      <td>0</td>\n",
       "      <td>0</td>\n",
       "      <td>0</td>\n",
       "      <td>1</td>\n",
       "      <td>0</td>\n",
       "      <td>0</td>\n",
       "      <td>1</td>\n",
       "      <td>0</td>\n",
       "      <td>19.35</td>\n",
       "      <td>inf</td>\n",
       "    </tr>\n",
       "  </tbody>\n",
       "</table>\n",
       "<p>1 rows × 100 columns</p>\n",
       "</div>"
      ],
      "text/plain": [
       "      gender  senior_citizen partner dependents  tenure phone_service  \\\n",
       "5432  Female               0     Yes        Yes      63           Yes   \n",
       "\n",
       "     multiple_lines      online_security        online_backup  \\\n",
       "5432             No  No internet service  No internet service   \n",
       "\n",
       "        device_protection  ... sign_dayofweek_1 sign_dayofweek_2  \\\n",
       "5432  No internet service  ...                0                0   \n",
       "\n",
       "     sign_dayofweek_3 sign_dayofweek_4  sign_dayofweek_5  sign_dayofweek_6  \\\n",
       "5432                0                1                 0                 0   \n",
       "\n",
       "     total_services total_extra_services value_per_total_services  \\\n",
       "5432              1                    0                    19.35   \n",
       "\n",
       "     value_per_total_extra_services  \n",
       "5432                            inf  \n",
       "\n",
       "[1 rows x 100 columns]"
      ]
     },
     "execution_count": 2,
     "metadata": {},
     "output_type": "execute_result"
    }
   ],
   "source": [
    "# Acquire cleaned 'telco' dataset\n",
    "telco = prepare.prep_telco()\n",
    "telco.sample()"
   ]
  },
  {
   "cell_type": "markdown",
   "id": "a2ee6601",
   "metadata": {},
   "source": [
    "<a id='split'></a>\n",
    "# Split Telco Dataset:\n",
    "<li><a href='#TableOfContents'>Table of Contents</a></li>"
   ]
  },
  {
   "cell_type": "code",
   "execution_count": 3,
   "id": "ba464ec4",
   "metadata": {},
   "outputs": [
    {
     "name": "stdout",
     "output_type": "stream",
     "text": [
      "train.shape:(3943, 100)\n",
      "validate.shape:(1691, 100)\n",
      "test.shape:(1409, 100)\n"
     ]
    }
   ],
   "source": [
    "# Split telco dataset\n",
    "train, val, test = prepare.split(telco, 'churn')"
   ]
  },
  {
   "cell_type": "code",
   "execution_count": 4,
   "id": "4c029e6d",
   "metadata": {},
   "outputs": [
    {
     "data": {
      "text/plain": [
       "((3943, 100), (1691, 100), (1409, 100))"
      ]
     },
     "execution_count": 4,
     "metadata": {},
     "output_type": "execute_result"
    }
   ],
   "source": [
    "# Verify split shapes\n",
    "train.shape, val.shape, test.shape"
   ]
  },
  {
   "cell_type": "markdown",
   "id": "6ee174d9",
   "metadata": {},
   "source": [
    "<a id='keycol'></a>\n",
    "# Key Columns:\n",
    "<li><a href='#TableOfContents'>Table of Contents</a></li>"
   ]
  },
  {
   "cell_type": "markdown",
   "id": "ee211028",
   "metadata": {},
   "source": [
    "- Columns:\n",
    "    - 'partner'\n",
    "    - 'dependents'\n",
    "    - 'online_security'\n",
    "    - 'online_backup'\n",
    "    - 'device_protection'\n",
    "    - 'tech_support'\n",
    "    - 'streaming_tv'\n",
    "    - 'streaming_movies'\n",
    "    - 'payment_type'\n",
    "    - 'contract_type'\n",
    "    - 'total_services'\n",
    "    - 'total_extra_services'"
   ]
  },
  {
   "cell_type": "markdown",
   "id": "913bc730",
   "metadata": {},
   "source": [
    "# List of pertinent columns\n",
    "keylist = [\n",
    "    'partner_Yes',\n",
    "    'partner_No',\n",
    "    'dependents_Yes',\n",
    "    'dependents_No',\n",
    "    'online_security_Yes',\n",
    "    'online_security_No',\n",
    "    'online_security_No_internet_service',\n",
    "    'online_backup_Yes',\n",
    "    'online_backup_No',\n",
    "    'online_backup_No_internet_service',\n",
    "    'device_protection_Yes',\n",
    "    'device_protection_No',\n",
    "    'device_protection_No_internet_service',\n",
    "    'tech_support_Yes',\n",
    "    'tech_support_No',\n",
    "    'tech_support_No_internet_service',\n",
    "    'streaming_tv_Yes',\n",
    "    'streaming_tv_No',\n",
    "    'streaming_tv_No_internet_service',\n",
    "    'streaming_movies_Yes',\n",
    "    'streaming_movies_No',\n",
    "    'streaming_movies_No_internet_service',\n",
    "    'payment_type_Bank_transfer_(automatic)',\n",
    "    'payment_type_Credit_card_(automatic)',\n",
    "    'payment_type_Electronic_check',\n",
    "    'payment_type_Mailed_check',\n",
    "    'contract_type_Month-to-month',\n",
    "    'contract_type_One_year',\n",
    "    'contract_type_Two_year',\n",
    "    'total_services',\n",
    "    'total_extra_services'\n",
    "]"
   ]
  },
  {
   "cell_type": "code",
   "execution_count": 228,
   "id": "106f0e26",
   "metadata": {},
   "outputs": [],
   "source": [
    "# List of pertinent columns\n",
    "# Bin signup_date\n",
    "keylist = [\n",
    "    'partner_No',\n",
    "    'dependents_No',\n",
    "    'online_security_No',\n",
    "    'online_backup_No',\n",
    "    'device_protection_No',\n",
    "    'tech_support_No',\n",
    "    'paperless_billing_Yes',\n",
    "    'contract_type_Month-to-month',\n",
    "    'internet_service_type_Fiber_optic',\n",
    "    'payment_type_Electronic_check',\n",
    "    'sign_year',\n",
    "    'sign_month',\n",
    "    'sign_dayofweek',\n",
    "    'total_services',\n",
    "    'total_extra_services',\n",
    "    'senior_citizen',\n",
    "    'tenure',\n",
    "    'monthly_charges',\n",
    "    'value_per_total_services'\n",
    "]"
   ]
  },
  {
   "cell_type": "code",
   "execution_count": 229,
   "id": "e1d581fb",
   "metadata": {},
   "outputs": [],
   "source": [
    "# Assign x/y train/val/test cols:\n",
    "x_train = train[keylist]\n",
    "y_train = train['churn']\n",
    "x_val = val[keylist]\n",
    "y_val = val['churn']\n",
    "x_test = test[keylist]\n",
    "y_test = test['churn']"
   ]
  },
  {
   "cell_type": "markdown",
   "id": "e2860f9e",
   "metadata": {},
   "source": [
    "<a id='DTC'></a>\n",
    "# Decision Tree Classifier Modeling:\n",
    "<li><a href='#TableOfContents'>Table of Contents</a></li>"
   ]
  },
  {
   "cell_type": "code",
   "execution_count": 230,
   "id": "ae4133c9",
   "metadata": {},
   "outputs": [],
   "source": [
    "# Create base dictionary\n",
    "dtcscores = {\n",
    "    'model' : ['actual'],\n",
    "    'train' : [100],\n",
    "    'val' : [100],\n",
    "    'diff' : [0],\n",
    "    'test' : [100]\n",
    "}"
   ]
  },
  {
   "cell_type": "code",
   "execution_count": 231,
   "id": "a3cad9aa",
   "metadata": {},
   "outputs": [],
   "source": [
    "# Add baseline to dictionary\n",
    "baselinetrain = round((train.churn == 'No').mean(), 5)\n",
    "baselineval = round((val.churn == 'No').mean(), 5)\n",
    "baselinediff = round(abs(baselinetrain - baselineval), 5)\n",
    "baselinetest = round((test.churn == 'No').mean(), 5)\n",
    "dtcscores['model'].append('baseline')\n",
    "dtcscores['train'].append(baselinetrain)\n",
    "dtcscores['val'].append(baselineval)\n",
    "dtcscores['diff'].append(baselinediff)\n",
    "dtcscores['test'].append(baselinetest)"
   ]
  },
  {
   "cell_type": "code",
   "execution_count": 232,
   "id": "66a798fb",
   "metadata": {},
   "outputs": [
    {
     "data": {
      "text/html": [
       "<div>\n",
       "<style scoped>\n",
       "    .dataframe tbody tr th:only-of-type {\n",
       "        vertical-align: middle;\n",
       "    }\n",
       "\n",
       "    .dataframe tbody tr th {\n",
       "        vertical-align: top;\n",
       "    }\n",
       "\n",
       "    .dataframe thead th {\n",
       "        text-align: right;\n",
       "    }\n",
       "</style>\n",
       "<table border=\"1\" class=\"dataframe\">\n",
       "  <thead>\n",
       "    <tr style=\"text-align: right;\">\n",
       "      <th></th>\n",
       "      <th>model</th>\n",
       "      <th>train</th>\n",
       "      <th>val</th>\n",
       "      <th>diff</th>\n",
       "      <th>test</th>\n",
       "    </tr>\n",
       "  </thead>\n",
       "  <tbody>\n",
       "    <tr>\n",
       "      <th>0</th>\n",
       "      <td>actual</td>\n",
       "      <td>100.00000</td>\n",
       "      <td>100.00000</td>\n",
       "      <td>0.00000</td>\n",
       "      <td>100.00000</td>\n",
       "    </tr>\n",
       "    <tr>\n",
       "      <th>1</th>\n",
       "      <td>baseline</td>\n",
       "      <td>0.73472</td>\n",
       "      <td>0.73448</td>\n",
       "      <td>0.00024</td>\n",
       "      <td>0.73456</td>\n",
       "    </tr>\n",
       "  </tbody>\n",
       "</table>\n",
       "</div>"
      ],
      "text/plain": [
       "      model      train        val     diff       test\n",
       "0    actual  100.00000  100.00000  0.00000  100.00000\n",
       "1  baseline    0.73472    0.73448  0.00024    0.73456"
      ]
     },
     "execution_count": 232,
     "metadata": {},
     "output_type": "execute_result"
    }
   ],
   "source": [
    "# Confirm df funcitonality with actual and baseline\n",
    "pd.DataFrame.from_dict(dtcscores)"
   ]
  },
  {
   "cell_type": "code",
   "execution_count": 233,
   "id": "ca375f50",
   "metadata": {},
   "outputs": [
    {
     "ename": "TypeError",
     "evalue": "float() argument must be a string or a number, not 'NaTType'",
     "output_type": "error",
     "traceback": [
      "\u001b[0;31m---------------------------------------------------------------------------\u001b[0m",
      "\u001b[0;31mTypeError\u001b[0m                                 Traceback (most recent call last)",
      "\u001b[0;32m/var/folders/6x/kctcvd8x6l18t57t92kmqy6w0000gn/T/ipykernel_19016/1972484061.py\u001b[0m in \u001b[0;36m<module>\u001b[0;34m\u001b[0m\n\u001b[1;32m      2\u001b[0m \u001b[0;32mfor\u001b[0m \u001b[0mi\u001b[0m \u001b[0;32min\u001b[0m \u001b[0mrange\u001b[0m\u001b[0;34m(\u001b[0m\u001b[0;36m2\u001b[0m\u001b[0;34m,\u001b[0m \u001b[0;36m16\u001b[0m\u001b[0;34m)\u001b[0m\u001b[0;34m:\u001b[0m\u001b[0;34m\u001b[0m\u001b[0;34m\u001b[0m\u001b[0m\n\u001b[1;32m      3\u001b[0m     \u001b[0mdtc\u001b[0m \u001b[0;34m=\u001b[0m \u001b[0mDTC\u001b[0m\u001b[0;34m(\u001b[0m\u001b[0mmax_depth\u001b[0m\u001b[0;34m=\u001b[0m\u001b[0mi\u001b[0m\u001b[0;34m,\u001b[0m \u001b[0mrandom_state\u001b[0m\u001b[0;34m=\u001b[0m\u001b[0;36m100\u001b[0m\u001b[0;34m)\u001b[0m\u001b[0;34m\u001b[0m\u001b[0;34m\u001b[0m\u001b[0m\n\u001b[0;32m----> 4\u001b[0;31m     \u001b[0mdtc\u001b[0m\u001b[0;34m.\u001b[0m\u001b[0mfit\u001b[0m\u001b[0;34m(\u001b[0m\u001b[0mx_train\u001b[0m\u001b[0;34m,\u001b[0m \u001b[0my_train\u001b[0m\u001b[0;34m)\u001b[0m\u001b[0;34m\u001b[0m\u001b[0;34m\u001b[0m\u001b[0m\n\u001b[0m\u001b[1;32m      5\u001b[0m     \u001b[0mmodel\u001b[0m \u001b[0;34m=\u001b[0m \u001b[0mdtc\u001b[0m\u001b[0;34m.\u001b[0m\u001b[0mpredict\u001b[0m\u001b[0;34m(\u001b[0m\u001b[0mx_train\u001b[0m\u001b[0;34m)\u001b[0m\u001b[0;34m\u001b[0m\u001b[0;34m\u001b[0m\u001b[0m\n\u001b[1;32m      6\u001b[0m     \u001b[0mtrainscore\u001b[0m \u001b[0;34m=\u001b[0m \u001b[0mround\u001b[0m\u001b[0;34m(\u001b[0m\u001b[0mdtc\u001b[0m\u001b[0;34m.\u001b[0m\u001b[0mscore\u001b[0m\u001b[0;34m(\u001b[0m\u001b[0mx_train\u001b[0m\u001b[0;34m,\u001b[0m \u001b[0my_train\u001b[0m\u001b[0;34m)\u001b[0m\u001b[0;34m,\u001b[0m \u001b[0;36m5\u001b[0m\u001b[0;34m)\u001b[0m\u001b[0;34m\u001b[0m\u001b[0;34m\u001b[0m\u001b[0m\n",
      "\u001b[0;32m/usr/local/anaconda3/lib/python3.9/site-packages/sklearn/tree/_classes.py\u001b[0m in \u001b[0;36mfit\u001b[0;34m(self, X, y, sample_weight, check_input, X_idx_sorted)\u001b[0m\n\u001b[1;32m    935\u001b[0m         \"\"\"\n\u001b[1;32m    936\u001b[0m \u001b[0;34m\u001b[0m\u001b[0m\n\u001b[0;32m--> 937\u001b[0;31m         super().fit(\n\u001b[0m\u001b[1;32m    938\u001b[0m             \u001b[0mX\u001b[0m\u001b[0;34m,\u001b[0m\u001b[0;34m\u001b[0m\u001b[0;34m\u001b[0m\u001b[0m\n\u001b[1;32m    939\u001b[0m             \u001b[0my\u001b[0m\u001b[0;34m,\u001b[0m\u001b[0;34m\u001b[0m\u001b[0;34m\u001b[0m\u001b[0m\n",
      "\u001b[0;32m/usr/local/anaconda3/lib/python3.9/site-packages/sklearn/tree/_classes.py\u001b[0m in \u001b[0;36mfit\u001b[0;34m(self, X, y, sample_weight, check_input, X_idx_sorted)\u001b[0m\n\u001b[1;32m    163\u001b[0m             \u001b[0mcheck_X_params\u001b[0m \u001b[0;34m=\u001b[0m \u001b[0mdict\u001b[0m\u001b[0;34m(\u001b[0m\u001b[0mdtype\u001b[0m\u001b[0;34m=\u001b[0m\u001b[0mDTYPE\u001b[0m\u001b[0;34m,\u001b[0m \u001b[0maccept_sparse\u001b[0m\u001b[0;34m=\u001b[0m\u001b[0;34m\"csc\"\u001b[0m\u001b[0;34m)\u001b[0m\u001b[0;34m\u001b[0m\u001b[0;34m\u001b[0m\u001b[0m\n\u001b[1;32m    164\u001b[0m             \u001b[0mcheck_y_params\u001b[0m \u001b[0;34m=\u001b[0m \u001b[0mdict\u001b[0m\u001b[0;34m(\u001b[0m\u001b[0mensure_2d\u001b[0m\u001b[0;34m=\u001b[0m\u001b[0;32mFalse\u001b[0m\u001b[0;34m,\u001b[0m \u001b[0mdtype\u001b[0m\u001b[0;34m=\u001b[0m\u001b[0;32mNone\u001b[0m\u001b[0;34m)\u001b[0m\u001b[0;34m\u001b[0m\u001b[0;34m\u001b[0m\u001b[0m\n\u001b[0;32m--> 165\u001b[0;31m             X, y = self._validate_data(\n\u001b[0m\u001b[1;32m    166\u001b[0m                 \u001b[0mX\u001b[0m\u001b[0;34m,\u001b[0m \u001b[0my\u001b[0m\u001b[0;34m,\u001b[0m \u001b[0mvalidate_separately\u001b[0m\u001b[0;34m=\u001b[0m\u001b[0;34m(\u001b[0m\u001b[0mcheck_X_params\u001b[0m\u001b[0;34m,\u001b[0m \u001b[0mcheck_y_params\u001b[0m\u001b[0;34m)\u001b[0m\u001b[0;34m\u001b[0m\u001b[0;34m\u001b[0m\u001b[0m\n\u001b[1;32m    167\u001b[0m             )\n",
      "\u001b[0;32m/usr/local/anaconda3/lib/python3.9/site-packages/sklearn/base.py\u001b[0m in \u001b[0;36m_validate_data\u001b[0;34m(self, X, y, reset, validate_separately, **check_params)\u001b[0m\n\u001b[1;32m    576\u001b[0m                 \u001b[0;31m# :(\u001b[0m\u001b[0;34m\u001b[0m\u001b[0;34m\u001b[0m\u001b[0m\n\u001b[1;32m    577\u001b[0m                 \u001b[0mcheck_X_params\u001b[0m\u001b[0;34m,\u001b[0m \u001b[0mcheck_y_params\u001b[0m \u001b[0;34m=\u001b[0m \u001b[0mvalidate_separately\u001b[0m\u001b[0;34m\u001b[0m\u001b[0;34m\u001b[0m\u001b[0m\n\u001b[0;32m--> 578\u001b[0;31m                 \u001b[0mX\u001b[0m \u001b[0;34m=\u001b[0m \u001b[0mcheck_array\u001b[0m\u001b[0;34m(\u001b[0m\u001b[0mX\u001b[0m\u001b[0;34m,\u001b[0m \u001b[0;34m**\u001b[0m\u001b[0mcheck_X_params\u001b[0m\u001b[0;34m)\u001b[0m\u001b[0;34m\u001b[0m\u001b[0;34m\u001b[0m\u001b[0m\n\u001b[0m\u001b[1;32m    579\u001b[0m                 \u001b[0my\u001b[0m \u001b[0;34m=\u001b[0m \u001b[0mcheck_array\u001b[0m\u001b[0;34m(\u001b[0m\u001b[0my\u001b[0m\u001b[0;34m,\u001b[0m \u001b[0;34m**\u001b[0m\u001b[0mcheck_y_params\u001b[0m\u001b[0;34m)\u001b[0m\u001b[0;34m\u001b[0m\u001b[0;34m\u001b[0m\u001b[0m\n\u001b[1;32m    580\u001b[0m             \u001b[0;32melse\u001b[0m\u001b[0;34m:\u001b[0m\u001b[0;34m\u001b[0m\u001b[0;34m\u001b[0m\u001b[0m\n",
      "\u001b[0;32m/usr/local/anaconda3/lib/python3.9/site-packages/sklearn/utils/validation.py\u001b[0m in \u001b[0;36mcheck_array\u001b[0;34m(array, accept_sparse, accept_large_sparse, dtype, order, copy, force_all_finite, ensure_2d, allow_nd, ensure_min_samples, ensure_min_features, estimator)\u001b[0m\n\u001b[1;32m    744\u001b[0m                     \u001b[0marray\u001b[0m \u001b[0;34m=\u001b[0m \u001b[0marray\u001b[0m\u001b[0;34m.\u001b[0m\u001b[0mastype\u001b[0m\u001b[0;34m(\u001b[0m\u001b[0mdtype\u001b[0m\u001b[0;34m,\u001b[0m \u001b[0mcasting\u001b[0m\u001b[0;34m=\u001b[0m\u001b[0;34m\"unsafe\"\u001b[0m\u001b[0;34m,\u001b[0m \u001b[0mcopy\u001b[0m\u001b[0;34m=\u001b[0m\u001b[0;32mFalse\u001b[0m\u001b[0;34m)\u001b[0m\u001b[0;34m\u001b[0m\u001b[0;34m\u001b[0m\u001b[0m\n\u001b[1;32m    745\u001b[0m                 \u001b[0;32melse\u001b[0m\u001b[0;34m:\u001b[0m\u001b[0;34m\u001b[0m\u001b[0;34m\u001b[0m\u001b[0m\n\u001b[0;32m--> 746\u001b[0;31m                     \u001b[0marray\u001b[0m \u001b[0;34m=\u001b[0m \u001b[0mnp\u001b[0m\u001b[0;34m.\u001b[0m\u001b[0masarray\u001b[0m\u001b[0;34m(\u001b[0m\u001b[0marray\u001b[0m\u001b[0;34m,\u001b[0m \u001b[0morder\u001b[0m\u001b[0;34m=\u001b[0m\u001b[0morder\u001b[0m\u001b[0;34m,\u001b[0m \u001b[0mdtype\u001b[0m\u001b[0;34m=\u001b[0m\u001b[0mdtype\u001b[0m\u001b[0;34m)\u001b[0m\u001b[0;34m\u001b[0m\u001b[0;34m\u001b[0m\u001b[0m\n\u001b[0m\u001b[1;32m    747\u001b[0m             \u001b[0;32mexcept\u001b[0m \u001b[0mComplexWarning\u001b[0m \u001b[0;32mas\u001b[0m \u001b[0mcomplex_warning\u001b[0m\u001b[0;34m:\u001b[0m\u001b[0;34m\u001b[0m\u001b[0;34m\u001b[0m\u001b[0m\n\u001b[1;32m    748\u001b[0m                 raise ValueError(\n",
      "\u001b[0;32m/usr/local/anaconda3/lib/python3.9/site-packages/pandas/core/generic.py\u001b[0m in \u001b[0;36m__array__\u001b[0;34m(self, dtype)\u001b[0m\n\u001b[1;32m   2062\u001b[0m \u001b[0;34m\u001b[0m\u001b[0m\n\u001b[1;32m   2063\u001b[0m     \u001b[0;32mdef\u001b[0m \u001b[0m__array__\u001b[0m\u001b[0;34m(\u001b[0m\u001b[0mself\u001b[0m\u001b[0;34m,\u001b[0m \u001b[0mdtype\u001b[0m\u001b[0;34m:\u001b[0m \u001b[0mnpt\u001b[0m\u001b[0;34m.\u001b[0m\u001b[0mDTypeLike\u001b[0m \u001b[0;34m|\u001b[0m \u001b[0;32mNone\u001b[0m \u001b[0;34m=\u001b[0m \u001b[0;32mNone\u001b[0m\u001b[0;34m)\u001b[0m \u001b[0;34m->\u001b[0m \u001b[0mnp\u001b[0m\u001b[0;34m.\u001b[0m\u001b[0mndarray\u001b[0m\u001b[0;34m:\u001b[0m\u001b[0;34m\u001b[0m\u001b[0;34m\u001b[0m\u001b[0m\n\u001b[0;32m-> 2064\u001b[0;31m         \u001b[0;32mreturn\u001b[0m \u001b[0mnp\u001b[0m\u001b[0;34m.\u001b[0m\u001b[0masarray\u001b[0m\u001b[0;34m(\u001b[0m\u001b[0mself\u001b[0m\u001b[0;34m.\u001b[0m\u001b[0m_values\u001b[0m\u001b[0;34m,\u001b[0m \u001b[0mdtype\u001b[0m\u001b[0;34m=\u001b[0m\u001b[0mdtype\u001b[0m\u001b[0;34m)\u001b[0m\u001b[0;34m\u001b[0m\u001b[0;34m\u001b[0m\u001b[0m\n\u001b[0m\u001b[1;32m   2065\u001b[0m \u001b[0;34m\u001b[0m\u001b[0m\n\u001b[1;32m   2066\u001b[0m     def __array_wrap__(\n",
      "\u001b[0;31mTypeError\u001b[0m: float() argument must be a string or a number, not 'NaTType'"
     ]
    }
   ],
   "source": [
    "# Make and fit DTC of 2-15 depth to train\n",
    "for i in range(2, 16):\n",
    "    dtc = DTC(max_depth=i, random_state=100)\n",
    "    dtc.fit(x_train, y_train)\n",
    "    model = dtc.predict(x_train)\n",
    "    trainscore = round(dtc.score(x_train, y_train), 5)\n",
    "    valscore = round(dtc.score(x_val, y_val), 5)\n",
    "    diffscore = round(abs(trainscore - valscore), 5)\n",
    "    testscore = round(dtc.score(x_test, y_test), 5)\n",
    "    dtcscores['model'].append(f'model{i}')\n",
    "    dtcscores['train'].append(trainscore)\n",
    "    dtcscores['val'].append(valscore)\n",
    "    dtcscores['diff'].append(diffscore)\n",
    "    dtcscores['test'].append(testscore)"
   ]
  },
  {
   "cell_type": "code",
   "execution_count": 225,
   "id": "7796acf6",
   "metadata": {},
   "outputs": [
    {
     "data": {
      "text/html": [
       "<div>\n",
       "<style scoped>\n",
       "    .dataframe tbody tr th:only-of-type {\n",
       "        vertical-align: middle;\n",
       "    }\n",
       "\n",
       "    .dataframe tbody tr th {\n",
       "        vertical-align: top;\n",
       "    }\n",
       "\n",
       "    .dataframe thead th {\n",
       "        text-align: right;\n",
       "    }\n",
       "</style>\n",
       "<table border=\"1\" class=\"dataframe\">\n",
       "  <thead>\n",
       "    <tr style=\"text-align: right;\">\n",
       "      <th></th>\n",
       "      <th>model</th>\n",
       "      <th>train</th>\n",
       "      <th>val</th>\n",
       "      <th>diff</th>\n",
       "      <th>test</th>\n",
       "    </tr>\n",
       "  </thead>\n",
       "  <tbody>\n",
       "    <tr>\n",
       "      <th>0</th>\n",
       "      <td>actual</td>\n",
       "      <td>100.00000</td>\n",
       "      <td>100.0000</td>\n",
       "      <td>0.00000</td>\n",
       "      <td>100.00000</td>\n",
       "    </tr>\n",
       "    <tr>\n",
       "      <th>15</th>\n",
       "      <td>model15</td>\n",
       "      <td>0.97286</td>\n",
       "      <td>0.7191</td>\n",
       "      <td>0.25376</td>\n",
       "      <td>0.71398</td>\n",
       "    </tr>\n",
       "  </tbody>\n",
       "</table>\n",
       "</div>"
      ],
      "text/plain": [
       "      model      train       val     diff       test\n",
       "0    actual  100.00000  100.0000  0.00000  100.00000\n",
       "15  model15    0.97286    0.7191  0.25376    0.71398"
      ]
     },
     "execution_count": 225,
     "metadata": {},
     "output_type": "execute_result"
    }
   ],
   "source": [
    "# Find best 'train' model\n",
    "pd.DataFrame.from_dict(dtcscores).sort_values(by='train', ascending=False).head(2)"
   ]
  },
  {
   "cell_type": "code",
   "execution_count": 226,
   "id": "a2ada0f1",
   "metadata": {},
   "outputs": [
    {
     "data": {
      "text/html": [
       "<div>\n",
       "<style scoped>\n",
       "    .dataframe tbody tr th:only-of-type {\n",
       "        vertical-align: middle;\n",
       "    }\n",
       "\n",
       "    .dataframe tbody tr th {\n",
       "        vertical-align: top;\n",
       "    }\n",
       "\n",
       "    .dataframe thead th {\n",
       "        text-align: right;\n",
       "    }\n",
       "</style>\n",
       "<table border=\"1\" class=\"dataframe\">\n",
       "  <thead>\n",
       "    <tr style=\"text-align: right;\">\n",
       "      <th></th>\n",
       "      <th>model</th>\n",
       "      <th>train</th>\n",
       "      <th>val</th>\n",
       "      <th>diff</th>\n",
       "      <th>test</th>\n",
       "    </tr>\n",
       "  </thead>\n",
       "  <tbody>\n",
       "    <tr>\n",
       "      <th>0</th>\n",
       "      <td>actual</td>\n",
       "      <td>100.00000</td>\n",
       "      <td>100.00000</td>\n",
       "      <td>0.00000</td>\n",
       "      <td>100.00000</td>\n",
       "    </tr>\n",
       "    <tr>\n",
       "      <th>3</th>\n",
       "      <td>model3</td>\n",
       "      <td>0.79787</td>\n",
       "      <td>0.78001</td>\n",
       "      <td>0.01786</td>\n",
       "      <td>0.76579</td>\n",
       "    </tr>\n",
       "  </tbody>\n",
       "</table>\n",
       "</div>"
      ],
      "text/plain": [
       "    model      train        val     diff       test\n",
       "0  actual  100.00000  100.00000  0.00000  100.00000\n",
       "3  model3    0.79787    0.78001  0.01786    0.76579"
      ]
     },
     "execution_count": 226,
     "metadata": {},
     "output_type": "execute_result"
    }
   ],
   "source": [
    "# Find best 'val' model\n",
    "pd.DataFrame.from_dict(dtcscores).sort_values(by='val', ascending=False).head(2)"
   ]
  },
  {
   "cell_type": "code",
   "execution_count": 227,
   "id": "8d7d2f53",
   "metadata": {},
   "outputs": [
    {
     "data": {
      "text/html": [
       "<div>\n",
       "<style scoped>\n",
       "    .dataframe tbody tr th:only-of-type {\n",
       "        vertical-align: middle;\n",
       "    }\n",
       "\n",
       "    .dataframe tbody tr th {\n",
       "        vertical-align: top;\n",
       "    }\n",
       "\n",
       "    .dataframe thead th {\n",
       "        text-align: right;\n",
       "    }\n",
       "</style>\n",
       "<table border=\"1\" class=\"dataframe\">\n",
       "  <thead>\n",
       "    <tr style=\"text-align: right;\">\n",
       "      <th></th>\n",
       "      <th>model</th>\n",
       "      <th>train</th>\n",
       "      <th>val</th>\n",
       "      <th>diff</th>\n",
       "      <th>test</th>\n",
       "    </tr>\n",
       "  </thead>\n",
       "  <tbody>\n",
       "    <tr>\n",
       "      <th>0</th>\n",
       "      <td>actual</td>\n",
       "      <td>100.00000</td>\n",
       "      <td>100.00000</td>\n",
       "      <td>0.0000</td>\n",
       "      <td>100.0000</td>\n",
       "    </tr>\n",
       "    <tr>\n",
       "      <th>4</th>\n",
       "      <td>model4</td>\n",
       "      <td>0.80142</td>\n",
       "      <td>0.77292</td>\n",
       "      <td>0.0285</td>\n",
       "      <td>0.7665</td>\n",
       "    </tr>\n",
       "  </tbody>\n",
       "</table>\n",
       "</div>"
      ],
      "text/plain": [
       "    model      train        val    diff      test\n",
       "0  actual  100.00000  100.00000  0.0000  100.0000\n",
       "4  model4    0.80142    0.77292  0.0285    0.7665"
      ]
     },
     "execution_count": 227,
     "metadata": {},
     "output_type": "execute_result"
    }
   ],
   "source": [
    "# Find best 'test' model\n",
    "pd.DataFrame.from_dict(dtcscores).sort_values(by='test', ascending=False).head(2)"
   ]
  },
  {
   "cell_type": "code",
   "execution_count": 142,
   "id": "1d45a0de",
   "metadata": {},
   "outputs": [
    {
     "name": "stdout",
     "output_type": "stream",
     "text": [
      "[[125 249]\n",
      " [ 78 957]]\n"
     ]
    },
    {
     "data": {
      "text/plain": [
       "0.6157635467980296"
      ]
     },
     "execution_count": 142,
     "metadata": {},
     "output_type": "execute_result"
    }
   ],
   "source": [
    "dtc = DTC(max_depth=3, \n",
    "          min_impurity_decrease=0.006,\n",
    "          random_state=100)\n",
    "dtc.fit(x_train, y_train)\n",
    "model = dtc.predict(x_test)\n",
    "matrix = confusion_matrix(y_test, model, labels=('Yes', 'No'))\n",
    "print(matrix)\n",
    "(matrix[0, 0] / (matrix[0, 0] + matrix[1, 0]))"
   ]
  },
  {
   "cell_type": "markdown",
   "id": "bb673a03",
   "metadata": {},
   "source": [
    "- Best Train Model:\n",
    "    - model 15 @ 88.1%\n",
    "        - Restrictions:\n",
    "            - max_depth = 15\n",
    "            - random_state=100\n",
    "- Best Validate Model:\n",
    "    - model 4 @ 76.8%\n",
    "        - Restrictions:\n",
    "            - max_depth = 4\n",
    "            - random_state=100\n",
    "- Best Test Model:\n",
    "    - model 4 @ 76.0%\n",
    "        - Restrictions:\n",
    "            - max_depth = 4\n",
    "            - random_state=100\n",
    "- Baseline:\n",
    "    - 73.5%"
   ]
  },
  {
   "cell_type": "markdown",
   "id": "a4da4c00",
   "metadata": {},
   "source": [
    "<a id='RFC'></a>\n",
    "# Random Forest Classifier Modeling:\n",
    "<li><a href='#TableOfContents'>Table of Contents</a></li>"
   ]
  },
  {
   "cell_type": "code",
   "execution_count": null,
   "id": "223e1db3",
   "metadata": {},
   "outputs": [],
   "source": [
    "# Create base dictionary\n",
    "rfcscores = {\n",
    "    'model' : ['actual'],\n",
    "    'train' : [100],\n",
    "    'val' : [100],\n",
    "    'diff' : [0],\n",
    "    'test' : [100]\n",
    "}"
   ]
  },
  {
   "cell_type": "code",
   "execution_count": null,
   "id": "f1821987",
   "metadata": {},
   "outputs": [],
   "source": [
    "# Add baseline to dictionary\n",
    "baselinetrain = round((train.churn == 'No').mean(), 5)\n",
    "baselineval = round((val.churn == 'No').mean(), 5)\n",
    "baselinediff = round(abs(baselinetrain - baselineval), 5)\n",
    "baselinetest = round((test.churn == 'No').mean(), 5)\n",
    "rfcscores['model'].append('baseline')\n",
    "rfcscores['train'].append(baselinetrain)\n",
    "rfcscores['val'].append(baselineval)\n",
    "rfcscores['diff'].append(baselinediff)\n",
    "rfcscores['test'].append(baselinetest)"
   ]
  },
  {
   "cell_type": "code",
   "execution_count": null,
   "id": "4103295c",
   "metadata": {},
   "outputs": [],
   "source": [
    "# Confirm df funcitonality with actual and baseline\n",
    "pd.DataFrame.from_dict(rfcscores)"
   ]
  },
  {
   "cell_type": "code",
   "execution_count": null,
   "id": "37e98747",
   "metadata": {},
   "outputs": [],
   "source": [
    "# Make and fit RFC of 2-15 depth to train\n",
    "for i in range(2, 16):\n",
    "    rfc = RFC(max_depth=i, random_state=100)\n",
    "    rfc.fit(x_train, y_train)\n",
    "    model = rfc.predict(x_train)\n",
    "    trainscore = round(rfc.score(x_train, y_train), 5)\n",
    "    valscore = round(rfc.score(x_val, y_val), 5)\n",
    "    diffscore = round(abs(trainscore - valscore), 5)\n",
    "    testscore = round(rfc.score(x_test, y_test), 5)\n",
    "    rfcscores['model'].append(f'model{i}')\n",
    "    rfcscores['train'].append(trainscore)\n",
    "    rfcscores['val'].append(valscore)\n",
    "    rfcscores['diff'].append(diffscore)\n",
    "    rfcscores['test'].append(testscore)"
   ]
  },
  {
   "cell_type": "code",
   "execution_count": null,
   "id": "63e3cb95",
   "metadata": {},
   "outputs": [],
   "source": [
    "# Find best 'train' model\n",
    "pd.DataFrame.from_dict(rfcscores).sort_values(by='train', ascending=False).head(2)"
   ]
  },
  {
   "cell_type": "code",
   "execution_count": null,
   "id": "40d8d351",
   "metadata": {},
   "outputs": [],
   "source": [
    "# Find best 'val' model\n",
    "pd.DataFrame.from_dict(rfcscores).sort_values(by='val', ascending=False).head(2)"
   ]
  },
  {
   "cell_type": "code",
   "execution_count": null,
   "id": "817b5272",
   "metadata": {},
   "outputs": [],
   "source": [
    "# Find best 'test' model\n",
    "pd.DataFrame.from_dict(rfcscores).sort_values(by='test', ascending=False).head(2)"
   ]
  },
  {
   "cell_type": "markdown",
   "id": "071eda65",
   "metadata": {},
   "source": [
    "- Best Train Model:\n",
    "    - model 15 @ 88.1%\n",
    "        - Restrictions:\n",
    "            - max_depth = 15\n",
    "            - random_state=100\n",
    "- Best Validate Model:\n",
    "    - model 6 @ 76.6%\n",
    "        - Restrictions:\n",
    "            - max_depth = 6\n",
    "            - random_state=100\n",
    "- Best Test Model:\n",
    "    - model 6 @ 76.7%\n",
    "        - Restrictions:\n",
    "            - max_depth = 6\n",
    "            - random_state=100\n",
    "- Baseline:\n",
    "    - 73.5%"
   ]
  },
  {
   "cell_type": "markdown",
   "id": "b92d0c66",
   "metadata": {},
   "source": [
    "<a id='KNN'></a>\n",
    "# K-Nearest Neighbors Modeling:\n",
    "<li><a href='#TableOfContents'>Table of Contents</a></li>"
   ]
  },
  {
   "cell_type": "code",
   "execution_count": null,
   "id": "adcbbe04",
   "metadata": {},
   "outputs": [],
   "source": [
    "# Create base dictionary\n",
    "knnscores = {\n",
    "    'model' : ['actual'],\n",
    "    'train' : [100],\n",
    "    'val' : [100],\n",
    "    'diff' : [0],\n",
    "    'test' : [100]\n",
    "}"
   ]
  },
  {
   "cell_type": "code",
   "execution_count": null,
   "id": "39092df4",
   "metadata": {},
   "outputs": [],
   "source": [
    "# Add baseline to dictionary\n",
    "baselinetrain = round((train.churn == 'No').mean(), 5)\n",
    "baselineval = round((val.churn == 'No').mean(), 5)\n",
    "baselinediff = round(abs(baselinetrain - baselineval), 5)\n",
    "baselinetest = round((test.churn == 'No').mean(), 5)\n",
    "knnscores['model'].append('baseline')\n",
    "knnscores['train'].append(baselinetrain)\n",
    "knnscores['val'].append(baselineval)\n",
    "knnscores['diff'].append(baselinediff)\n",
    "knnscores['test'].append(baselinetest)"
   ]
  },
  {
   "cell_type": "code",
   "execution_count": null,
   "id": "749eb80d",
   "metadata": {},
   "outputs": [],
   "source": [
    "# Confirm df funcitonality with actual and baseline\n",
    "pd.DataFrame.from_dict(knnscores)"
   ]
  },
  {
   "cell_type": "code",
   "execution_count": null,
   "id": "fbec7d53",
   "metadata": {},
   "outputs": [],
   "source": [
    "# Make and fit KNN of 1-15 neighbors to train\n",
    "for i in range(1, 16):\n",
    "    knn = KNN(n_neighbors=i)\n",
    "    knn.fit(x_train, y_train)\n",
    "    model = knn.predict(x_train)\n",
    "    trainscore = round(knn.score(x_train, y_train), 5)\n",
    "    valscore = round(knn.score(x_val, y_val), 5)\n",
    "    diffscore = round(abs(trainscore - valscore), 5)\n",
    "    testscore = round(knn.score(x_test, y_test), 5)\n",
    "    knnscores['model'].append(f'model{i}')\n",
    "    knnscores['train'].append(trainscore)\n",
    "    knnscores['val'].append(valscore)\n",
    "    knnscores['diff'].append(diffscore)\n",
    "    knnscores['test'].append(testscore)"
   ]
  },
  {
   "cell_type": "code",
   "execution_count": null,
   "id": "24e64699",
   "metadata": {},
   "outputs": [],
   "source": [
    "# Find best 'train' model\n",
    "pd.DataFrame.from_dict(knnscores).sort_values(by='train', ascending=False).head(2)"
   ]
  },
  {
   "cell_type": "code",
   "execution_count": null,
   "id": "81d8c15b",
   "metadata": {},
   "outputs": [],
   "source": [
    "# Find best 'val' model\n",
    "pd.DataFrame.from_dict(knnscores).sort_values(by='val', ascending=False).head(2)"
   ]
  },
  {
   "cell_type": "code",
   "execution_count": null,
   "id": "f2a4f96e",
   "metadata": {},
   "outputs": [],
   "source": [
    "# Find best 'test' model\n",
    "pd.DataFrame.from_dict(knnscores).sort_values(by='test', ascending=False).head(2)"
   ]
  },
  {
   "cell_type": "markdown",
   "id": "b5e928b2",
   "metadata": {},
   "source": [
    "- Best Train Model:\n",
    "    - model 1 @ 84.8%\n",
    "        - Restrictions:\n",
    "            - n_neighbors = 1\n",
    "- Best Validate Model:\n",
    "    - model 12 @ 74.7%\n",
    "        - Restrictions:\n",
    "            - n_neighbors = 12\n",
    "- Best Test Model:\n",
    "    - model 14 @ 74.9%\n",
    "        - Restrictions:\n",
    "            - n_neighbors = 14\n",
    "- Baseline:\n",
    "    - 73.5%"
   ]
  },
  {
   "cell_type": "markdown",
   "id": "01052b01",
   "metadata": {},
   "source": [
    "<a id='LR'></a>\n",
    "# Logistic Regression Modeling:\n",
    "<li><a href='#TableOfContents'>Table of Contents</a></li>"
   ]
  },
  {
   "cell_type": "code",
   "execution_count": null,
   "id": "8abf8b5f",
   "metadata": {},
   "outputs": [],
   "source": [
    "# Create base dictionary\n",
    "lrscores = {\n",
    "    'model' : ['actual'],\n",
    "    'train' : [100],\n",
    "    'val' : [100],\n",
    "    'diff' : [0],\n",
    "    'test' : [100]\n",
    "}"
   ]
  },
  {
   "cell_type": "code",
   "execution_count": null,
   "id": "2edd15b3",
   "metadata": {},
   "outputs": [],
   "source": [
    "# Add baseline to dictionary\n",
    "baselinetrain = round((train.churn == 'No').mean(), 5)\n",
    "baselineval = round((val.churn == 'No').mean(), 5)\n",
    "baselinediff = round(abs(baselinetrain - baselineval), 5)\n",
    "baselinetest = round((test.churn == 'No').mean(), 5)\n",
    "lrscores['model'].append('baseline')\n",
    "lrscores['train'].append(baselinetrain)\n",
    "lrscores['val'].append(baselineval)\n",
    "lrscores['diff'].append(baselinediff)\n",
    "lrscores['test'].append(baselinetest)"
   ]
  },
  {
   "cell_type": "code",
   "execution_count": null,
   "id": "fbb67157",
   "metadata": {},
   "outputs": [],
   "source": [
    "# Confirm df funcitonality with actual and baseline\n",
    "pd.DataFrame.from_dict(lrscores)"
   ]
  },
  {
   "cell_type": "code",
   "execution_count": null,
   "id": "aeef3941",
   "metadata": {},
   "outputs": [],
   "source": [
    "# Make and fit LR to train\n",
    "lr = LR(random_state=100)\n",
    "lr.fit(x_train, y_train)\n",
    "model = lr.predict(x_train)\n",
    "trainscore = round(lr.score(x_train, y_train), 5)\n",
    "valscore = round(lr.score(x_val, y_val), 5)\n",
    "diffscore = round(abs(trainscore - valscore), 5)\n",
    "testscore = round(lr.score(x_test, y_test), 5)\n",
    "lrscores['model'].append('model1')\n",
    "lrscores['train'].append(trainscore)\n",
    "lrscores['val'].append(valscore)\n",
    "lrscores['diff'].append(diffscore)\n",
    "lrscores['test'].append(testscore)"
   ]
  },
  {
   "cell_type": "code",
   "execution_count": null,
   "id": "6738a067",
   "metadata": {},
   "outputs": [],
   "source": [
    "# Find best 'train' model\n",
    "pd.DataFrame.from_dict(lrscores).sort_values(by='train', ascending=False).head(2)"
   ]
  },
  {
   "cell_type": "markdown",
   "id": "fa453d64",
   "metadata": {},
   "source": [
    "- Best Train Model:\n",
    "    - model 1 @ 79.5%\n",
    "        - Restrictions:\n",
    "            - random_state=100\n",
    "- Best Validate Model:\n",
    "    - model 1 @ 75.9%\n",
    "        - Restrictions:\n",
    "            - random_state=100\n",
    "- Best Test Model:\n",
    "    - model 1 @ 76.2%\n",
    "        - Restrictions:\n",
    "            - random_state=100\n",
    "- Baseline:\n",
    "    - 73.5%"
   ]
  },
  {
   "cell_type": "markdown",
   "id": "95ee4e25",
   "metadata": {},
   "source": [
    "<a id='top3'></a>\n",
    "# Top 3 Models:\n",
    "<li><a href='#TableOfContents'>Table of Contents</a></li>"
   ]
  },
  {
   "cell_type": "code",
   "execution_count": null,
   "id": "51e4a400",
   "metadata": {},
   "outputs": [],
   "source": []
  }
 ],
 "metadata": {
  "kernelspec": {
   "display_name": "Python 3 (ipykernel)",
   "language": "python",
   "name": "python3"
  },
  "language_info": {
   "codemirror_mode": {
    "name": "ipython",
    "version": 3
   },
   "file_extension": ".py",
   "mimetype": "text/x-python",
   "name": "python",
   "nbconvert_exporter": "python",
   "pygments_lexer": "ipython3",
   "version": "3.9.13"
  }
 },
 "nbformat": 4,
 "nbformat_minor": 5
}
